{
 "cells": [
  {
   "cell_type": "markdown",
   "metadata": {},
   "source": [
    "Before you turn this problem in, make sure everything runs as expected. First, **restart the kernel** (in the menubar, select Kernel$\\rightarrow$Restart) and then **run all cells** (in the menubar, select Cell$\\rightarrow$Run All).\n",
    "\n",
    "Make sure you fill in any place that says `YOUR CODE HERE` and that you delete any **raise NotImplementedError()** once you have filled in your code. Enter your student identifier below:"
   ]
  },
  {
   "cell_type": "code",
   "execution_count": null,
   "metadata": {},
   "outputs": [],
   "source": [
    "STUDENT ID = \"200878566\""
   ]
  },
  {
   "cell_type": "markdown",
   "metadata": {
    "deletable": false,
    "editable": false,
    "nbgrader": {
     "cell_type": "markdown",
     "checksum": "fdd840b9ab44a389a644d4ff41790a9a",
     "grade": false,
     "grade_id": "cell-6ded9e10fb35754f",
     "locked": true,
     "schema_version": 3,
     "solution": false,
     "task": false
    }
   },
   "source": [
    "# MTH786U/P final assessment template\n",
    "\n",
    "This is the coding template for the final assessment of MTH786U/P in 2020/2021.\n",
    "\n",
    "The goal of this assessment is to classify hand-written digits from the [MNIST database](https://en.wikipedia.org/wiki/MNIST_database) and to present your results in a written report (at most 8 pages). The assessment is formed of three parts: 1) filling in the missing parts of this Jupyter notebook, 2) applying learned concepts from this notebook and the module MTH786 in general to the MNIST classification problem, and 3) presenting your results in a written report (written in $\\LaTeX$). \n",
    "\n",
    "Author: [Martin Benning](mailto:m.benning@qmul.ac.uk)\n",
    "\n",
    "Date: 18.11.2020\n",
    "\n",
    "Follow the instructions in this template in order to complete the first part of your assessment. Please only modify cells where you are instructed to do so. Failure to comply may result in unexpected errors that can lead to mark deductions. We load the Numpy and Matplotlib libraries. Please do not add any additional libraries here but at a later stage if required."
   ]
  },
  {
   "cell_type": "code",
   "execution_count": 5,
   "metadata": {
    "deletable": false,
    "editable": false,
    "nbgrader": {
     "cell_type": "code",
     "checksum": "5bd7074d1695e70e8c0a936b29704da2",
     "grade": false,
     "grade_id": "cell-a633ccf06b277795",
     "locked": true,
     "schema_version": 3,
     "solution": false,
     "task": false
    }
   },
   "outputs": [],
   "source": [
    "import numpy as np\n",
    "import matplotlib.pyplot as plt"
   ]
  },
  {
   "cell_type": "code",
   "execution_count": 6,
   "metadata": {},
   "outputs": [],
   "source": [
    "%matplotlib inline"
   ]
  },
  {
   "cell_type": "markdown",
   "metadata": {
    "deletable": false,
    "editable": false,
    "nbgrader": {
     "cell_type": "markdown",
     "checksum": "8b8af802f1a0231178e470649ea44639",
     "grade": false,
     "grade_id": "cell-1521ab82136c8e27",
     "locked": true,
     "schema_version": 3,
     "solution": false,
     "task": false
    }
   },
   "source": [
    "## Binary logistic regression\n",
    "\n",
    "For the first part of your final assessment you are required to implement the logistic regression model for binary classification problems as introduced in the lectures. Following up on what you have learned in the lectures and tutorials, complete the following tasks.\n",
    "\n",
    "Write a function ***logistic_function*** that takes an argument named _inputs_ and returns the output of the logistic function, i.e.\n",
    "\n",
    "\\begin{align*}\n",
    "\\frac{1}{1 + \\exp(-x)} \\, ,\n",
    "\\end{align*}\n",
    "\n",
    "applied to the input. Here $x$ is the mathematical notation for the argument _inputs_."
   ]
  },
  {
   "cell_type": "code",
   "execution_count": 7,
   "metadata": {
    "deletable": false,
    "nbgrader": {
     "cell_type": "code",
     "checksum": "f7a31ab463bfd733a5550c57433d06c3",
     "grade": false,
     "grade_id": "logistic-function",
     "locked": false,
     "schema_version": 3,
     "solution": true,
     "task": false
    }
   },
   "outputs": [],
   "source": [
    "def logistic_function(inputs):\n",
    "    # YOUR CODE HERE\n",
    "    value = 1/(1+np.exp(-(inputs)))\n",
    "    return value"
   ]
  },
  {
   "cell_type": "markdown",
   "metadata": {
    "deletable": false,
    "editable": false,
    "nbgrader": {
     "cell_type": "markdown",
     "checksum": "9d4000621fded3ac2c0b5634489af1d6",
     "grade": false,
     "grade_id": "cell-002e14c765e68b53",
     "locked": true,
     "schema_version": 3,
     "solution": false,
     "task": false
    }
   },
   "source": [
    "Test your function with the following unit tests. Passing this test will be awarded with **2 marks**. Please note that not all unit tests are visible to you."
   ]
  },
  {
   "cell_type": "code",
   "execution_count": 8,
   "metadata": {
    "deletable": false,
    "editable": false,
    "nbgrader": {
     "cell_type": "code",
     "checksum": "ade774ac5cf141a9edbb4f46f707c70d",
     "grade": true,
     "grade_id": "logistic-function-test",
     "locked": true,
     "points": 2,
     "schema_version": 3,
     "solution": false,
     "task": false
    }
   },
   "outputs": [],
   "source": [
    "from numpy.testing import assert_array_almost_equal, assert_array_equal\n",
    "test_inputs = np.array([[0], [np.log(5)], [-3], [np.log(3)], [1]])\n",
    "assert_array_almost_equal(logistic_function(test_inputs), np.array([[1/2], [5/6], [0.04742587317756], \\\n",
    "                            [3/4], [np.exp(1)/(1 + np.exp(1))]]))"
   ]
  },
  {
   "cell_type": "markdown",
   "metadata": {
    "deletable": false,
    "editable": false,
    "nbgrader": {
     "cell_type": "markdown",
     "checksum": "04ff095166cb1042179a534a57f7f5c4",
     "grade": false,
     "grade_id": "cell-8e2b052a692ae3ca",
     "locked": true,
     "schema_version": 3,
     "solution": false,
     "task": false
    }
   },
   "source": [
    "For the next exercise, write two functions that implement the objective function for binary logistic regression as well as its gradient, as defined in the lecture notes. The function for the objective function is named **binary_logistic_regression_cost_function** and should take the NumPy arrays _data_matrix_, _weights_ and _outputs_ as arguments. Here, _data_matrix_ is supposed to be a polynomial basis matrix, while _weights_ denotes the vector of weight parameters and _outputs_ is the vector of binary outputs (with values in $\\{0, 1\\}$). In order to generate a polynomial basis matrix, fill in the function **polynomial_basis**. You can follow the [solution](https://qmplus.qmul.ac.uk/mod/resource/view.php?id=1416413) of [Coursework 4](https://qmplus.qmul.ac.uk/pluginfile.php/2220881/mod_resource/content/4/coursework04.pdf) or use your own version, as long as it is consistent with the function header specified in the next cell and with the requested output. Subsequently, write a method **binary_logistic_regression_gradient** that takes the same inputs as **binary_logistic_regression_cost_function** and computes the gradient of the binary logistic regression cost function as defined in the lecture."
   ]
  },
  {
   "cell_type": "code",
   "execution_count": 9,
   "metadata": {
    "deletable": false,
    "nbgrader": {
     "cell_type": "code",
     "checksum": "32f2b5001d7a1881ffa12451d5133cb8",
     "grade": false,
     "grade_id": "logistic-cost-function",
     "locked": false,
     "schema_version": 3,
     "solution": true,
     "task": false
    }
   },
   "outputs": [],
   "source": [
    "def polynomial_basis(inputs, degree=1):\n",
    "    \n",
    "    basis_matrix = np.ones((len(inputs), 1))\n",
    "    for counter in range(1, degree + 1):\n",
    "        basis_matrix = np.c_[basis_matrix, np.power(inputs, counter)]\n",
    "    return basis_matrix\n",
    "   \n",
    "\n",
    "def binary_logistic_regression_cost_function(data_matrix, weights, outputs):\n",
    "    s = data_matrix.shape[0]\n",
    "    values = []\n",
    "    for i in range(s):\n",
    "        result = np.log(1 + np.exp(data_matrix[i,:]@weights)) - (outputs[i]*(data_matrix[i,:]@weights))\n",
    "        values.append(result)\n",
    "    return np.sum(values)\n",
    "    \n",
    "    \n",
    "def binary_logistic_regression_gradient(data_matrix, weights, outputs):\n",
    "    result = data_matrix.T @ (logistic_function(data_matrix@weights) - outputs)\n",
    "    return result\n",
    "\n"
   ]
  },
  {
   "cell_type": "markdown",
   "metadata": {
    "deletable": false,
    "editable": false,
    "nbgrader": {
     "cell_type": "markdown",
     "checksum": "766d8951af9708ef7c8c6be80d721575",
     "grade": false,
     "grade_id": "cell-ee5c7e3b09c4f3f4",
     "locked": true,
     "schema_version": 3,
     "solution": false,
     "task": false
    }
   },
   "source": [
    "After writing Python functions for the binary logistic regression cost function and its gradient, fill in the following notebook functions for the implementation of a gradient descent method. For the first function it is acceptable to follow the solution of Coursework 6, or to use your own version if is consistent with function header and output. For the second gradient descent function named **gradient_descent_v2**, modify the gradient descent method to include a stopping criterion that ensures that gradient descent stops once\n",
    "\n",
    "\\begin{align*}\n",
    "\\| \\nabla L(w^k) \\| \\leq \\text{tolerance}\n",
    "\\end{align*}\n",
    "\n",
    "is satisfied. Here $L$ and $w^k$ are the mathematical representations of the objective _objective_ and the weight vector _weights_, at iteration $k$. The parameter _tolerance_ is a non-negative threshold that controls the Euclidean norm of the gradient. The function **gradient_descent_v2** takes the arguments _objective_, _gradient_, _initial_weights_, _step_size_, _no_of_iterations_, _print_output_ and _tolerance_. The arguments _objective_ and _gradient_ are functions that can take (weight-)arrays as arguments and return the scalar value of the objective, respectively the array representation of the corresponding gradient. The argument _initial_weights_ specifies the initial value of the variable over which you iterate. The argument _step_size_ is the gradient descent step-size parameter, the argument _no_of_iterations_ specifies the maximum number of iterations, _print_output_ determines after how many iterations the function produces a text output and _tolerance_ controls the norm of the gradient as described in the equation above."
   ]
  },
  {
   "cell_type": "code",
   "execution_count": 10,
   "metadata": {
    "deletable": false,
    "nbgrader": {
     "cell_type": "code",
     "checksum": "0a0df2f9342e9204a48960b5885f38d6",
     "grade": false,
     "grade_id": "gradient_descent",
     "locked": false,
     "schema_version": 3,
     "solution": true,
     "task": false
    }
   },
   "outputs": [],
   "source": [
    "def gradient_descent(objective, gradient, initial_weights, step_size=1, no_of_iterations=100, print_output=10):\n",
    "    objective_values = []\n",
    "    weights = np.copy(initial_weights)\n",
    "    objective_values.append(objective(weights))\n",
    "    \n",
    "    for counter in range(no_of_iterations):\n",
    "        weights -= step_size * gradient(weights)\n",
    "        objective_values.append(objective(weights))\n",
    "        \n",
    "        if (counter + 1) % print_output == 0:\n",
    "            print(\"Iteration {k}/{m}, objective = {o}.\".format(k=counter+1, \\\n",
    "                    m=no_of_iterations, o=objective_values[counter]))\n",
    "            \n",
    "    print(\"Iteration completed after {k}/{m}, objective = {o}.\".format(k=counter + 1, \\\n",
    "                m=no_of_iterations, o=objective_values[counter]))\n",
    "    \n",
    "    return weights, objective_values\n",
    "\n",
    "    \n",
    "def gradient_descent_v2(objective, gradient, initial_weights, step_size=1, no_of_iterations=100, \\\n",
    "                        print_output=10, tolerance=1e-6):\n",
    "    \n",
    "    #This creates values for the cost function for each weight\n",
    "    objective_values = []\n",
    "    weights = np.copy(initial_weights)\n",
    "    objective_values.append(objective(weights))\n",
    "    iteration = 0\n",
    "    #This enforces a condition on the one norm of the gradient of the loss function\n",
    "    while np.sum(np.abs(gradient(weights))) < tolerance:\n",
    "        weights -= step_size * gradient(weights)\n",
    "        objective_values.append(objective(weights))\n",
    "        \n",
    "        iteration +=1\n",
    "        if (iteration + 1) % print_output == 0:\n",
    "            print(\"Iteration {k}, objective = {o}.\".format(k=iteration+1, \\\n",
    "                     o=objective_values[iteration]))\n",
    "            \n",
    "    print(\"Iteration completed after {k}/{m}, objective = {o}.\".format(k=iteration + 1, \\\n",
    "                 o=objective_values[iteration]))\n",
    "    \n",
    "    return weights, objective_values\n"
   ]
  },
  {
   "cell_type": "markdown",
   "metadata": {
    "deletable": false,
    "editable": false,
    "nbgrader": {
     "cell_type": "markdown",
     "checksum": "90e8d7a7ec95458b09266c3d92aaaec6",
     "grade": false,
     "grade_id": "cell-c3a6dd3a899dcb5c",
     "locked": true,
     "schema_version": 3,
     "solution": false,
     "task": false
    }
   },
   "source": [
    "In the following cell, write a function **standardise** that standardises the columns of a two-dimensional NumPy array _data_matrix_."
   ]
  },
  {
   "cell_type": "code",
   "execution_count": 11,
   "metadata": {
    "deletable": false,
    "nbgrader": {
     "cell_type": "code",
     "checksum": "924547dca886c6e5532970ba42bdb82c",
     "grade": false,
     "grade_id": "standardise",
     "locked": false,
     "schema_version": 3,
     "solution": true,
     "task": false
    }
   },
   "outputs": [],
   "source": [
    "def standardise(data_matrix):\n",
    "    row_of_means = np.mean(data_matrix,axis = 0)\n",
    "    standardised_matrix = data_matrix - row_of_means\n",
    "    row_of_stds = np.std(standardised_matrix, axis = 0)\n",
    "  \n",
    "    return (standardised_matrix/row_of_stds)\n"
   ]
  },
  {
   "cell_type": "markdown",
   "metadata": {
    "deletable": false,
    "editable": false,
    "nbgrader": {
     "cell_type": "markdown",
     "checksum": "33f3d6517199ac0dd790047f327a3631",
     "grade": false,
     "grade_id": "cell-f74f777a7e81f822",
     "locked": true,
     "schema_version": 3,
     "solution": false,
     "task": false
    }
   },
   "source": [
    "Test your results with the following cell. A total of **3 marks** will be awarded if your function passes the following standard tests. Please note that not all tests are visible to you."
   ]
  },
  {
   "cell_type": "code",
   "execution_count": 12,
   "metadata": {
    "deletable": false,
    "editable": false,
    "nbgrader": {
     "cell_type": "code",
     "checksum": "a0ea50e31317e7e314d2a7d90e46ff41",
     "grade": true,
     "grade_id": "standardisation-test",
     "locked": true,
     "points": 3,
     "schema_version": 3,
     "solution": false,
     "task": false
    }
   },
   "outputs": [],
   "source": [
    "test_matrix = np.array([[1, 2], [3, 4], [5, 6]])\n",
    "assert_array_almost_equal(standardise(test_matrix), np.array([[-1.22474487, -1.22474487], \\\n",
    "                            [0, 0],[1.22474487, 1.22474487]]))"
   ]
  },
  {
   "cell_type": "markdown",
   "metadata": {
    "deletable": false,
    "editable": false,
    "nbgrader": {
     "cell_type": "markdown",
     "checksum": "faa82c0c746059f5e089fd2a8bc80f46",
     "grade": false,
     "grade_id": "cell-4ec03cc4fda49034",
     "locked": true,
     "schema_version": 3,
     "solution": false,
     "task": false
    }
   },
   "source": [
    "To train a simple binary classifier, you require some data. The following cell calls a function that allows you to load the height-weight-gender dataset that you already know from your coursework."
   ]
  },
  {
   "cell_type": "code",
   "execution_count": 13,
   "metadata": {
    "deletable": false,
    "editable": false,
    "nbgrader": {
     "cell_type": "code",
     "checksum": "40ef881fba829b6964f8b1d65fcb6a47",
     "grade": false,
     "grade_id": "cell-d3175e8ccd63fab4",
     "locked": true,
     "schema_version": 3,
     "solution": false,
     "task": false
    },
    "scrolled": true
   },
   "outputs": [
    {
     "data": {
      "image/png": "[encoded data removed]",
      "text/plain": [
       "<Figure size 432x288 with 1 Axes>"
      ]
     },
     "metadata": {
      "needs_background": "light"
     },
     "output_type": "display_data"
    }
   ],
   "source": [
    "from data_loader import load_data\n",
    "height, weight, biological_sex = load_data()\n",
    "biological_sex = np.double(biological_sex).reshape(-1, 1)\n",
    "plt.plot(height, weight, '.', linewidth=3)\n",
    "plt.xlabel('Height in metres', fontsize=16)\n",
    "plt.xticks(fontsize=16)\n",
    "plt.ylabel('Weight in kilogram', fontsize=16)\n",
    "plt.yticks(fontsize=16)\n",
    "plt.tight_layout;"
   ]
  },
  {
   "cell_type": "markdown",
   "metadata": {
    "deletable": false,
    "editable": false,
    "nbgrader": {
     "cell_type": "markdown",
     "checksum": "93ddcbc533969ca2585a24d87b6f10ff",
     "grade": false,
     "grade_id": "cell-1d8cb3da4dac45fa",
     "locked": true,
     "schema_version": 3,
     "solution": false,
     "task": false
    }
   },
   "source": [
    "In the following cell, write code that initialises a polynomial data matrix _data_matrix_ of degree one with the standardised inputs formed from the height and weight arrays of the dataset. Define an objective function _objective_ with argument _weights_ based on the **binary_logistic_regression_cost_function** with fixed arguments _data_matrix_ and _biological_sex_. Repeat the same exercise to create a function _gradient_ based on **binary_logistic_regression_gradient**."
   ]
  },
  {
   "cell_type": "code",
   "execution_count": 14,
   "metadata": {
    "deletable": false,
    "nbgrader": {
     "cell_type": "code",
     "checksum": "c7d63d2842004f750b77a6454bf5006d",
     "grade": false,
     "grade_id": "cell-65673f36b848eab4",
     "locked": false,
     "schema_version": 3,
     "solution": true,
     "task": false
    }
   },
   "outputs": [
    {
     "name": "stdout",
     "output_type": "stream",
     "text": [
      "[[ 1.          1.94406149  2.50579697]\n",
      " [ 1.          0.62753668  0.02710064]\n",
      " [ 1.          2.01244346  1.59780623]\n",
      " ...\n",
      " [ 1.         -0.64968792 -1.02672965]\n",
      " [ 1.          0.69312469  0.07512745]\n",
      " [ 1.         -1.14970831 -1.48850724]]\n"
     ]
    }
   ],
   "source": [
    "\n",
    "#creating the polynomial basis array\n",
    "height_standardised = standardise(height)\n",
    "weight_standardised = standardise(weight)\n",
    "weight_height_std = np.c_[height_standardised,weight_standardised]\n",
    "data_matrix = polynomial_basis(weight_height_std)\n",
    "#checking the polynomial array\n",
    "print(data_matrix)\n",
    "\n",
    "#creating the cost function and gradient\n",
    "objective = lambda weights: binary_logistic_regression_cost_function(data_matrix, weights, biological_sex)\n",
    "gradient = lambda weights: binary_logistic_regression_gradient(data_matrix, weights, biological_sex)\n",
    "\n",
    "\n",
    " "
   ]
  },
  {
   "cell_type": "markdown",
   "metadata": {
    "deletable": false,
    "editable": false,
    "nbgrader": {
     "cell_type": "markdown",
     "checksum": "726095861ab7131322e489c8a33d15f5",
     "grade": false,
     "grade_id": "cell-5c25ca5d2e19856b",
     "locked": true,
     "schema_version": 3,
     "solution": false,
     "task": false
    }
   },
   "source": [
    "Call gradient descent with the following cell to compute _optimal_weights_ for your model."
   ]
  },
  {
   "cell_type": "code",
   "execution_count": 15,
   "metadata": {
    "deletable": false,
    "editable": false,
    "nbgrader": {
     "cell_type": "code",
     "checksum": "7753f6ed0ac1f5a4adbb1ef268caae81",
     "grade": false,
     "grade_id": "cell-fb31b6af5bbbcc9a",
     "locked": true,
     "schema_version": 3,
     "solution": false,
     "task": false
    }
   },
   "outputs": [
    {
     "name": "stdout",
     "output_type": "stream",
     "text": [
      "Iteration 1000/7000, objective = 2091.9568591203943.\n",
      "Iteration 2000/7000, objective = 2091.30072155257.\n",
      "Iteration 3000/7000, objective = 2091.297983425523.\n",
      "Iteration 4000/7000, objective = 2091.2979712556394.\n",
      "Iteration 5000/7000, objective = 2091.2979712013266.\n",
      "Iteration 6000/7000, objective = 2091.297971201084.\n",
      "Iteration 7000/7000, objective = 2091.297971201083.\n",
      "Iteration completed after 7000/7000, objective = 2091.297971201083.\n"
     ]
    }
   ],
   "source": [
    "initial_weights = np.zeros((data_matrix.shape[1], 1))\n",
    "optimal_weights, objective_values = gradient_descent(objective, gradient, initial_weights, \\\n",
    "                                    step_size=1.9/(np.linalg.norm(data_matrix, 2) ** 2), \\\n",
    "                                    no_of_iterations=7000, print_output=1000)"
   ]
  },
  {
   "cell_type": "markdown",
   "metadata": {
    "deletable": false,
    "editable": false,
    "nbgrader": {
     "cell_type": "markdown",
     "checksum": "c84469bd2889feaf8a713f0dfb3d716a",
     "grade": false,
     "grade_id": "cell-da55ede3853660cf",
     "locked": true,
     "schema_version": 3,
     "solution": false,
     "task": false
    }
   },
   "source": [
    "A correct result of your gradient-descent-based logistic regression strategy will be awarded **4 marks**."
   ]
  },
  {
   "cell_type": "code",
   "execution_count": 16,
   "metadata": {
    "deletable": false,
    "editable": false,
    "nbgrader": {
     "cell_type": "code",
     "checksum": "0102eed55ffb0f81e5ba3f42cffd9422",
     "grade": true,
     "grade_id": "cell-8090fbc611c0a194",
     "locked": true,
     "points": 4,
     "schema_version": 3,
     "solution": false,
     "task": false
    }
   },
   "outputs": [
    {
     "name": "stdout",
     "output_type": "stream",
     "text": [
      "The optimal weights are w = [[-0.01870311  1.89527459 -6.3680829 ]].T with objective value L(w) = 2091.297971201083.\n"
     ]
    }
   ],
   "source": [
    "print(\"The optimal weights are w = {w}.T with objective value L(w) = {o}.\".format(w = optimal_weights.T, \\\n",
    "        o=objective_values[-1]))"
   ]
  },
  {
   "cell_type": "markdown",
   "metadata": {
    "deletable": false,
    "editable": false,
    "nbgrader": {
     "cell_type": "markdown",
     "checksum": "14f46ce484ad38b6e849796544e9ad6c",
     "grade": false,
     "grade_id": "cell-18f1b30c908aaae8",
     "locked": true,
     "schema_version": 3,
     "solution": false,
     "task": false
    }
   },
   "source": [
    "Write two functions **prediction_function** and **classification_accuracy** that turn your predicitons into classification results and that compare how many labels have been classified correctly. The function **prediction_function** takes the arguments _data_matrix_ and _weights_ as inputs and returns a vector of class labels with binary values in $\\{0, 1\\}$ as its output. The function **classification_accuracy** takes two inputs _true_labels_ and _recovered_labels_ and returns the percentage of correctly classified labels divided by 100."
   ]
  },
  {
   "cell_type": "code",
   "execution_count": 17,
   "metadata": {
    "deletable": false,
    "nbgrader": {
     "cell_type": "code",
     "checksum": "dda3261c6408de6bfac72ee8a2e3d197",
     "grade": false,
     "grade_id": "prediction-and-accuracy",
     "locked": false,
     "schema_version": 3,
     "solution": true,
     "task": false
    }
   },
   "outputs": [],
   "source": [
    "def prediction_function(data_matrix, weights):\n",
    "    results = logistic_function(data_matrix @ weights)\n",
    "    binary = np.where(results >0.5,1,0)\n",
    "    return binary\n",
    "   \n",
    "def classification_accuracy(true_labels, recovered_labels):\n",
    "    equal_labels = (recovered_labels == true_labels)\n",
    "    return np.mean(equal_labels)\n",
    "  "
   ]
  },
  {
   "cell_type": "markdown",
   "metadata": {
    "deletable": false,
    "editable": false,
    "nbgrader": {
     "cell_type": "markdown",
     "checksum": "cd533efa2d5716dd04fe9c649cb9f0bf",
     "grade": false,
     "grade_id": "cell-747f695d7dde1390",
     "locked": true,
     "schema_version": 3,
     "solution": false,
     "task": false
    }
   },
   "source": [
    "The correct classification accuracy is awarded **4 marks**. The total marks possible in this section are **13 marks**."
   ]
  },
  {
   "cell_type": "code",
   "execution_count": 18,
   "metadata": {
    "deletable": false,
    "editable": false,
    "nbgrader": {
     "cell_type": "code",
     "checksum": "977c57bb1188016adfa151474f8baecf",
     "grade": true,
     "grade_id": "accuracy-test",
     "locked": true,
     "points": 4,
     "schema_version": 3,
     "solution": false,
     "task": false
    }
   },
   "outputs": [
    {
     "name": "stdout",
     "output_type": "stream",
     "text": [
      "The classification accuracy for the training set is 91.94 %.\n"
     ]
    }
   ],
   "source": [
    "print(\"The classification accuracy for the training set is {p} %.\".format(p = 100 * \\\n",
    "        classification_accuracy(biological_sex, prediction_function(data_matrix, optimal_weights))))"
   ]
  },
  {
   "cell_type": "markdown",
   "metadata": {
    "deletable": false,
    "editable": false,
    "nbgrader": {
     "cell_type": "markdown",
     "checksum": "00633505cdd1f8712777a761fbe95961",
     "grade": false,
     "grade_id": "cell-66ec567aec881880",
     "locked": true,
     "schema_version": 3,
     "solution": false,
     "task": false
    }
   },
   "source": [
    "## Multinomial logistic regression\n",
    "\n",
    "This concludes the binary classification part of the first part of the final assessment. We now move on to multinomial logistic regression for multi-class classfication problems. As a first exercise, implement the softmax function **softmax_function** as defined in the lectures. The function takes the NumPy array _argument_ as its main argument, but also has an optional _axis_ argument to determine across which array-dimension you apply the softmax operation. If this argument is not specified (or set to _None_), then the softmax operation is applied to the entire array. Make sure your function works at least for NumPy arrays _argument_ with arbitrary numerical values and dimension one or two."
   ]
  },
  {
   "cell_type": "code",
   "execution_count": 19,
   "metadata": {
    "deletable": false,
    "nbgrader": {
     "cell_type": "code",
     "checksum": "4977cb40c6c166eebb31fe6ef824918a",
     "grade": false,
     "grade_id": "softmax",
     "locked": false,
     "schema_version": 3,
     "solution": true,
     "task": false
    }
   },
   "outputs": [
    {
     "name": "stdout",
     "output_type": "stream",
     "text": [
      "[[0.76528029 0.71807976]\n",
      " [0.23049799 0.01775346]\n",
      " [0.00422172 0.26416678]]\n"
     ]
    }
   ],
   "source": [
    "def softmax_function(argument, axis=None):\n",
    "    \n",
    "    if argument.ndim == 1:\n",
    "        new_array = np.exp(argument)\n",
    "        result = new_array/np.sum(new_array)\n",
    "        \n",
    "        return result\n",
    "    elif argument.ndim > 1:\n",
    "        \n",
    "        if axis == None:\n",
    "            result = np.exp(argument)/sum(sum(np.exp(x)) for x in argument)\n",
    "            \n",
    "            return result\n",
    "        \n",
    "        elif axis == 0:\n",
    "            new_array = np.exp(argument)\n",
    "            result = new_array/new_array.sum(axis=0, keepdims = True)\n",
    "            \n",
    "            return result\n",
    "                \n",
    "        elif axis == 1:\n",
    "            new_array = np.exp(argument)\n",
    "            result = new_array/new_array.sum(axis=1, keepdims = True)\n",
    "          \n",
    "            return result\n",
    "    \n",
    "print(softmax_function(np.array([[1.5,3], [0.3,-0.7], [-3.7,2]]),axis=0))"
   ]
  },
  {
   "cell_type": "markdown",
   "metadata": {
    "deletable": false,
    "editable": false,
    "nbgrader": {
     "cell_type": "markdown",
     "checksum": "d93ee498f6cc2c5167fb18f05b55cb72",
     "grade": false,
     "grade_id": "cell-0bd9e5f6e5931b4e",
     "locked": true,
     "schema_version": 3,
     "solution": false,
     "task": false
    }
   },
   "source": [
    "Test your softmax function with the following cell. Passing this test is awarded with **4 marks**. Please note that, as usual, some tests are hidden."
   ]
  },
  {
   "cell_type": "code",
   "execution_count": 20,
   "metadata": {
    "deletable": false,
    "editable": false,
    "nbgrader": {
     "cell_type": "code",
     "checksum": "92dadfc8cfb35300c37378165909b4a0",
     "grade": true,
     "grade_id": "cell-b7751e0278da3533",
     "locked": true,
     "points": 4,
     "schema_version": 3,
     "solution": false,
     "task": false
    }
   },
   "outputs": [
    {
     "name": "stdout",
     "output_type": "stream",
     "text": [
      "The softmax of [[ 1.5  0.3 -3.7]].T is [[0.76528029 0.23049799 0.00422172]].T.\n"
     ]
    }
   ],
   "source": [
    "argument = np.array([[1.5], [0.3], [-3.7]])\n",
    "print(\"The softmax of {arg}.T is {out}.T.\".format(arg=argument.T, out=softmax_function(argument).T))\n",
    "assert_array_almost_equal(softmax_function(np.array([[1.5], [0.3], [-3.7]])), np.array([[0.76528029], \\\n",
    "                                                        [0.23049799], [0.00422172]]))\n",
    "assert_array_almost_equal(softmax_function(np.array([[1.5, 3], [0.3, -0.7], [-3.7, 2]]), axis=0), \\\n",
    "                          np.array([[0.76528029, 0.71807976], [0.23049799, 0.01775346], \\\n",
    "                                    [0.00422172, 0.26416678]]))"
   ]
  },
  {
   "cell_type": "markdown",
   "metadata": {
    "deletable": false,
    "editable": false,
    "nbgrader": {
     "cell_type": "markdown",
     "checksum": "22c6fcff95effedaa57877d34de89392",
     "grade": false,
     "grade_id": "cell-941464e24613e0a9",
     "locked": true,
     "schema_version": 3,
     "solution": false,
     "task": false
    }
   },
   "source": [
    "Next, write a function **one_hot_vector_encoding** that converts an NumPy array _labels_ with values in the range of $\\{0, K - 1\\}$ into so-called one-hot vector encodings. For example, for $K = 3$ and a label vector $\\text{labels} = \\left( \\begin{matrix} 2 & 0 & 1 & 2\\end{matrix} \\right)^\\top$, the output of **one_hot_vector_encoding(labels)** should be a two-dimensional NumPy array of the form\n",
    "\n",
    "\\begin{align*}\n",
    "\\left( \\begin{matrix} 0 & 0 & 1 \\\\ 1 & 0 & 0 \\\\ 0 & 1 & 0 \\\\ 0 & 0 & 1 \\end{matrix} \\right) \\, . \n",
    "\\end{align*}"
   ]
  },
  {
   "cell_type": "code",
   "execution_count": 21,
   "metadata": {
    "deletable": false,
    "nbgrader": {
     "cell_type": "code",
     "checksum": "94bcefd8f6f2834778c5e510f9797c83",
     "grade": false,
     "grade_id": "one-hot-vector-encoding",
     "locked": false,
     "schema_version": 3,
     "solution": true,
     "task": false
    }
   },
   "outputs": [],
   "source": [
    "def one_hot_vector_encoding(labels):\n",
    "    a = labels\n",
    "    b = np.zeros((a.size, a.max()+1))\n",
    "    b[np.arange(a.size),a] = 1\n",
    "    return b   "
   ]
  },
  {
   "cell_type": "markdown",
   "metadata": {
    "deletable": false,
    "editable": false,
    "nbgrader": {
     "cell_type": "markdown",
     "checksum": "740154e524df161eed6ffcb3b6daf01f",
     "grade": false,
     "grade_id": "cell-4d72a85842f6c692",
     "locked": true,
     "schema_version": 3,
     "solution": false,
     "task": false
    }
   },
   "source": [
    "Implement the cost function and gradient for the multinomial logistic regression in terms of two functions **multinomial_logistic_regression_cost_function** and **multinomial_logistic_regression_gradient**. As in the binary classification case, the arguments are the polynomial data matrix _data_matrix_ and weights that are now named _weight_matrix_. Instead of passing on labels as _outputs_ as in the binary case, you pass the one hot vector encoding representation _one_hot_vector_encodings_ as your third argument. Return the cost function value, respectively the gradient, following the mathematical formulas in the lecture notes."
   ]
  },
  {
   "cell_type": "code",
   "execution_count": 22,
   "metadata": {
    "deletable": false,
    "nbgrader": {
     "cell_type": "code",
     "checksum": "6866c7079139fd8a29d4c148a6e2f034",
     "grade": false,
     "grade_id": "multinomial_logistic_regression",
     "locked": false,
     "schema_version": 3,
     "solution": true,
     "task": false
    }
   },
   "outputs": [],
   "source": [
    "def multinomial_logistic_regression_cost_function(data_matrix, weight_matrix, one_hot_vector_encodings):\n",
    "    #loss function\n",
    "    s = data_matrix.shape[0]\n",
    "    K = one_hot_vector_encodings.shape[1]\n",
    "    values = 0\n",
    "    \n",
    "    for i in range(s):\n",
    "        term1s = []\n",
    "        col = np.where(one_hot_vector_encodings[i,:] == 1)[0][0]\n",
    "        term2 = (np.dot(data_matrix[i,:],weight_matrix[:,col]))\n",
    "        for j in range(K): \n",
    "            term1_before = (np.exp(np.dot(data_matrix[i,:],weight_matrix[:,j])))                  \n",
    "            term1s.append(term1_before)\n",
    "        term1 = np.log((np.sum(term1s)))\n",
    "        values += term1 - term2\n",
    "    return values\n",
    "    \n",
    "def multinomial_logistic_regression_gradient(data_matrix, weight_matrix, one_hot_vector_encodings):\n",
    "    result = data_matrix.T @ (softmax_function(data_matrix@weight_matrix,axis = 1) - one_hot_vector_encodings)\n",
    "    return result"
   ]
  },
  {
   "cell_type": "markdown",
   "metadata": {
    "deletable": false,
    "editable": false,
    "nbgrader": {
     "cell_type": "markdown",
     "checksum": "a034361a28a9e882f7d7ad4328070a9c",
     "grade": false,
     "grade_id": "cell-b810132e15131dc9",
     "locked": true,
     "schema_version": 3,
     "solution": false,
     "task": false
    }
   },
   "source": [
    "Test your implementation on the [UCI wine dataset](https://archive.ics.uci.edu/ml/datasets/wine); the dataset contains 13 attributes from a chemical analysis of Italian wines from three different cultivars. For more information on the dataset visit [this link](https://archive.ics.uci.edu/ml/datasets/wine). The code in the following cell loads the dataset and stores the labels in a NumPy array _labels_ and the attributes in a NumPy array _inputs_."
   ]
  },
  {
   "cell_type": "code",
   "execution_count": 23,
   "metadata": {
    "deletable": false,
    "editable": false,
    "nbgrader": {
     "cell_type": "code",
     "checksum": "c66a8b68f9903af0351c13f30605934f",
     "grade": false,
     "grade_id": "cell-d080a23a2048227b",
     "locked": true,
     "schema_version": 3,
     "solution": false,
     "task": false
    }
   },
   "outputs": [],
   "source": [
    "wines = np.loadtxt('wine.data', delimiter=',')\n",
    "labels = wines[:, 0].astype(int) - 1\n",
    "inputs = wines[:, 1::]"
   ]
  },
  {
   "cell_type": "markdown",
   "metadata": {
    "deletable": false,
    "editable": false,
    "nbgrader": {
     "cell_type": "markdown",
     "checksum": "6a9db194ed9b4c4b458c753d58b0196e",
     "grade": false,
     "grade_id": "cell-d26a44b054d22e4d",
     "locked": true,
     "schema_version": 3,
     "solution": false,
     "task": false
    }
   },
   "source": [
    "Transform the labels _labels_ into a one hot vector representation with your function **one_hot_vector_encoding** and store your results in a NumPy array named _outputs_."
   ]
  },
  {
   "cell_type": "code",
   "execution_count": 24,
   "metadata": {
    "deletable": false,
    "nbgrader": {
     "cell_type": "code",
     "checksum": "9378cf561d0799b518319252eaeb6c87",
     "grade": false,
     "grade_id": "cell-7362e79b5354d63b",
     "locked": false,
     "schema_version": 3,
     "solution": true,
     "task": false
    }
   },
   "outputs": [],
   "source": [
    "# YOUR CODE HERE\n",
    "outputs = one_hot_vector_encoding(labels)"
   ]
  },
  {
   "cell_type": "markdown",
   "metadata": {
    "deletable": false,
    "editable": false,
    "nbgrader": {
     "cell_type": "markdown",
     "checksum": "a365aa01296ecd58f3550a5a83dc403d",
     "grade": false,
     "grade_id": "cell-100a0ea7469b3821",
     "locked": true,
     "schema_version": 3,
     "solution": false,
     "task": false
    }
   },
   "source": [
    "In the following cell, write code that initialises a polynomial data matrix _data_matrix_ of degree one with the standardised inputs _inputs_ from the wine dataset. Define an objective function _objective_ with argument _weight_matrix_ based on the **multinomial_logistic_regression_cost_function** with fixed arguments _data_matrix_ and _one_hot_vector_encodings_. Repeat the same exercise to create a function _gradient_ based on **multinomial_logistic_regression_gradient**."
   ]
  },
  {
   "cell_type": "code",
   "execution_count": 25,
   "metadata": {
    "deletable": false,
    "nbgrader": {
     "cell_type": "code",
     "checksum": "712836b79b8e6389ce84a45f8439a300",
     "grade": false,
     "grade_id": "cell-094a5bddd94a009a",
     "locked": false,
     "schema_version": 3,
     "solution": true,
     "task": false
    }
   },
   "outputs": [],
   "source": [
    "# YOUR CODE HERE\n",
    "\n",
    "data_matrix = polynomial_basis(standardise(inputs))\n",
    "\n",
    "objective = lambda weight_matrix: multinomial_logistic_regression_cost_function(data_matrix, weight_matrix, outputs) \n",
    "gradient = lambda weight_matrix: multinomial_logistic_regression_gradient(data_matrix, weight_matrix, outputs)\n"
   ]
  },
  {
   "cell_type": "markdown",
   "metadata": {
    "deletable": false,
    "editable": false,
    "nbgrader": {
     "cell_type": "markdown",
     "checksum": "d06a10bf709742803be0723fd183611d",
     "grade": false,
     "grade_id": "cell-901f918df8fdef00",
     "locked": true,
     "schema_version": 3,
     "solution": false,
     "task": false
    }
   },
   "source": [
    "Call gradient descent with the following cell to compute an _optimal_weight_matrix_ for your model."
   ]
  },
  {
   "cell_type": "code",
   "execution_count": 26,
   "metadata": {
    "deletable": false,
    "editable": false,
    "nbgrader": {
     "cell_type": "code",
     "checksum": "acf5d4074e6b0b65252ef485d45d5838",
     "grade": false,
     "grade_id": "cell-175babea73e2db36",
     "locked": true,
     "schema_version": 3,
     "solution": false,
     "task": false
    }
   },
   "outputs": [
    {
     "name": "stdout",
     "output_type": "stream",
     "text": [
      "Iteration 5000/100000, objective = 0.37363264592740286.\n",
      "Iteration 10000/100000, objective = 0.19859836381135887.\n",
      "Iteration 15000/100000, objective = 0.13605627122241737.\n",
      "Iteration 20000/100000, objective = 0.10372479744703211.\n",
      "Iteration 25000/100000, objective = 0.08391801536513466.\n",
      "Iteration 30000/100000, objective = 0.07051872085948618.\n",
      "Iteration 35000/100000, objective = 0.06084138658523397.\n",
      "Iteration 40000/100000, objective = 0.05351961411115225.\n",
      "Iteration 45000/100000, objective = 0.047784005082136094.\n",
      "Iteration 50000/100000, objective = 0.04316789618475969.\n",
      "Iteration 55000/100000, objective = 0.03937164510108371.\n",
      "Iteration 60000/100000, objective = 0.036193967173282715.\n",
      "Iteration 65000/100000, objective = 0.0334945959405184.\n",
      "Iteration 70000/100000, objective = 0.031172765703073146.\n",
      "Iteration 75000/100000, objective = 0.02915420629986798.\n",
      "Iteration 80000/100000, objective = 0.027382962414542966.\n",
      "Iteration 85000/100000, objective = 0.02581606984776652.\n",
      "Iteration 90000/100000, objective = 0.024419988124662062.\n",
      "Iteration 95000/100000, objective = 0.02316814830816938.\n",
      "Iteration 100000/100000, objective = 0.022039229212158062.\n",
      "Iteration completed after 100000/100000, objective = 0.022039229212158062.\n"
     ]
    }
   ],
   "source": [
    "initial_weight_matrix = np.zeros((data_matrix.shape[1], outputs.shape[1]))\n",
    "optimal_weight_matrix, objective_values = gradient_descent(objective, gradient, initial_weight_matrix, \\\n",
    "                                    step_size=1.9/(np.linalg.norm(data_matrix, 2) ** 2), \\\n",
    "                                    no_of_iterations=100000, print_output=5000)"
   ]
  },
  {
   "cell_type": "markdown",
   "metadata": {
    "deletable": false,
    "editable": false,
    "nbgrader": {
     "cell_type": "markdown",
     "checksum": "e5a8d433e17eb215eab8b141e3fa48bd",
     "grade": false,
     "grade_id": "cell-b7bf0daf68390bac",
     "locked": true,
     "schema_version": 3,
     "solution": false,
     "task": false
    }
   },
   "source": [
    "Write a function **multinomial_prediction_function** that turns your predicitons into labels. The function takes the arguments _data_matrix_ and _weight_matrix_ as inputs and returns a vector of labels with values in $\\{0, K - 1 \\}$ as its output."
   ]
  },
  {
   "cell_type": "code",
   "execution_count": 27,
   "metadata": {
    "deletable": false,
    "nbgrader": {
     "cell_type": "code",
     "checksum": "e824634474ea1ee537d80abc1bd092cd",
     "grade": false,
     "grade_id": "cell-2da6bb5a7e17ea5e",
     "locked": false,
     "schema_version": 3,
     "solution": true,
     "task": false
    }
   },
   "outputs": [],
   "source": [
    "def multinomial_prediction_function(data_matrix, weight_matrix):\n",
    "    k = weight_matrix.shape[1]\n",
    "    matrix = logistic_function(data_matrix@weight_matrix)\n",
    "    ohv_matrix = (matrix == matrix.max(axis=1,keepdims = 1)).astype(float)\n",
    "    prediction = ohv_matrix @ np.array(np.arange(0,k))\n",
    "    return prediction"
   ]
  },
  {
   "cell_type": "markdown",
   "metadata": {
    "deletable": false,
    "editable": false,
    "nbgrader": {
     "cell_type": "markdown",
     "checksum": "4550fa0d0fcc9f5244cf0ca66c5bf8a5",
     "grade": false,
     "grade_id": "cell-9036bda8b3b0ced4",
     "locked": true,
     "schema_version": 3,
     "solution": false,
     "task": false
    }
   },
   "source": [
    "The correct classification accuracy is awarded **4 marks**. The total number of possible marks in this section is **8 marks**."
   ]
  },
  {
   "cell_type": "code",
   "execution_count": 28,
   "metadata": {
    "deletable": false,
    "editable": false,
    "nbgrader": {
     "cell_type": "code",
     "checksum": "bbf3d6b935f497fab4bd93eeea119319",
     "grade": true,
     "grade_id": "cell-49fe4e66273baf80",
     "locked": true,
     "points": 4,
     "schema_version": 3,
     "solution": false,
     "task": false
    }
   },
   "outputs": [
    {
     "name": "stdout",
     "output_type": "stream",
     "text": [
      "The classification accuracy for the wine training set is 100.0 %.\n"
     ]
    }
   ],
   "source": [
    "print(\"The classification accuracy for the wine training set is {p} %.\".format(p = 100 * \\\n",
    "        classification_accuracy(labels, multinomial_prediction_function(data_matrix, optimal_weight_matrix))))"
   ]
  },
  {
   "cell_type": "markdown",
   "metadata": {
    "deletable": false,
    "editable": false,
    "nbgrader": {
     "cell_type": "markdown",
     "checksum": "ba0705811c857f5094055fbd9f385917",
     "grade": false,
     "grade_id": "cell-45dcd721e2869a9a",
     "locked": true,
     "schema_version": 3,
     "solution": false,
     "task": false
    }
   },
   "source": [
    "## Ridge logistic regression\n",
    "\n",
    "For the next part, modify the multinomial logistic regression problem to include a squared Frobenius norm of the weights as a regularisation term, similar to ridge regression where we added a multiple of the squared Euclidean norm of the weights to the mean squared error. Write two functions **ridge_logistic_regression_cost_function** and **ridge_logistic_regression_gradient** that take the arguments _data_matrix_, _weight_matrix_, _one_hot_vector_encodings_ and _regularisation_parameter_ as inputs. The function **ridge_logistic_regression_cost_function** returns the evulation of the multinomial logistic regression cost function with its linear model being determined by the polynomial basis matrix _data_matrix_ and the weight matrix _weight_matrix_, plus _regularisation_parameter_ times the squared Frobenius norm of _weight_matrix_ divided by two. The function **ridge_logistic_regression_gradient** is supposed to compute the corresponding gradient."
   ]
  },
  {
   "cell_type": "code",
   "execution_count": 29,
   "metadata": {
    "deletable": false,
    "nbgrader": {
     "cell_type": "code",
     "checksum": "acdbb33c938f33ee566b9dee3262d846",
     "grade": false,
     "grade_id": "cell-abadca310df6699f",
     "locked": false,
     "schema_version": 3,
     "solution": true,
     "task": false
    }
   },
   "outputs": [],
   "source": [
    "def ridge_logistic_regression_cost_function(data_matrix, weight_matrix, one_hot_vector_encodings, \\\n",
    "                                            regularisation_parameter):\n",
    "    ridge_term = (regularisation_parameter/2) * (np.linalg.norm(weight_matrix)**2)\n",
    "    return multinomial_logistic_regression_cost_function(data_matrix, weight_matrix, one_hot_vector_encodings) + ridge_term\n",
    "    \n",
    "    \n",
    "    \n",
    "def ridge_logistic_regression_gradient(data_matrix, weight_matrix, one_hot_vector_encodings, \\\n",
    "                                       regularisation_parameter):\n",
    "    ridge_term = regularisation_parameter * weight_matrix\n",
    "    return multinomial_logistic_regression_gradient(data_matrix,weight_matrix,one_hot_vector_encodings) + ridge_term \n"
   ]
  },
  {
   "cell_type": "markdown",
   "metadata": {
    "deletable": false,
    "editable": false,
    "nbgrader": {
     "cell_type": "markdown",
     "checksum": "c0996e4e5192b31e3a4934a13a883b09",
     "grade": false,
     "grade_id": "cell-1af3c4a5f531e2fa",
     "locked": true,
     "schema_version": 3,
     "solution": false,
     "task": false
    }
   },
   "source": [
    "Set your regularisation parameter _regularisation_parameter_ to the value 15 and define an objective function _objective_ as well as a gradient function _gradient_, both with argument _weight_matrix_, for fixed _data_matrix_ and _outputs_ as from the wine dataset that you have used before."
   ]
  },
  {
   "cell_type": "code",
   "execution_count": 30,
   "metadata": {
    "deletable": false,
    "nbgrader": {
     "cell_type": "code",
     "checksum": "f40622d6042d8793ce03206d450ee648",
     "grade": false,
     "grade_id": "cell-3f1796626df02a88",
     "locked": false,
     "schema_version": 3,
     "solution": true,
     "task": false
    }
   },
   "outputs": [],
   "source": [
    "# YOUR CODE HERE\n",
    "regularisation_parameter = 15\n",
    "objective = lambda weight_matrix: ridge_logistic_regression_cost_function(data_matrix, weight_matrix, outputs,regularisation_parameter) \n",
    "gradient = lambda weight_matrix: ridge_logistic_regression_gradient(data_matrix, weight_matrix, outputs,regularisation_parameter)\n"
   ]
  },
  {
   "cell_type": "markdown",
   "metadata": {
    "deletable": false,
    "editable": false,
    "nbgrader": {
     "cell_type": "markdown",
     "checksum": "8d13bd2ced951479730e1afad72283eb",
     "grade": false,
     "grade_id": "cell-a0c298f30e585bd6",
     "locked": true,
     "schema_version": 3,
     "solution": false,
     "task": false
    }
   },
   "source": [
    "Test your solution with the following cell."
   ]
  },
  {
   "cell_type": "code",
   "execution_count": 31,
   "metadata": {
    "deletable": false,
    "editable": false,
    "nbgrader": {
     "cell_type": "code",
     "checksum": "4d5eec1441b9057a16855a9953bfe215",
     "grade": false,
     "grade_id": "cell-4ac1dd08e2ba7c80",
     "locked": true,
     "schema_version": 3,
     "solution": false,
     "task": false
    }
   },
   "outputs": [
    {
     "name": "stdout",
     "output_type": "stream",
     "text": [
      "Iteration 10/100, objective = 50.66582189248285.\n",
      "Iteration 20/100, objective = 48.11155251656332.\n",
      "Iteration 30/100, objective = 47.8219334972513.\n",
      "Iteration 40/100, objective = 47.766837844563554.\n",
      "Iteration 50/100, objective = 47.752421479679114.\n",
      "Iteration 60/100, objective = 47.747879295725696.\n",
      "Iteration 70/100, objective = 47.7462923106324.\n",
      "Iteration 80/100, objective = 47.745701101573275.\n",
      "Iteration 90/100, objective = 47.74547049334518.\n",
      "Iteration 100/100, objective = 47.74537725711093.\n",
      "Iteration completed after 100/100, objective = 47.74537725711093.\n"
     ]
    }
   ],
   "source": [
    "initial_weight_matrix = np.zeros((data_matrix.shape[1], outputs.shape[1]))\n",
    "ridge_weight_matrix, ridge_objective_values = gradient_descent(objective, gradient, initial_weight_matrix, \\\n",
    "                                    step_size=1.9/np.linalg.norm(data_matrix.T @ data_matrix + \\\n",
    "                                    regularisation_parameter * np.eye(data_matrix.shape[1]), 2), \\\n",
    "                                    no_of_iterations=100, print_output=10)"
   ]
  },
  {
   "cell_type": "markdown",
   "metadata": {
    "deletable": false,
    "editable": false,
    "nbgrader": {
     "cell_type": "markdown",
     "checksum": "2920f8564006d977e1d1f3cc19c46989",
     "grade": false,
     "grade_id": "cell-ad40701d626892d4",
     "locked": true,
     "schema_version": 3,
     "solution": false,
     "task": false
    }
   },
   "source": [
    "The correct classification accuracy is awarded **4 marks**, which is also the total number of possible points in this section."
   ]
  },
  {
   "cell_type": "code",
   "execution_count": 32,
   "metadata": {
    "deletable": false,
    "editable": false,
    "nbgrader": {
     "cell_type": "code",
     "checksum": "a093e26a90163695684c1f98e8cfd645",
     "grade": true,
     "grade_id": "cell-3d84066ed6f97945",
     "locked": true,
     "points": 4,
     "schema_version": 3,
     "solution": false,
     "task": false
    }
   },
   "outputs": [
    {
     "name": "stdout",
     "output_type": "stream",
     "text": [
      "The ridge regression classification accuracy with regularisation parameter 15 for the wine training set is 99.43820224719101 %.\n"
     ]
    }
   ],
   "source": [
    "print(\"The ridge regression classification accuracy with regularisation parameter {a}\".format(a = \\\n",
    "       regularisation_parameter), \"for the wine training set is {p} %.\".format(p = 100 * \\\n",
    "        classification_accuracy(labels, multinomial_prediction_function(data_matrix, ridge_weight_matrix))))"
   ]
  },
  {
   "cell_type": "markdown",
   "metadata": {
    "deletable": false,
    "editable": false,
    "nbgrader": {
     "cell_type": "markdown",
     "checksum": "3e59581e2eed10dab4a2d0ca63e5e67d",
     "grade": false,
     "grade_id": "cell-681ea7611e1b8d47",
     "locked": true,
     "schema_version": 3,
     "solution": false,
     "task": false
    }
   },
   "source": [
    "## LASSO-type logistic regression\n",
    "\n",
    "As a final exercise before you are left to continue with the main part of your project of classifying handwritten digits, implement a modification of the multinomial logistic regression problem that contains a positive multiple of the one-norm of the weight matrix as regularisation term, and approximate a solution numerically with the proximal gradient descent method as introduced in the lectures. You can make use of computational solutions for coursework 9.\n",
    "\n",
    "Begin by completing the following three functions. The function **soft_thresholding** takes the two arguments _argument_ and _threshold_ and returns the solution of the soft-thresholding operation applied to _argument_ with threshold _threshold_. \n",
    "\n",
    "The function **lasso_logistic_regression_cost_function** is supposed to implement the multinomial logistic regression loss with additional one-norm regularisation for polynomial basis matrix _data_matrix_, weight matrix _weight_matrix_, the one hot vector encoding output _one_hot_vector_encodings_ and the regularisation parameter _regularisation_parameter_.\n",
    "\n",
    "The function **proximal_gradient_descent** takes the same arguments as the function **gradient_descent**, with additional argument _proximal_map_ in order to specify the proximal map to be used. "
   ]
  },
  {
   "cell_type": "code",
   "execution_count": 33,
   "metadata": {
    "deletable": false,
    "nbgrader": {
     "cell_type": "code",
     "checksum": "bdab43cdab7db63c950b7d0a6c06e564",
     "grade": false,
     "grade_id": "cell-b2608195afc72125",
     "locked": false,
     "schema_version": 3,
     "solution": true,
     "task": false
    }
   },
   "outputs": [],
   "source": [
    "def soft_thresholding(argument, threshold):\n",
    "    return np.sign(argument) * np.maximum(0, np.abs(argument) - threshold)\n",
    "    \n",
    "def lasso_logistic_regression_cost_function(data_matrix, weight_matrix, one_hot_vector_encodings, \\\n",
    "                                       regularisation_parameter):\n",
    "    lasso_term = regularisation_parameter * np.linalg.norm(weight_matrix,1)\n",
    "    return multinomial_logistic_regression_cost_function(data_matrix, weight_matrix, one_hot_vector_encodings) + lasso_term\n",
    "    \n",
    "def proximal_gradient_descent(objective, gradient, proximal_map, initial_weights, step_size=1, \\\n",
    "                              no_of_iterations=100, print_output=100):\n",
    "    objective_values = []\n",
    "    weights = initial_weights    \n",
    "    objective_values.append(objective(weights))\n",
    "    for counter in range(no_of_iterations):\n",
    "        weights = proximal_map(weights - step_size * gradient(weights))\n",
    "        objective_values.append(objective(weights))\n",
    "        if (counter + 1) % print_output == 0:\n",
    "            print(\"Iteration {k}/{m}, objective = {o}.\".format(k=counter+1, \\\n",
    "                    m=no_of_iterations, o=objective_values[counter]))\n",
    "    print(\"Iteration completed after {k}/{m}, objective = {o}.\".format(k=counter + 1, \\\n",
    "                m=no_of_iterations, o=objective_values[counter]))\n",
    "    return weights, objective_values"
   ]
  },
  {
   "cell_type": "markdown",
   "metadata": {
    "deletable": false,
    "editable": false,
    "nbgrader": {
     "cell_type": "markdown",
     "checksum": "2bfbe1872c304938510aeafc7fa10c25",
     "grade": false,
     "grade_id": "cell-e3ac148e879c476f",
     "locked": true,
     "schema_version": 3,
     "solution": false,
     "task": false
    }
   },
   "source": [
    "In the next cell, define a suitable objective function _objective_ and a suitable gradient function _gradient_, both with argument _weight_matrix_ and fixed _data_matrix_ and _outputs_ from the wine dataset that you have used before, as well as a suitable proximal map function _proximal_map_ with correctly chosen threshold."
   ]
  },
  {
   "cell_type": "code",
   "execution_count": 34,
   "metadata": {
    "deletable": false,
    "nbgrader": {
     "cell_type": "code",
     "checksum": "5af740fe918364e9026fad9423073f3d",
     "grade": false,
     "grade_id": "cell-3afeb025acbc0916",
     "locked": false,
     "schema_version": 3,
     "solution": true,
     "task": false
    }
   },
   "outputs": [],
   "source": [
    "regularisation_parameter = 0.5\n",
    "step_size = 1.9/(np.linalg.norm(data_matrix, 2) ** 2)\n",
    "# YOUR CODE HERE\n",
    "\n",
    "objective = lambda weight_matrix: lasso_logistic_regression_cost_function(data_matrix, weight_matrix, outputs, \\\n",
    "                                       regularisation_parameter)\n",
    "gradient = lambda weight_matrix: multinomial_logistic_regression_gradient(data_matrix, weight_matrix, outputs)\n",
    "\n",
    "proximal_map = lambda weights: soft_thresholding(weights, regularisation_parameter * \\\n",
    "                                                 step_size)"
   ]
  },
  {
   "cell_type": "markdown",
   "metadata": {
    "deletable": false,
    "editable": false,
    "nbgrader": {
     "cell_type": "markdown",
     "checksum": "8da58316078974a165e9e3fd00369e62",
     "grade": false,
     "grade_id": "cell-59e703fdde6e42f7",
     "locked": true,
     "schema_version": 3,
     "solution": false,
     "task": false
    }
   },
   "source": [
    "Test your solution with the following cell."
   ]
  },
  {
   "cell_type": "code",
   "execution_count": 35,
   "metadata": {
    "deletable": false,
    "editable": false,
    "nbgrader": {
     "cell_type": "code",
     "checksum": "998771495b551e63b22c8b1980b179c9",
     "grade": false,
     "grade_id": "cell-33117d62e5699048",
     "locked": true,
     "schema_version": 3,
     "solution": false,
     "task": false
    }
   },
   "outputs": [
    {
     "name": "stdout",
     "output_type": "stream",
     "text": [
      "Iteration 1000/10000, objective = 8.24959786201634.\n",
      "Iteration 2000/10000, objective = 8.263886291899661.\n",
      "Iteration 3000/10000, objective = 8.320757757764321.\n",
      "Iteration 4000/10000, objective = 8.354235362086085.\n",
      "Iteration 5000/10000, objective = 8.374118326110752.\n",
      "Iteration 6000/10000, objective = 8.385347232389174.\n",
      "Iteration 7000/10000, objective = 8.392015832216455.\n",
      "Iteration 8000/10000, objective = 8.396214878066097.\n",
      "Iteration 9000/10000, objective = 8.399020949261885.\n",
      "Iteration 10000/10000, objective = 8.40100378273745.\n",
      "Iteration completed after 10000/10000, objective = 8.40100378273745.\n"
     ]
    }
   ],
   "source": [
    "initial_weight_matrix = np.zeros((data_matrix.shape[1], outputs.shape[1]))\n",
    "lasso_weight_matrix, lasso_objective_values = proximal_gradient_descent(objective, gradient, proximal_map, \\\n",
    "                                                initial_weight_matrix, step_size, no_of_iterations=10000, \\\n",
    "                                                print_output=1000)"
   ]
  },
  {
   "cell_type": "markdown",
   "metadata": {
    "deletable": false,
    "editable": false,
    "nbgrader": {
     "cell_type": "markdown",
     "checksum": "8e56343b5f34fafa2ed80f9b572b528f",
     "grade": false,
     "grade_id": "cell-69a32c9f26d37f47",
     "locked": true,
     "schema_version": 3,
     "solution": false,
     "task": false
    }
   },
   "source": [
    "The correct classification accuracy is awarded **5 marks**, which is also the total number of points available in this section."
   ]
  },
  {
   "cell_type": "code",
   "execution_count": 36,
   "metadata": {
    "deletable": false,
    "editable": false,
    "nbgrader": {
     "cell_type": "code",
     "checksum": "d0f049b162367cd9d765fb16be5a693e",
     "grade": true,
     "grade_id": "cell-4cd3a07610421486",
     "locked": true,
     "points": 5,
     "schema_version": 3,
     "solution": false,
     "task": false
    }
   },
   "outputs": [
    {
     "name": "stdout",
     "output_type": "stream",
     "text": [
      "The lasso classification accuracy with regularisation parameter 0.5 for the wine training set is 100.0 %.\n"
     ]
    }
   ],
   "source": [
    "print(\"The lasso classification accuracy with regularisation parameter {a}\".format(a = \\\n",
    "       regularisation_parameter), \"for the wine training set is {p} %.\".format(p = 100 * \\\n",
    "        classification_accuracy(labels, multinomial_prediction_function(data_matrix, lasso_weight_matrix))))"
   ]
  }
 ],
 "metadata": {
  "celltoolbar": "Edit Metadata",
  "kernelspec": {
   "display_name": "Python 3",
   "language": "python",
   "name": "python3"
  },
  "language_info": {
   "codemirror_mode": {
    "name": "ipython",
    "version": 3
   },
   "file_extension": ".py",
   "mimetype": "text/x-python",
   "name": "python",
   "nbconvert_exporter": "python",
   "pygments_lexer": "ipython3",
   "version": "3.8.5"
  }
 },
 "nbformat": 4,
 "nbformat_minor": 2
}
