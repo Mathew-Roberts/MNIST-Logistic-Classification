{
 "cells": [
  {
   "cell_type": "markdown",
   "metadata": {
    "nbgrader": {
     "cell_type": "markdown",
     "checksum": "fdd840b9ab44a389a644d4ff41790a9a",
     "grade": false,
     "grade_id": "cell-6ded9e10fb35754f",
     "locked": true,
     "schema_version": 3,
     "solution": false,
     "task": false
    }
   },
   "source": [
    "# Logistic Regression Project\n",
    "\n",
    "In this mini project, I will be attempting to solve some logistic regression problems. This will start from a simple binary case with only two labels, progressing to a much larger classification problem using the MNIST handwritten images data set.\n",
    "Date: 18.11.2020\n"
   ]
  },
  {
   "cell_type": "code",
   "execution_count": 1,
   "metadata": {
    "deletable": false,
    "editable": false,
    "nbgrader": {
     "cell_type": "code",
     "checksum": "5bd7074d1695e70e8c0a936b29704da2",
     "grade": false,
     "grade_id": "cell-a633ccf06b277795",
     "locked": true,
     "schema_version": 3,
     "solution": false,
     "task": false
    }
   },
   "outputs": [],
   "source": [
    "import numpy as np\n",
    "import matplotlib.pyplot as plt"
   ]
  },
  {
   "cell_type": "code",
   "execution_count": 2,
   "metadata": {},
   "outputs": [],
   "source": [
    "%matplotlib inline"
   ]
  },
  {
   "cell_type": "markdown",
   "metadata": {
    "deletable": false,
    "nbgrader": {
     "cell_type": "markdown",
     "checksum": "8b8af802f1a0231178e470649ea44639",
     "grade": false,
     "grade_id": "cell-1521ab82136c8e27",
     "locked": true,
     "schema_version": 3,
     "solution": false,
     "task": false
    }
   },
   "source": [
    "## Binary logistic regression\n",
    "\n",
    "We first write the logistic regression function ***logistic_function*** that takes an argument named _inputs_ and returns the output of the logistic function, i.e.\n",
    "\n",
    "\\begin{align*}\n",
    "\\frac{1}{1 + \\exp(-x)} \\, ,\n",
    "\\end{align*}\n",
    "\n",
    "applied to the input. Here $x$ is the mathematical notation for the argument _inputs_."
   ]
  },
  {
   "cell_type": "code",
   "execution_count": 4,
   "metadata": {
    "deletable": false,
    "nbgrader": {
     "cell_type": "code",
     "checksum": "f7a31ab463bfd733a5550c57433d06c3",
     "grade": false,
     "grade_id": "logistic-function",
     "locked": false,
     "schema_version": 3,
     "solution": true,
     "task": false
    }
   },
   "outputs": [],
   "source": [
    "def logistic_function(inputs):\n",
    "    value = 1/(1+np.exp(-(inputs)))\n",
    "    return value"
   ]
  },
  {
   "cell_type": "markdown",
   "metadata": {
    "deletable": false,
    "nbgrader": {
     "cell_type": "markdown",
     "checksum": "04ff095166cb1042179a534a57f7f5c4",
     "grade": false,
     "grade_id": "cell-8e2b052a692ae3ca",
     "locked": true,
     "schema_version": 3,
     "solution": false,
     "task": false
    }
   },
   "source": [
    "Logistic regression is an optimisation problem, where we are required to minimise the associated error function. Below I have written two functions that implement the error function for binary logistic regression as well as to find its gradient. The function for the error function is named **binary_logistic_regression_cost_function** and should take the NumPy arrays _data_matrix_, _weights_ and _outputs_ as arguments. Here, _data_matrix_ is supposed to be a polynomial basis matrix (shown as $X$ in the equations below), while _weights_($w$) denotes the vector of weight parameters and _outputs_($Y$) is the vector of binary outputs (with values in $\\{0, 1\\}$). I have also written the **binary_logistic_regression_gradient** function, that takes the same inputs as **binary_logistic_regression_cost_function** and computes the gradient of the binary logistic regression cost function. This is required in order to minimise the cost function to obtain optimal parameters _weights_\n",
    "\n",
    "The loss function for binary logistic regression is given by,\n",
    "\n",
    "\\begin{equation}\n",
    "L(w^k = \\frac{1}{2s} \\sum_{i=1}^{s}(f(w,x_{i}) - y_{i})^2),\n",
    "\\end{equation}\n",
    "\n",
    "and it's gradient is given by,\n",
    "\n",
    "\\begin{equation}\n",
    "\\nabla L(w^k) = X^T(\\sigma(Xw^k) - Y)\n",
    "\\end{equation}\n",
    "\n"
   ]
  },
  {
   "cell_type": "code",
   "execution_count": 17,
   "metadata": {
    "deletable": false,
    "nbgrader": {
     "cell_type": "code",
     "checksum": "32f2b5001d7a1881ffa12451d5133cb8",
     "grade": false,
     "grade_id": "logistic-cost-function",
     "locked": false,
     "schema_version": 3,
     "solution": true,
     "task": false
    }
   },
   "outputs": [],
   "source": [
    "def polynomial_basis(inputs, degree=1):\n",
    "    \n",
    "    basis_matrix = np.ones((len(inputs), 1))\n",
    "    for counter in range(1, degree + 1):\n",
    "        basis_matrix = np.c_[basis_matrix, np.power(inputs, counter)]\n",
    "    return basis_matrix\n",
    "   \n",
    "\n",
    "def binary_logistic_regression_cost_function(data_matrix, weights, outputs):\n",
    "    s = data_matrix.shape[0]\n",
    "    values = []\n",
    "    for i in range(s):\n",
    "        result = np.log(1 + np.exp(data_matrix[i,:]@weights)) - (outputs[i]*(data_matrix[i,:]@weights))\n",
    "        values.append(result)\n",
    "    return np.sum(values)\n",
    "    \n",
    "    \n",
    "def binary_logistic_regression_gradient(data_matrix, weights, outputs):\n",
    "    result = data_matrix.T @ (logistic_function(data_matrix@weights) - outputs)\n",
    "    return result\n",
    "\n"
   ]
  },
  {
   "cell_type": "markdown",
   "metadata": {
    "deletable": false,
    "nbgrader": {
     "cell_type": "markdown",
     "checksum": "766d8951af9708ef7c8c6be80d721575",
     "grade": false,
     "grade_id": "cell-ee5c7e3b09c4f3f4",
     "locked": true,
     "schema_version": 3,
     "solution": false,
     "task": false
    }
   },
   "source": [
    "### Gradient Descent\n",
    "\n",
    "The above minimisation problem is non-linear, therefore we cannot simply set the gradient = 0 and solve for $w$. Instead, we must use a gradient descent algorithm to incrementally reach the minimum of our error function. The gradient descent algorithm works iteratively, by continually updating and reusing the _weights_ array to minimise the error function. A mathematical representation is given by,\n",
    "\n",
    "\\begin{equation}\n",
    "w^{k+1} = w^k - \\tau\\nabla L(w^k)\n",
    "\\end{equation}\n",
    "where each time the new weights $w^k$ are created, we progress closer to the $w$ which minimises our error function.\n",
    "\n",
    "The gradient descent arguments _objective_ and _gradient_ are lambda functions that can take _weight_ arrays as arguments and return the scalar value of the error function, and the array representation of the corresponding gradient respectively. The argument _initial_weights_ specifies the initial value of weights (so-called $w^{k=0}$) over which you iterate. The argument _step_size_ is the gradient descent step-size parameter, the argument _no_of_iterations_ specifies the maximum number of iterations, and _print_output_ determines after how many iterations the function produces a text output."
   ]
  },
  {
   "cell_type": "code",
   "execution_count": 6,
   "metadata": {
    "deletable": false,
    "nbgrader": {
     "cell_type": "code",
     "checksum": "0a0df2f9342e9204a48960b5885f38d6",
     "grade": false,
     "grade_id": "gradient_descent",
     "locked": false,
     "schema_version": 3,
     "solution": true,
     "task": false
    }
   },
   "outputs": [],
   "source": [
    "def gradient_descent(objective, gradient, initial_weights, step_size=1, no_of_iterations=100, print_output=10):\n",
    "    objective_values = []\n",
    "    weights = np.copy(initial_weights)\n",
    "    objective_values.append(objective(weights))\n",
    "    \n",
    "    for counter in range(no_of_iterations):\n",
    "        weights -= step_size * gradient(weights)\n",
    "        objective_values.append(objective(weights))\n",
    "        \n",
    "        if (counter + 1) % print_output == 0:\n",
    "            print(\"Iteration {k}/{m}, objective = {o}.\".format(k=counter+1, \\\n",
    "                    m=no_of_iterations, o=objective_values[counter]))\n",
    "            \n",
    "    print(\"Iteration completed after {k}/{m}, objective = {o}.\".format(k=counter + 1, \\\n",
    "                m=no_of_iterations, o=objective_values[counter]))\n",
    "    \n",
    "    return weights, objective_values\n",
    "\n"
   ]
  },
  {
   "cell_type": "markdown",
   "metadata": {
    "deletable": false,
    "nbgrader": {
     "cell_type": "markdown",
     "checksum": "90e8d7a7ec95458b09266c3d92aaaec6",
     "grade": false,
     "grade_id": "cell-c3a6dd3a899dcb5c",
     "locked": true,
     "schema_version": 3,
     "solution": false,
     "task": false
    }
   },
   "source": [
    "In the following cell I have written a function **standardise** that standardises the columns of a two-dimensional NumPy array _data_matrix_. This results in a better classification accuracy"
   ]
  },
  {
   "cell_type": "code",
   "execution_count": 15,
   "metadata": {
    "deletable": false,
    "nbgrader": {
     "cell_type": "code",
     "checksum": "924547dca886c6e5532970ba42bdb82c",
     "grade": false,
     "grade_id": "standardise",
     "locked": false,
     "schema_version": 3,
     "solution": true,
     "task": false
    }
   },
   "outputs": [],
   "source": [
    "def standardise(data_matrix):\n",
    "    row_of_means = np.mean(data_matrix,axis = 0)\n",
    "    standardised_matrix = data_matrix - row_of_means\n",
    "    row_of_stds = np.std(standardised_matrix, axis = 0)\n",
    "  \n",
    "    return (standardised_matrix/row_of_stds)\n"
   ]
  },
  {
   "cell_type": "markdown",
   "metadata": {
    "deletable": false,
    "nbgrader": {
     "cell_type": "markdown",
     "checksum": "faa82c0c746059f5e089fd2a8bc80f46",
     "grade": false,
     "grade_id": "cell-4ec03cc4fda49034",
     "locked": true,
     "schema_version": 3,
     "solution": false,
     "task": false
    }
   },
   "source": [
    "## Height-Weight Classifier\n",
    "\n",
    "I will first train a simple binary classifier. The following cell initialises some data containing the information about the height and weight of a sample population."
   ]
  },
  {
   "cell_type": "code",
   "execution_count": 13,
   "metadata": {
    "deletable": false,
    "editable": false,
    "nbgrader": {
     "cell_type": "code",
     "checksum": "40ef881fba829b6964f8b1d65fcb6a47",
     "grade": false,
     "grade_id": "cell-d3175e8ccd63fab4",
     "locked": true,
     "schema_version": 3,
     "solution": false,
     "task": false
    }
   },
   "outputs": [
    {
     "data": {
      "image/png": "[encoded data removed]",
      "text/plain": [
       "<Figure size 432x288 with 1 Axes>"
      ]
     },
     "metadata": {
      "needs_background": "light"
     },
     "output_type": "display_data"
    }
   ],
   "source": [
    "from data_loader import load_data\n",
    "height, weight, biological_sex = load_data()\n",
    "biological_sex = np.double(biological_sex).reshape(-1, 1)\n",
    "plt.plot(height, weight, '.', linewidth=3)\n",
    "plt.xlabel('Height in metres', fontsize=16)\n",
    "plt.xticks(fontsize=16)\n",
    "plt.ylabel('Weight in kilogram', fontsize=16)\n",
    "plt.yticks(fontsize=16)\n",
    "plt.tight_layout;"
   ]
  },
  {
   "cell_type": "markdown",
   "metadata": {
    "deletable": false,
    "nbgrader": {
     "cell_type": "markdown",
     "checksum": "93ddcbc533969ca2585a24d87b6f10ff",
     "grade": false,
     "grade_id": "cell-1d8cb3da4dac45fa",
     "locked": true,
     "schema_version": 3,
     "solution": false,
     "task": false
    }
   },
   "source": [
    "In the following cell, I have initialised a polynomial data matrix _data_matrix_ of degree one with the standardised inputs formed from the height and weight arrays of the dataset. The lambda function _objective_ function with argument _weights_ is based on the **binary_logistic_regression_cost_function** with fixed arguments _data_matrix_ and _biological_sex_. The gradient function was created similarly using the **binary_logistic_regression_gradient**."
   ]
  },
  {
   "cell_type": "code",
   "execution_count": 18,
   "metadata": {
    "deletable": false,
    "nbgrader": {
     "cell_type": "code",
     "checksum": "c7d63d2842004f750b77a6454bf5006d",
     "grade": false,
     "grade_id": "cell-65673f36b848eab4",
     "locked": false,
     "schema_version": 3,
     "solution": true,
     "task": false
    }
   },
   "outputs": [],
   "source": [
    "\n",
    "#creating the polynomial basis array\n",
    "height_standardised = standardise(height)\n",
    "weight_standardised = standardise(weight)\n",
    "weight_height_std = np.c_[height_standardised,weight_standardised]\n",
    "data_matrix = polynomial_basis(weight_height_std)\n",
    "\n",
    "#creating the cost function and gradient\n",
    "objective = lambda weights: binary_logistic_regression_cost_function(data_matrix, weights, biological_sex)\n",
    "gradient = lambda weights: binary_logistic_regression_gradient(data_matrix, weights, biological_sex)\n",
    "\n",
    "\n",
    " "
   ]
  },
  {
   "cell_type": "markdown",
   "metadata": {
    "deletable": false,
    "nbgrader": {
     "cell_type": "markdown",
     "checksum": "726095861ab7131322e489c8a33d15f5",
     "grade": false,
     "grade_id": "cell-5c25ca5d2e19856b",
     "locked": true,
     "schema_version": 3,
     "solution": false,
     "task": false
    }
   },
   "source": [
    "Now I will call gradient descent with the following cell to compute _optimal_weights_ for my model."
   ]
  },
  {
   "cell_type": "code",
   "execution_count": 33,
   "metadata": {
    "deletable": false,
    "editable": false,
    "nbgrader": {
     "cell_type": "code",
     "checksum": "7753f6ed0ac1f5a4adbb1ef268caae81",
     "grade": false,
     "grade_id": "cell-fb31b6af5bbbcc9a",
     "locked": true,
     "schema_version": 3,
     "solution": false,
     "task": false
    }
   },
   "outputs": [
    {
     "name": "stdout",
     "output_type": "stream",
     "text": [
      "Iteration 1000/7000, objective = 2091.9568591203943.\n",
      "Iteration 2000/7000, objective = 2091.30072155257.\n",
      "Iteration 3000/7000, objective = 2091.297983425523.\n",
      "Iteration 4000/7000, objective = 2091.2979712556394.\n",
      "Iteration 5000/7000, objective = 2091.2979712013266.\n",
      "Iteration 6000/7000, objective = 2091.297971201084.\n",
      "Iteration 7000/7000, objective = 2091.297971201083.\n",
      "Iteration completed after 7000/7000, objective = 2091.297971201083.\n"
     ]
    }
   ],
   "source": [
    "initial_weights = np.zeros((data_matrix.shape[1], 1))\n",
    "optimal_weights, objective_values = gradient_descent(objective, gradient, initial_weights, \\\n",
    "                                    step_size=1.9/(np.linalg.norm(data_matrix, 2) ** 2), \\\n",
    "                                    no_of_iterations=7000, print_output=1000)"
   ]
  },
  {
   "cell_type": "code",
   "execution_count": 35,
   "metadata": {
    "deletable": false,
    "editable": false,
    "nbgrader": {
     "cell_type": "code",
     "checksum": "0102eed55ffb0f81e5ba3f42cffd9422",
     "grade": true,
     "grade_id": "cell-8090fbc611c0a194",
     "locked": true,
     "points": 4,
     "schema_version": 3,
     "solution": false,
     "task": false
    }
   },
   "outputs": [
    {
     "name": "stdout",
     "output_type": "stream",
     "text": [
      "The optimal weights are w = [[-0.01870311  1.89527459 -6.3680829 ]].T with objective value L(w) = 2091.297971201083.\n"
     ]
    }
   ],
   "source": [
    "print(\"The optimal weights are w = {w}.T with objective value L(w) = {o}.\".format(w = optimal_weights.T, \\\n",
    "        o=objective_values[-1]))"
   ]
  },
  {
   "cell_type": "markdown",
   "metadata": {
    "deletable": false,
    "nbgrader": {
     "cell_type": "markdown",
     "checksum": "14f46ce484ad38b6e849796544e9ad6c",
     "grade": false,
     "grade_id": "cell-18f1b30c908aaae8",
     "locked": true,
     "schema_version": 3,
     "solution": false,
     "task": false
    }
   },
   "source": [
    "Below, I have written two functions **prediction_function** and **classification_accuracy** that turn my predicitons into classification results and that compare how many labels have been classified correctly. The function **prediction_function** takes the arguments _data_matrix_ and _weights_ as inputs and returns a vector of class labels with binary values in $\\{0, 1\\}$ as its output. The function **classification_accuracy** takes two inputs _true_labels_ and _recovered_labels_ and returns the percentage of correctly classified labels divided by 100."
   ]
  },
  {
   "cell_type": "code",
   "execution_count": 8,
   "metadata": {
    "deletable": false,
    "nbgrader": {
     "cell_type": "code",
     "checksum": "dda3261c6408de6bfac72ee8a2e3d197",
     "grade": false,
     "grade_id": "prediction-and-accuracy",
     "locked": false,
     "schema_version": 3,
     "solution": true,
     "task": false
    }
   },
   "outputs": [],
   "source": [
    "def prediction_function(data_matrix, weights):\n",
    "    results = logistic_function(data_matrix @ weights)\n",
    "    binary = np.where(results >0.5,1,0)\n",
    "    return binary\n",
    "   \n",
    "def classification_accuracy(true_labels, recovered_labels):\n",
    "    equal_labels = (recovered_labels == true_labels)\n",
    "    return np.mean(equal_labels)\n",
    "  "
   ]
  },
  {
   "cell_type": "code",
   "execution_count": 37,
   "metadata": {
    "deletable": false,
    "editable": false,
    "nbgrader": {
     "cell_type": "code",
     "checksum": "977c57bb1188016adfa151474f8baecf",
     "grade": true,
     "grade_id": "accuracy-test",
     "locked": true,
     "points": 4,
     "schema_version": 3,
     "solution": false,
     "task": false
    }
   },
   "outputs": [
    {
     "name": "stdout",
     "output_type": "stream",
     "text": [
      "The classification accuracy for the training set is 91.94 %.\n"
     ]
    }
   ],
   "source": [
    "print(\"The classification accuracy for the training set is {p} %.\".format(p = 100 * \\\n",
    "        classification_accuracy(biological_sex, prediction_function(data_matrix, optimal_weights))))"
   ]
  },
  {
   "cell_type": "markdown",
   "metadata": {
    "deletable": false,
    "nbgrader": {
     "cell_type": "markdown",
     "checksum": "00633505cdd1f8712777a761fbe95961",
     "grade": false,
     "grade_id": "cell-66ec567aec881880",
     "locked": true,
     "schema_version": 3,
     "solution": false,
     "task": false
    }
   },
   "source": [
    "## Multinomial logistic regression\n",
    "\n",
    "This concludes the binary classification part of the project. We now move on to multinomial logistic regression for multi-class classfication problems.\n",
    "\n",
    "I have initially implemented a softmax function **softmax_function**; this acts similarly to the logistic function in the binary case, however this function allows us to tackle classification problems with more than 2 labels. The function takes the NumPy array _argument_ as its main argument, but also has an optional _axis_ argument to determine across which array-dimension you apply the softmax operation."
   ]
  },
  {
   "cell_type": "code",
   "execution_count": 9,
   "metadata": {
    "deletable": false,
    "nbgrader": {
     "cell_type": "code",
     "checksum": "4977cb40c6c166eebb31fe6ef824918a",
     "grade": false,
     "grade_id": "softmax",
     "locked": false,
     "schema_version": 3,
     "solution": true,
     "task": false
    }
   },
   "outputs": [],
   "source": [
    "def softmax_function(argument, axis=None):\n",
    "    \n",
    "    if argument.ndim == 1:\n",
    "        new_array = np.exp(argument)\n",
    "        result = new_array/np.sum(new_array)\n",
    "        \n",
    "        return result\n",
    "    elif argument.ndim > 1:\n",
    "        \n",
    "        if axis == None:\n",
    "            result = np.exp(argument)/sum(sum(np.exp(x)) for x in argument)\n",
    "            \n",
    "            return result\n",
    "        \n",
    "        elif axis == 0:\n",
    "            new_array = np.exp(argument)\n",
    "            result = new_array/new_array.sum(axis=0, keepdims = True)\n",
    "            \n",
    "            return result\n",
    "                \n",
    "        elif axis == 1:\n",
    "            new_array = np.exp(argument)\n",
    "            result = new_array/new_array.sum(axis=1, keepdims = True)\n",
    "          \n",
    "            return result\n",
    "    "
   ]
  },
  {
   "cell_type": "markdown",
   "metadata": {
    "deletable": false,
    "nbgrader": {
     "cell_type": "markdown",
     "checksum": "22c6fcff95effedaa57877d34de89392",
     "grade": false,
     "grade_id": "cell-941464e24613e0a9",
     "locked": true,
     "schema_version": 3,
     "solution": false,
     "task": false
    }
   },
   "source": [
    "Next, I have written a function **one_hot_vector_encoding** that converts an NumPy array _labels_ with values in the range of $\\{0, K - 1\\}$ into so-called one-hot vector encodings. For example, for $K = 3$ and a label vector $\\text{labels} = \\left( \\begin{matrix} 2 & 0 & 1 & 2\\end{matrix} \\right)^\\top$, the output of **one_hot_vector_encoding(labels)** should be a two-dimensional NumPy array of the form\n",
    "\n",
    "\\begin{align*}\n",
    "\\left( \\begin{matrix} 0 & 0 & 1 \\\\ 1 & 0 & 0 \\\\ 0 & 1 & 0 \\\\ 0 & 0 & 1 \\end{matrix} \\right) \\, . \n",
    "\\end{align*}"
   ]
  },
  {
   "cell_type": "code",
   "execution_count": 12,
   "metadata": {
    "deletable": false,
    "nbgrader": {
     "cell_type": "code",
     "checksum": "94bcefd8f6f2834778c5e510f9797c83",
     "grade": false,
     "grade_id": "one-hot-vector-encoding",
     "locked": false,
     "schema_version": 3,
     "solution": true,
     "task": false
    }
   },
   "outputs": [],
   "source": [
    "def one_hot_vector_encoding(labels):\n",
    "    labels_copy = labels\n",
    "    ohv_matrix = np.zeros((labels_copy.size, labels_copy.max()+1))\n",
    "    ohv_matrix[np.arange(labels_copy.size),labels_copy] = 1\n",
    "    return ohv_matrix   "
   ]
  },
  {
   "cell_type": "markdown",
   "metadata": {
    "deletable": false,
    "nbgrader": {
     "cell_type": "markdown",
     "checksum": "740154e524df161eed6ffcb3b6daf01f",
     "grade": false,
     "grade_id": "cell-4d72a85842f6c692",
     "locked": true,
     "schema_version": 3,
     "solution": false,
     "task": false
    }
   },
   "source": [
    "Below I implement the error function and gradient for the multinomial logistic regression in terms of two functions **multinomial_logistic_regression_cost_function** and **multinomial_logistic_regression_gradient**. The mathematical representation of the cost function is as follows,\n",
    "\\begin{equation}\n",
    "L(W^k) := \\sum_{i=1}^s \\mathrm{log}(\\sum_{i=1}^K \\mathrm{exp}(\\langle\\phi(x_i),w_j\\rangle)) - \\sum_{i=1}^s\\sum_{j=1}^K1_{y_i=j}\\langle\\phi(x_i),w_j\\rangle\n",
    "\\end{equation}\n",
    "\n",
    "and the gradient of the above is given by,\n",
    "\\begin{equation}\n",
    "\\nabla L(w^k) = X^T(\\sigma(Xw^k) - Y_{ohv})\n",
    "\\end{equation}\n",
    "where $\\sigma$ is the softmax function, and $Y_{ohv}$ is the one hot vector representation of the the labels. \n",
    "\n",
    "\n",
    "As in the binary classification case, the arguments are the polynomial data matrix _data_matrix_ and weights that are now named _weight_matrix_. Instead of passing on labels as _outputs_ as in the binary case, I will pass the one hot vector encoding representation _one_hot_vector_encodings_ as my third argument."
   ]
  },
  {
   "cell_type": "code",
   "execution_count": 11,
   "metadata": {
    "deletable": false,
    "nbgrader": {
     "cell_type": "code",
     "checksum": "6866c7079139fd8a29d4c148a6e2f034",
     "grade": false,
     "grade_id": "multinomial_logistic_regression",
     "locked": false,
     "schema_version": 3,
     "solution": true,
     "task": false
    }
   },
   "outputs": [],
   "source": [
    "def multinomial_logistic_regression_cost_function(data_matrix, weight_matrix, one_hot_vector_encodings):\n",
    "    #loss function\n",
    "    s = data_matrix.shape[0]\n",
    "    K = one_hot_vector_encodings.shape[1]\n",
    "    values = 0\n",
    "    \n",
    "    for i in range(s):\n",
    "        term1s = []\n",
    "        col = np.where(one_hot_vector_encodings[i,:] == 1)[0][0]\n",
    "        term2 = (np.dot(data_matrix[i,:],weight_matrix[:,col]))\n",
    "        for j in range(K): \n",
    "            term1_before = (np.exp(np.dot(data_matrix[i,:],weight_matrix[:,j])))                  \n",
    "            term1s.append(term1_before)\n",
    "        term1 = np.log((np.sum(term1s)))\n",
    "        values += term1 - term2\n",
    "    return values\n",
    "    \n",
    "def multinomial_logistic_regression_gradient(data_matrix, weight_matrix, one_hot_vector_encodings):\n",
    "    result = data_matrix.T @ (softmax_function(data_matrix@weight_matrix,axis = 1) - one_hot_vector_encodings)\n",
    "    return result"
   ]
  },
  {
   "cell_type": "markdown",
   "metadata": {
    "deletable": false,
    "nbgrader": {
     "cell_type": "markdown",
     "checksum": "a034361a28a9e882f7d7ad4328070a9c",
     "grade": false,
     "grade_id": "cell-b810132e15131dc9",
     "locked": true,
     "schema_version": 3,
     "solution": false,
     "task": false
    }
   },
   "source": [
    "I will initially test my functions on the [UCI wine dataset](https://archive.ics.uci.edu/ml/datasets/wine); the dataset contains 13 attributes from a chemical analysis of Italian wines from three different cultivars. The code in the following cell loads the dataset and stores the labels in a NumPy array _labels_ and the attributes in a NumPy array _inputs_."
   ]
  },
  {
   "cell_type": "code",
   "execution_count": 19,
   "metadata": {
    "deletable": false,
    "editable": false,
    "nbgrader": {
     "cell_type": "code",
     "checksum": "c66a8b68f9903af0351c13f30605934f",
     "grade": false,
     "grade_id": "cell-d080a23a2048227b",
     "locked": true,
     "schema_version": 3,
     "solution": false,
     "task": false
    }
   },
   "outputs": [],
   "source": [
    "wines = np.loadtxt('wine.data', delimiter=',')\n",
    "labels = wines[:, 0].astype(int) - 1\n",
    "inputs = wines[:, 1::]"
   ]
  },
  {
   "cell_type": "markdown",
   "metadata": {
    "deletable": false,
    "nbgrader": {
     "cell_type": "markdown",
     "checksum": "6a9db194ed9b4c4b458c753d58b0196e",
     "grade": false,
     "grade_id": "cell-d26a44b054d22e4d",
     "locked": true,
     "schema_version": 3,
     "solution": false,
     "task": false
    }
   },
   "source": [
    "Below, I will transform the labels _labels_ into a one hot vector representation with my function **one_hot_vector_encoding** and store my results in a NumPy array named _outputs_."
   ]
  },
  {
   "cell_type": "code",
   "execution_count": 20,
   "metadata": {
    "deletable": false,
    "nbgrader": {
     "cell_type": "code",
     "checksum": "9378cf561d0799b518319252eaeb6c87",
     "grade": false,
     "grade_id": "cell-7362e79b5354d63b",
     "locked": false,
     "schema_version": 3,
     "solution": true,
     "task": false
    }
   },
   "outputs": [],
   "source": [
    "# YOUR CODE HERE\n",
    "outputs = one_hot_vector_encoding(labels)"
   ]
  },
  {
   "cell_type": "markdown",
   "metadata": {
    "deletable": false,
    "nbgrader": {
     "cell_type": "markdown",
     "checksum": "a365aa01296ecd58f3550a5a83dc403d",
     "grade": false,
     "grade_id": "cell-100a0ea7469b3821",
     "locked": true,
     "schema_version": 3,
     "solution": false,
     "task": false
    }
   },
   "source": [
    "In the following cell, I have written code that initialises a polynomial data matrix _data_matrix_ of degree one with the standardised inputs _inputs_ from the wine dataset. I define an objective function _objective_ with argument _weight_matrix_ based on the **multinomial_logistic_regression_cost_function** with fixed arguments _data_matrix_ and _one_hot_vector_encodings_. In a similar fashion, I create a function _gradient_ based on **multinomial_logistic_regression_gradient**."
   ]
  },
  {
   "cell_type": "code",
   "execution_count": 17,
   "metadata": {
    "deletable": false,
    "nbgrader": {
     "cell_type": "code",
     "checksum": "712836b79b8e6389ce84a45f8439a300",
     "grade": false,
     "grade_id": "cell-094a5bddd94a009a",
     "locked": false,
     "schema_version": 3,
     "solution": true,
     "task": false
    }
   },
   "outputs": [],
   "source": [
    "# YOUR CODE HERE\n",
    "\n",
    "data_matrix = polynomial_basis(standardise(inputs))\n",
    "\n",
    "objective = lambda weight_matrix: multinomial_logistic_regression_cost_function(data_matrix, weight_matrix, outputs) \n",
    "gradient = lambda weight_matrix: multinomial_logistic_regression_gradient(data_matrix, weight_matrix, outputs)\n"
   ]
  },
  {
   "cell_type": "markdown",
   "metadata": {
    "deletable": false,
    "editable": false,
    "nbgrader": {
     "cell_type": "markdown",
     "checksum": "d06a10bf709742803be0723fd183611d",
     "grade": false,
     "grade_id": "cell-901f918df8fdef00",
     "locked": true,
     "schema_version": 3,
     "solution": false,
     "task": false
    }
   },
   "source": [
    "Call gradient descent with the following cell to compute an _optimal_weight_matrix_ for your model."
   ]
  },
  {
   "cell_type": "code",
   "execution_count": 63,
   "metadata": {
    "deletable": false,
    "editable": false,
    "nbgrader": {
     "cell_type": "code",
     "checksum": "acf5d4074e6b0b65252ef485d45d5838",
     "grade": false,
     "grade_id": "cell-175babea73e2db36",
     "locked": true,
     "schema_version": 3,
     "solution": false,
     "task": false
    }
   },
   "outputs": [
    {
     "name": "stdout",
     "output_type": "stream",
     "text": [
      "Iteration 5000/100000, objective = 0.37363264592740286.\n",
      "Iteration 10000/100000, objective = 0.19859836381135887.\n",
      "Iteration 15000/100000, objective = 0.13605627122241737.\n",
      "Iteration 20000/100000, objective = 0.10372479744703211.\n",
      "Iteration 25000/100000, objective = 0.08391801536513466.\n",
      "Iteration 30000/100000, objective = 0.07051872085948618.\n",
      "Iteration 35000/100000, objective = 0.06084138658523397.\n",
      "Iteration 40000/100000, objective = 0.05351961411115225.\n",
      "Iteration 45000/100000, objective = 0.047784005082136094.\n",
      "Iteration 50000/100000, objective = 0.04316789618475969.\n",
      "Iteration 55000/100000, objective = 0.03937164510108371.\n",
      "Iteration 60000/100000, objective = 0.036193967173282715.\n",
      "Iteration 65000/100000, objective = 0.0334945959405184.\n",
      "Iteration 70000/100000, objective = 0.031172765703073146.\n",
      "Iteration 75000/100000, objective = 0.02915420629986798.\n",
      "Iteration 80000/100000, objective = 0.027382962414542966.\n",
      "Iteration 85000/100000, objective = 0.02581606984776652.\n",
      "Iteration 90000/100000, objective = 0.024419988124662062.\n",
      "Iteration 95000/100000, objective = 0.02316814830816938.\n",
      "Iteration 100000/100000, objective = 0.022039229212158062.\n",
      "Iteration completed after 100000/100000, objective = 0.022039229212158062.\n"
     ]
    }
   ],
   "source": [
    "initial_weight_matrix = np.zeros((data_matrix.shape[1], outputs.shape[1]))\n",
    "optimal_weight_matrix, objective_values = gradient_descent(objective, gradient, initial_weight_matrix, \\\n",
    "                                    step_size=1.9/(np.linalg.norm(data_matrix, 2) ** 2), \\\n",
    "                                    no_of_iterations=100000, print_output=5000)"
   ]
  },
  {
   "cell_type": "markdown",
   "metadata": {
    "deletable": false,
    "nbgrader": {
     "cell_type": "markdown",
     "checksum": "e5a8d433e17eb215eab8b141e3fa48bd",
     "grade": false,
     "grade_id": "cell-b7bf0daf68390bac",
     "locked": true,
     "schema_version": 3,
     "solution": false,
     "task": false
    }
   },
   "source": [
    "The below function **multinomial_prediction_function** turns my predicitons into labels. The function takes the arguments _data_matrix_ and _weight_matrix_ as inputs and returns a vector of labels with values in $\\{0, K - 1 \\}$ as its output."
   ]
  },
  {
   "cell_type": "code",
   "execution_count": 12,
   "metadata": {
    "deletable": false,
    "nbgrader": {
     "cell_type": "code",
     "checksum": "e824634474ea1ee537d80abc1bd092cd",
     "grade": false,
     "grade_id": "cell-2da6bb5a7e17ea5e",
     "locked": false,
     "schema_version": 3,
     "solution": true,
     "task": false
    }
   },
   "outputs": [],
   "source": [
    "def multinomial_prediction_function(data_matrix, weight_matrix):\n",
    "    k = weight_matrix.shape[1]\n",
    "    matrix = logistic_function(data_matrix@weight_matrix)\n",
    "    ohv_matrix = (matrix == matrix.max(axis=1,keepdims = 1)).astype(float)\n",
    "    prediction = ohv_matrix @ np.array(np.arange(0,k))\n",
    "    return prediction"
   ]
  },
  {
   "cell_type": "code",
   "execution_count": 69,
   "metadata": {
    "deletable": false,
    "editable": false,
    "nbgrader": {
     "cell_type": "code",
     "checksum": "bbf3d6b935f497fab4bd93eeea119319",
     "grade": true,
     "grade_id": "cell-49fe4e66273baf80",
     "locked": true,
     "points": 4,
     "schema_version": 3,
     "solution": false,
     "task": false
    }
   },
   "outputs": [
    {
     "name": "stdout",
     "output_type": "stream",
     "text": [
      "The classification accuracy for the wine training set is 100.0 %.\n"
     ]
    }
   ],
   "source": [
    "print(\"The classification accuracy for the wine training set is {p} %.\".format(p = 100 * \\\n",
    "        classification_accuracy(labels, multinomial_prediction_function(data_matrix, optimal_weight_matrix))))"
   ]
  },
  {
   "cell_type": "markdown",
   "metadata": {
    "deletable": false,
    "nbgrader": {
     "cell_type": "markdown",
     "checksum": "ba0705811c857f5094055fbd9f385917",
     "grade": false,
     "grade_id": "cell-45dcd721e2869a9a",
     "locked": true,
     "schema_version": 3,
     "solution": false,
     "task": false
    }
   },
   "source": [
    "## Ridge logistic regression\n",
    "\n",
    "For the next parts we will consider using variational regularisation to obtain a better generalised model. I have modified the multinomial logistic regression problem to include a squared Frobenius norm of the weights as a regularisation term. I have then written two functions **ridge_logistic_regression_cost_function** and **ridge_logistic_regression_gradient** that take the arguments _data_matrix_, _weight_matrix_, _one_hot_vector_encodings_ and _regularisation_parameter_ as inputs. The function **ridge_logistic_regression_cost_function** returns the evulation of the multinomial logistic regression cost function with its linear model being determined by the polynomial basis matrix _data_matrix_ and the weight matrix _weight_matrix_, plus _regularisation_parameter_ times the squared Frobenius norm of _weight_matrix_ divided by two. The function **ridge_logistic_regression_gradient** computes the corresponding gradient."
   ]
  },
  {
   "cell_type": "code",
   "execution_count": 13,
   "metadata": {
    "deletable": false,
    "nbgrader": {
     "cell_type": "code",
     "checksum": "acdbb33c938f33ee566b9dee3262d846",
     "grade": false,
     "grade_id": "cell-abadca310df6699f",
     "locked": false,
     "schema_version": 3,
     "solution": true,
     "task": false
    }
   },
   "outputs": [],
   "source": [
    "def ridge_logistic_regression_cost_function(data_matrix, weight_matrix, one_hot_vector_encodings, \\\n",
    "                                            regularisation_parameter):\n",
    "    ridge_term = (regularisation_parameter/2) * (np.linalg.norm(weight_matrix)**2)\n",
    "    return multinomial_logistic_regression_cost_function(data_matrix, weight_matrix, one_hot_vector_encodings) + ridge_term\n",
    "    \n",
    "    \n",
    "    \n",
    "def ridge_logistic_regression_gradient(data_matrix, weight_matrix, one_hot_vector_encodings, \\\n",
    "                                       regularisation_parameter):\n",
    "    ridge_term = regularisation_parameter * weight_matrix\n",
    "    return multinomial_logistic_regression_gradient(data_matrix,weight_matrix,one_hot_vector_encodings) + ridge_term \n"
   ]
  },
  {
   "cell_type": "markdown",
   "metadata": {
    "deletable": false,
    "nbgrader": {
     "cell_type": "markdown",
     "checksum": "c0996e4e5192b31e3a4934a13a883b09",
     "grade": false,
     "grade_id": "cell-1af3c4a5f531e2fa",
     "locked": true,
     "schema_version": 3,
     "solution": false,
     "task": false
    }
   },
   "source": [
    "I have set my regularisation parameter _regularisation_parameter_ to the value 15 and defined an objective function _objective_ as well as a gradient function _gradient_, both with argument _weight_matrix_, for fixed _data_matrix_ and _outputs_ as from the wine dataset that I used before."
   ]
  },
  {
   "cell_type": "code",
   "execution_count": 14,
   "metadata": {
    "deletable": false,
    "nbgrader": {
     "cell_type": "code",
     "checksum": "f40622d6042d8793ce03206d450ee648",
     "grade": false,
     "grade_id": "cell-3f1796626df02a88",
     "locked": false,
     "schema_version": 3,
     "solution": true,
     "task": false
    }
   },
   "outputs": [],
   "source": [
    "# YOUR CODE HERE\n",
    "regularisation_parameter = 15\n",
    "objective = lambda weight_matrix: ridge_logistic_regression_cost_function(data_matrix, weight_matrix, outputs,regularisation_parameter) \n",
    "gradient = lambda weight_matrix: ridge_logistic_regression_gradient(data_matrix, weight_matrix, outputs,regularisation_parameter)\n"
   ]
  },
  {
   "cell_type": "code",
   "execution_count": 21,
   "metadata": {
    "deletable": false,
    "editable": false,
    "nbgrader": {
     "cell_type": "code",
     "checksum": "4d5eec1441b9057a16855a9953bfe215",
     "grade": false,
     "grade_id": "cell-4ac1dd08e2ba7c80",
     "locked": true,
     "schema_version": 3,
     "solution": false,
     "task": false
    }
   },
   "outputs": [
    {
     "name": "stdout",
     "output_type": "stream",
     "text": [
      "Iteration 10/100, objective = 50.66582189248284.\n",
      "Iteration 20/100, objective = 48.11155251656332.\n",
      "Iteration 30/100, objective = 47.821933497251294.\n",
      "Iteration 40/100, objective = 47.766837844563554.\n",
      "Iteration 50/100, objective = 47.7524214796791.\n",
      "Iteration 60/100, objective = 47.747879295725696.\n",
      "Iteration 70/100, objective = 47.7462923106324.\n",
      "Iteration 80/100, objective = 47.74570110157326.\n",
      "Iteration 90/100, objective = 47.745470493345195.\n",
      "Iteration 100/100, objective = 47.745377257110924.\n",
      "Iteration completed after 100/100, objective = 47.745377257110924.\n"
     ]
    }
   ],
   "source": [
    "initial_weight_matrix = np.zeros((data_matrix.shape[1], outputs.shape[1]))\n",
    "ridge_weight_matrix, ridge_objective_values = gradient_descent(objective, gradient, initial_weight_matrix, \\\n",
    "                                    step_size=1.9/np.linalg.norm(data_matrix.T @ data_matrix + \\\n",
    "                                    regularisation_parameter * np.eye(data_matrix.shape[1]), 2), \\\n",
    "                                    no_of_iterations=100, print_output=10)"
   ]
  },
  {
   "cell_type": "code",
   "execution_count": 22,
   "metadata": {
    "deletable": false,
    "editable": false,
    "nbgrader": {
     "cell_type": "code",
     "checksum": "a093e26a90163695684c1f98e8cfd645",
     "grade": true,
     "grade_id": "cell-3d84066ed6f97945",
     "locked": true,
     "points": 4,
     "schema_version": 3,
     "solution": false,
     "task": false
    }
   },
   "outputs": [
    {
     "name": "stdout",
     "output_type": "stream",
     "text": [
      "The ridge regression classification accuracy with regularisation parameter 15 for the wine training set is 99.43820224719101 %.\n"
     ]
    }
   ],
   "source": [
    "print(\"The ridge regression classification accuracy with regularisation parameter {a}\".format(a = \\\n",
    "       regularisation_parameter), \"for the wine training set is {p} %.\".format(p = 100 * \\\n",
    "        classification_accuracy(labels, multinomial_prediction_function(data_matrix, ridge_weight_matrix))))"
   ]
  },
  {
   "cell_type": "markdown",
   "metadata": {
    "deletable": false,
    "nbgrader": {
     "cell_type": "markdown",
     "checksum": "3e59581e2eed10dab4a2d0ca63e5e67d",
     "grade": false,
     "grade_id": "cell-681ea7611e1b8d47",
     "locked": true,
     "schema_version": 3,
     "solution": false,
     "task": false
    }
   },
   "source": [
    "## LASSO-type logistic regression\n",
    "\n",
    "As a final exercise, I will consider LASSO-type regularisation. Here, I implement a modification of the multinomial logistic regression problem that contains a positive multiple of the one-norm of the weight matrix as regularisation term, and approximate a solution numerically with the proximal gradient descent method. The proximal method must be used due to the one norm being non-differentiable.\n",
    "\n",
    "I begin by completing the following three functions. The function **soft_thresholding** takes the two arguments _argument_ and _threshold_ and returns the solution of the soft-thresholding operation applied to _argument_ with threshold _threshold_. \n",
    "\n",
    "The function **lasso_logistic_regression_cost_function** implements the multinomial logistic regression loss with additional one-norm regularisation for polynomial basis matrix _data_matrix_, weight matrix _weight_matrix_, the one hot vector encoding output _one_hot_vector_encodings_ and the regularisation parameter _regularisation_parameter_.\n",
    "\n",
    "The function **proximal_gradient_descent** takes the same arguments as the function **gradient_descent**, with additional argument _proximal_map_ in order to specify the proximal map to be used. "
   ]
  },
  {
   "cell_type": "code",
   "execution_count": 15,
   "metadata": {
    "deletable": false,
    "nbgrader": {
     "cell_type": "code",
     "checksum": "bdab43cdab7db63c950b7d0a6c06e564",
     "grade": false,
     "grade_id": "cell-b2608195afc72125",
     "locked": false,
     "schema_version": 3,
     "solution": true,
     "task": false
    }
   },
   "outputs": [],
   "source": [
    "def soft_thresholding(argument, threshold):\n",
    "    return np.sign(argument) * np.maximum(0, np.abs(argument) - threshold)\n",
    "    \n",
    "def lasso_logistic_regression_cost_function(data_matrix, weight_matrix, one_hot_vector_encodings, \\\n",
    "                                       regularisation_parameter):\n",
    "    lasso_term = regularisation_parameter * np.linalg.norm(weight_matrix,1)\n",
    "    return multinomial_logistic_regression_cost_function(data_matrix, weight_matrix, one_hot_vector_encodings) + lasso_term\n",
    "    \n",
    "def proximal_gradient_descent(objective, gradient, proximal_map, initial_weights, step_size=1, \\\n",
    "                              no_of_iterations=100, print_output=100):\n",
    "    objective_values = []\n",
    "    weights = initial_weights    \n",
    "    objective_values.append(objective(weights))\n",
    "    for counter in range(no_of_iterations):\n",
    "        weights = proximal_map(weights - step_size * gradient(weights))\n",
    "        objective_values.append(objective(weights))\n",
    "        if (counter + 1) % print_output == 0:\n",
    "            print(\"Iteration {k}/{m}, objective = {o}.\".format(k=counter+1, \\\n",
    "                    m=no_of_iterations, o=objective_values[counter]))\n",
    "    print(\"Iteration completed after {k}/{m}, objective = {o}.\".format(k=counter + 1, \\\n",
    "                m=no_of_iterations, o=objective_values[counter]))\n",
    "    return weights, objective_values"
   ]
  },
  {
   "cell_type": "markdown",
   "metadata": {
    "deletable": false,
    "nbgrader": {
     "cell_type": "markdown",
     "checksum": "2bfbe1872c304938510aeafc7fa10c25",
     "grade": false,
     "grade_id": "cell-e3ac148e879c476f",
     "locked": true,
     "schema_version": 3,
     "solution": false,
     "task": false
    }
   },
   "source": [
    "In the next cell, I define a suitable objective function _objective_ and a suitable gradient function _gradient_, both with argument _weight_matrix_ and fixed _data_matrix_ and _outputs_ from the wine dataset we have seen before. I have also defined a suitable proximal map function _proximal_map_ with correctly chosen threshold."
   ]
  },
  {
   "cell_type": "code",
   "execution_count": 24,
   "metadata": {
    "deletable": false,
    "nbgrader": {
     "cell_type": "code",
     "checksum": "5af740fe918364e9026fad9423073f3d",
     "grade": false,
     "grade_id": "cell-3afeb025acbc0916",
     "locked": false,
     "schema_version": 3,
     "solution": true,
     "task": false
    }
   },
   "outputs": [],
   "source": [
    "regularisation_parameter = 0.5\n",
    "step_size = 1.9/(np.linalg.norm(data_matrix, 2) ** 2)\n",
    "# YOUR CODE HERE\n",
    "\n",
    "objective = lambda weight_matrix: lasso_logistic_regression_cost_function(data_matrix, weight_matrix, outputs, \\\n",
    "                                       regularisation_parameter)\n",
    "gradient = lambda weight_matrix: multinomial_logistic_regression_gradient(data_matrix, weight_matrix, outputs)\n",
    "\n",
    "proximal_map = lambda weights: soft_thresholding(weights, regularisation_parameter * \\\n",
    "                                                 step_size)"
   ]
  },
  {
   "cell_type": "code",
   "execution_count": 76,
   "metadata": {
    "deletable": false,
    "editable": false,
    "nbgrader": {
     "cell_type": "code",
     "checksum": "998771495b551e63b22c8b1980b179c9",
     "grade": false,
     "grade_id": "cell-33117d62e5699048",
     "locked": true,
     "schema_version": 3,
     "solution": false,
     "task": false
    }
   },
   "outputs": [
    {
     "name": "stdout",
     "output_type": "stream",
     "text": [
      "Iteration 1000/10000, objective = 8.24959786201634.\n",
      "Iteration 2000/10000, objective = 8.263886291899661.\n",
      "Iteration 3000/10000, objective = 8.320757757764321.\n",
      "Iteration 4000/10000, objective = 8.354235362086085.\n",
      "Iteration 5000/10000, objective = 8.374118326110752.\n",
      "Iteration 6000/10000, objective = 8.385347232389174.\n",
      "Iteration 7000/10000, objective = 8.392015832216455.\n",
      "Iteration 8000/10000, objective = 8.396214878066097.\n",
      "Iteration 9000/10000, objective = 8.399020949261885.\n",
      "Iteration 10000/10000, objective = 8.40100378273745.\n",
      "Iteration completed after 10000/10000, objective = 8.40100378273745.\n"
     ]
    }
   ],
   "source": [
    "initial_weight_matrix = np.zeros((data_matrix.shape[1], outputs.shape[1]))\n",
    "lasso_weight_matrix, lasso_objective_values = proximal_gradient_descent(objective, gradient, proximal_map, \\\n",
    "                                                initial_weight_matrix, step_size, no_of_iterations=10000, \\\n",
    "                                                print_output=1000)"
   ]
  },
  {
   "cell_type": "code",
   "execution_count": 77,
   "metadata": {
    "deletable": false,
    "editable": false,
    "nbgrader": {
     "cell_type": "code",
     "checksum": "d0f049b162367cd9d765fb16be5a693e",
     "grade": true,
     "grade_id": "cell-4cd3a07610421486",
     "locked": true,
     "points": 5,
     "schema_version": 3,
     "solution": false,
     "task": false
    }
   },
   "outputs": [
    {
     "name": "stdout",
     "output_type": "stream",
     "text": [
      "The lasso classification accuracy with regularisation parameter 0.5 for the wine training set is 100.0 %.\n"
     ]
    }
   ],
   "source": [
    "print(\"The lasso classification accuracy with regularisation parameter {a}\".format(a = \\\n",
    "       regularisation_parameter), \"for the wine training set is {p} %.\".format(p = 100 * \\\n",
    "        classification_accuracy(labels, multinomial_prediction_function(data_matrix, lasso_weight_matrix))))"
   ]
  },
  {
   "cell_type": "markdown",
   "metadata": {
    "deletable": false,
    "nbgrader": {
     "cell_type": "markdown",
     "checksum": "f6ffccf3240508413da555b379ba46e8",
     "grade": false,
     "grade_id": "cell-cf4145537166f52b",
     "locked": true,
     "schema_version": 3,
     "solution": false,
     "task": false
    }
   },
   "source": [
    "## MNIST free-style\n",
    "\n",
    "We begin by loading the MNIST training set that is taken from this [source](http://yann.lecun.com/exdb/mnist/):\n",
    "This consists of 60000 training images of handwritten digits and their corresponding labels.\n",
    "An example data point from the MNIST set has been visualised below - I will be using the above logistic regression approaches to create a sufficiently high performing classifying algorithm."
   ]
  },
  {
   "cell_type": "code",
   "execution_count": 16,
   "metadata": {
    "deletable": false,
    "editable": false,
    "nbgrader": {
     "cell_type": "code",
     "checksum": "6f85db745293111420d8bafb5f6dcc87",
     "grade": false,
     "grade_id": "cell-7b42fe502f206f1c",
     "locked": true,
     "schema_version": 3,
     "solution": false,
     "task": false
    }
   },
   "outputs": [
    {
     "name": "stdout",
     "output_type": "stream",
     "text": [
      "The MNIST training set contains 60000 images with 784 pixels each.\n"
     ]
    },
    {
     "data": {
      "image/png": "[encoded data removed]",
      "text/plain": [
       "<Figure size 432x288 with 1 Axes>"
      ]
     },
     "metadata": {
      "needs_background": "dark"
     },
     "output_type": "display_data"
    }
   ],
   "source": [
    "from data_loader import load_mnist\n",
    "images, labels = load_mnist('')\n",
    "print(\"The MNIST training set contains {s} images with {p} pixels each.\".format(s = images.shape[0], \\\n",
    "        p = images.shape[1]))\n",
    "plt.imshow(images[13,:].reshape(28, 28))\n",
    "plt.title(\"This is the 13th image of the MNIST training set. The corresponding label is {l}\".format( \\\n",
    "            l=labels[13]))\n",
    "plt.tight_layout;"
   ]
  },
  {
   "cell_type": "markdown",
   "metadata": {},
   "source": [
    "The cell below is a copy of the gradient descent formula, however I have removed the objective values from the return command"
   ]
  },
  {
   "cell_type": "code",
   "execution_count": 17,
   "metadata": {},
   "outputs": [],
   "source": [
    "def gradient_descent_mnist(objective, gradient, initial_weights, step_size=1, no_of_iterations=100, print_output=100):\n",
    "    objective_values = []\n",
    "    weights = np.copy(initial_weights)\n",
    "    objective_values.append(objective(weights))\n",
    "    \n",
    "    for counter in range(no_of_iterations):\n",
    "        weights -= step_size * gradient(weights)\n",
    "        objective_values.append(objective(weights))\n",
    "        \n",
    "        if (counter + 1) % print_output == 0:\n",
    "            print(\"Iteration {k}/{m}, objective = {o}.\".format(k=counter+1, \\\n",
    "                    m=no_of_iterations, o=objective_values[counter]))\n",
    "            \n",
    "    print(\"Iteration completed after {k}/{m}, objective = {o}.\".format(k=counter + 1, \\\n",
    "                m=no_of_iterations, o=objective_values[counter]))\n",
    "    \n",
    "    return weights"
   ]
  },
  {
   "cell_type": "markdown",
   "metadata": {},
   "source": [
    "##### REMEMBER\n",
    "s = 60000\n",
    "j = 784 + 1\n",
    "k = 10\n",
    "\n",
    "data_matrix = s x j\n",
    "\n",
    "weight_matrix =  j x k\n",
    "\n",
    "labels = s x k"
   ]
  },
  {
   "cell_type": "markdown",
   "metadata": {},
   "source": [
    "# Preparing the Data"
   ]
  },
  {
   "cell_type": "markdown",
   "metadata": {},
   "source": [
    "The below cells will standardise the images matrix."
   ]
  },
  {
   "cell_type": "code",
   "execution_count": 18,
   "metadata": {},
   "outputs": [],
   "source": [
    "def standardise_mnist(data_matrix):\n",
    "    datamatrix_copy = np.copy(data_matrix)\n",
    "    \n",
    "    row_of_means = np.mean(datamatrix_copy,axis = 0)\n",
    "    standardised_matrix = datamatrix_copy - row_of_means\n",
    "   \n",
    "    Array = np.copy(standardised_matrix)\n",
    "    \n",
    "    for col in range(datamatrix_copy.shape[1]):\n",
    "        if np.std(standardised_matrix[:,col]) == 0:\n",
    "            Array[:,col] = standardised_matrix[:,col]/1\n",
    "        else:\n",
    "            Array[:,col] = standardised_matrix[:,col]/\\\n",
    "                                                    np.std(standardised_matrix[:,col])\n",
    "    \n",
    "  \n",
    "    return Array"
   ]
  },
  {
   "cell_type": "code",
   "execution_count": 19,
   "metadata": {},
   "outputs": [],
   "source": [
    "#-------------------------- CREATING NEW VARIABLES FROM THE DATA -----------------------------------------\n",
    "\n",
    "mnist_inputs = standardise_mnist(images)\n",
    "mnist_outputs = labels\n"
   ]
  },
  {
   "cell_type": "markdown",
   "metadata": {},
   "source": [
    "### Data Partitioning (Training/Test/Validation)"
   ]
  },
  {
   "cell_type": "markdown",
   "metadata": {},
   "source": [
    "This creates a partition of the data. 20% will be used for validation, whilst the other 80% will be used for training and testing."
   ]
  },
  {
   "cell_type": "code",
   "execution_count": 20,
   "metadata": {},
   "outputs": [],
   "source": [
    "def Data_Partition(dataset,labels,split = 0.20):\n",
    "    dataset_copy = list(dataset)\n",
    "    labels_copy = list(labels)\n",
    "    val_data = []\n",
    "    val_labels = []\n",
    "    validation_set_size = split * len(dataset_copy)\n",
    "    while len(val_data) < validation_set_size:\n",
    "        index = np.random.randint(len(dataset_copy))\n",
    "        val_data.append(dataset_copy.pop(index))\n",
    "        val_labels.append(labels_copy.pop(index))\n",
    "    train_test_data = dataset_copy\n",
    "    train_test_labels = labels_copy\n",
    "    \n",
    "    return np.array(val_data), np.array(val_labels), np.array(train_test_data), np.array(train_test_labels)"
   ]
  },
  {
   "cell_type": "markdown",
   "metadata": {},
   "source": [
    "The following cell shows the splitting of the validation and training/testing sets"
   ]
  },
  {
   "cell_type": "code",
   "execution_count": 21,
   "metadata": {},
   "outputs": [],
   "source": [
    "val_data, val_labels, train_test_data, train_test_labels = Data_Partition(mnist_inputs, mnist_outputs)"
   ]
  },
  {
   "cell_type": "markdown",
   "metadata": {},
   "source": [
    "Below is the data for the Validation Set"
   ]
  },
  {
   "cell_type": "code",
   "execution_count": 22,
   "metadata": {},
   "outputs": [],
   "source": [
    "val_data,val_labels\n",
    "\n",
    "#--------------------------------- CREATING POLYNOMIAL BASIS  -------------\n",
    "\n",
    "val_data_matrix = polynomial_basis(val_data,degree = 1)"
   ]
  },
  {
   "cell_type": "markdown",
   "metadata": {},
   "source": [
    "### Training/Testing data"
   ]
  },
  {
   "cell_type": "markdown",
   "metadata": {},
   "source": [
    "Below we are further spliting up the test_train set, into separate testing and training arrays. These will be done randomly, but all models will be trained on the same test set."
   ]
  },
  {
   "cell_type": "code",
   "execution_count": 23,
   "metadata": {},
   "outputs": [],
   "source": [
    "train_test_data, train_test_labels # These are training/testing set before partition (48,000 samples)\n",
    "\n",
    "#--------------------------------- CREATING POLYNOMIAL BASIS AND ONE HOT ENCODINGS MATRICES -------------\n",
    "\n",
    "train_test_data_matrix = polynomial_basis(train_test_data, degree = 1)\n",
    "train_test_ohv = one_hot_vector_encoding(train_test_labels)"
   ]
  },
  {
   "cell_type": "code",
   "execution_count": 24,
   "metadata": {},
   "outputs": [],
   "source": [
    "def train_test_partition(inputdata,outputdata, prop = 0.7):\n",
    "    train_data = []\n",
    "    train_labels = []\n",
    "\n",
    "    no_training_data = prop * len(inputdata)\n",
    "    inputs = list(inputdata)\n",
    "    outputs = list(outputdata)\n",
    "    while len(train_data) < no_training_data:\n",
    "        indx = np.random.randint(len(inputs))\n",
    "        train_labels.append(outputs.pop(indx))\n",
    "        train_data.append(inputs.pop(indx))\n",
    "    test_data = inputs\n",
    "    test_labels = outputs\n",
    "    return np.array(train_data), np.array(train_labels), np.array(test_data), np.array(test_labels) "
   ]
  },
  {
   "cell_type": "markdown",
   "metadata": {},
   "source": [
    "Below are the splits for the training/testing partition created by the data_partition function."
   ]
  },
  {
   "cell_type": "code",
   "execution_count": 25,
   "metadata": {},
   "outputs": [],
   "source": [
    "train_data, train_labels, test_data, test_labels = train_test_partition(train_test_data_matrix,train_test_ohv) #Split sets"
   ]
  },
  {
   "cell_type": "markdown",
   "metadata": {},
   "source": [
    "#  MODELS"
   ]
  },
  {
   "cell_type": "markdown",
   "metadata": {},
   "source": [
    "## Model A: Ridge Logistic Regression"
   ]
  },
  {
   "cell_type": "markdown",
   "metadata": {},
   "source": [
    "The following code block only uses the training and testing data sets as defined above"
   ]
  },
  {
   "cell_type": "code",
   "execution_count": 26,
   "metadata": {},
   "outputs": [],
   "source": [
    "def model_validation_ridge(regularisation_parameters,traindata = train_data, trainlabels = train_labels,\\\n",
    "                           testdata = test_data,testlabels = test_labels, iterations = 1000):\n",
    "\n",
    "    \n",
    "#----------------------------- TEST RESULTS FOR EACH PARAMETER ---------------------------------    \n",
    "    \n",
    "    \n",
    "    parameters = []\n",
    "    classification_accuracies = []\n",
    "    optimal_weight_matrices = []\n",
    "      \n",
    "    \n",
    "#---------------------------- TRAINING EACH MODEL WITH THE TRAINING SET -------------------------------    \n",
    "    \n",
    "    \n",
    "    for alpha in regularisation_parameters:\n",
    "        parameters.append(alpha)\n",
    "        \n",
    "        initial_weight_matrix = np.zeros((traindata.shape[1], trainlabels.shape[1]))\n",
    "\n",
    "        objective = lambda weight_matrix: ridge_logistic_regression_cost_function(traindata,\\\n",
    "                                                                        weight_matrix, trainlabels,alpha) \n",
    "        gradient = lambda weight_matrix: ridge_logistic_regression_gradient(traindata, \\\n",
    "                                                                            weight_matrix, trainlabels,alpha)\n",
    "        \n",
    "        optimal_weight_matrix = gradient_descent_mnist(objective, gradient, initial_weight_matrix, \\\n",
    "                                          step_size=1.9/np.linalg.norm(traindata.T @ traindata + \\\n",
    "                                            alpha * np.eye(traindata.shape[1]), 2), \\\n",
    "                                                no_of_iterations= iterations, print_output=10)\n",
    "        \n",
    "        optimal_weight_matrices.append(optimal_weight_matrix)\n",
    "        \n",
    "        \n",
    "#---------------------------- TESTING THE MODEL ON TEST LABELS -------------------------------\n",
    "        \n",
    "    \n",
    "        classifier = classification_accuracy(testlabels@np.arange(0,testlabels.shape[1]), \\\n",
    "                            multinomial_prediction_function(testdata, optimal_weight_matrix))\n",
    "            \n",
    "        classification_accuracies.append(classifier)\n",
    "        \n",
    "    return list(zip(parameters,classification_accuracies)), optimal_weight_matrices[np.argmax(classification_accuracies)]\n",
    "\n",
    "    "
   ]
  },
  {
   "cell_type": "markdown",
   "metadata": {},
   "source": [
    "Testing 3 alpha parameters, 1,10 and 100"
   ]
  },
  {
   "cell_type": "code",
   "execution_count": 29,
   "metadata": {},
   "outputs": [
    {
     "name": "stdout",
     "output_type": "stream",
     "text": [
      "Iteration 10/500, objective = 31373.83287106924.\n",
      "Iteration 20/500, objective = 22885.43367523952.\n",
      "Iteration 30/500, objective = 19442.286545863844.\n",
      "Iteration 40/500, objective = 17517.56167407681.\n",
      "Iteration 50/500, objective = 16264.004278608469.\n",
      "Iteration 60/500, objective = 15370.146946898285.\n",
      "Iteration 70/500, objective = 14693.45680186876.\n",
      "Iteration 80/500, objective = 14158.990240055671.\n",
      "Iteration 90/500, objective = 13723.334293645576.\n",
      "Iteration 100/500, objective = 13359.475727956336.\n",
      "Iteration 110/500, objective = 13049.654369797829.\n",
      "Iteration 120/500, objective = 12781.672024085592.\n",
      "Iteration 130/500, objective = 12546.847716262611.\n",
      "Iteration 140/500, objective = 12338.819016643203.\n",
      "Iteration 150/500, objective = 12152.805775465662.\n",
      "Iteration 160/500, objective = 11985.139819367314.\n",
      "Iteration 170/500, objective = 11832.954353307869.\n",
      "Iteration 180/500, objective = 11693.97286114733.\n",
      "Iteration 190/500, objective = 11566.362000839847.\n",
      "Iteration 200/500, objective = 11448.626819003945.\n",
      "Iteration 210/500, objective = 11339.5346441608.\n",
      "Iteration 220/500, objective = 11238.058841067397.\n",
      "Iteration 230/500, objective = 11143.336589108407.\n",
      "Iteration 240/500, objective = 11054.6367380189.\n",
      "Iteration 250/500, objective = 10971.335021385776.\n",
      "Iteration 260/500, objective = 10892.894721873068.\n",
      "Iteration 270/500, objective = 10818.851431389083.\n",
      "Iteration 280/500, objective = 10748.800926090882.\n",
      "Iteration 290/500, objective = 10682.389437824433.\n",
      "Iteration 300/500, objective = 10619.305787597154.\n",
      "Iteration 310/500, objective = 10559.274977804931.\n",
      "Iteration 320/500, objective = 10502.052935071977.\n",
      "Iteration 330/500, objective = 10447.422166120325.\n",
      "Iteration 340/500, objective = 10395.188142549987.\n",
      "Iteration 350/500, objective = 10345.176271520691.\n",
      "Iteration 360/500, objective = 10297.229341070053.\n",
      "Iteration 370/500, objective = 10251.205353206757.\n",
      "Iteration 380/500, objective = 10206.975676527087.\n",
      "Iteration 390/500, objective = 10164.42346422321.\n",
      "Iteration 400/500, objective = 10123.442294038792.\n",
      "Iteration 410/500, objective = 10083.934994902933.\n",
      "Iteration 420/500, objective = 10045.812631278739.\n",
      "Iteration 430/500, objective = 10008.993621226076.\n",
      "Iteration 440/500, objective = 9973.402968149729.\n",
      "Iteration 450/500, objective = 9938.97158943808.\n",
      "Iteration 460/500, objective = 9905.635727866058.\n",
      "Iteration 470/500, objective = 9873.336433868157.\n",
      "Iteration 480/500, objective = 9842.019108664006.\n",
      "Iteration 490/500, objective = 9811.633099797355.\n",
      "Iteration 500/500, objective = 9782.131341975046.\n",
      "Iteration completed after 500/500, objective = 9782.131341975046.\n",
      "Iteration 10/500, objective = 31377.43374741898.\n",
      "Iteration 20/500, objective = 22892.46823097318.\n",
      "Iteration 30/500, objective = 19452.03740402865.\n",
      "Iteration 40/500, objective = 17529.599145972956.\n",
      "Iteration 50/500, objective = 16278.039132543841.\n",
      "Iteration 60/500, objective = 15385.969656036496.\n",
      "Iteration 70/500, objective = 14710.907598425922.\n",
      "Iteration 80/500, objective = 14177.94267437706.\n",
      "Iteration 90/500, objective = 13743.685425756024.\n",
      "Iteration 100/500, objective = 13381.139886626881.\n",
      "Iteration 110/500, objective = 13072.558977642868.\n",
      "Iteration 120/500, objective = 12805.75469054018.\n",
      "Iteration 130/500, objective = 12572.054145842116.\n",
      "Iteration 140/500, objective = 12365.101462151846.\n",
      "Iteration 150/500, objective = 12180.121867506956.\n",
      "Iteration 160/500, objective = 12013.451662984033.\n",
      "Iteration 170/500, objective = 11862.22781879565.\n",
      "Iteration 180/500, objective = 11724.177018953917.\n",
      "Iteration 190/500, objective = 11597.46866531924.\n",
      "Iteration 200/500, objective = 11480.610175744132.\n",
      "Iteration 210/500, objective = 11372.370942411844.\n",
      "Iteration 220/500, objective = 11271.726137566206.\n",
      "Iteration 230/500, objective = 11177.814532997103.\n",
      "Iteration 240/500, objective = 11089.906389022097.\n",
      "Iteration 250/500, objective = 11007.378695205602.\n",
      "Iteration 260/500, objective = 10929.695858071991.\n",
      "Iteration 270/500, objective = 10856.394479978007.\n",
      "Iteration 280/500, objective = 10787.07124972346.\n",
      "Iteration 290/500, objective = 10721.373227008442.\n",
      "Iteration 300/500, objective = 10658.98998674204.\n",
      "Iteration 310/500, objective = 10599.647220278455.\n",
      "Iteration 320/500, objective = 10543.101485776604.\n",
      "Iteration 330/500, objective = 10489.135870401124.\n",
      "Iteration 340/500, objective = 10437.556380511114.\n",
      "Iteration 350/500, objective = 10388.18891703506.\n",
      "Iteration 360/500, objective = 10340.876724920701.\n",
      "Iteration 370/500, objective = 10295.478229892811.\n",
      "Iteration 380/500, objective = 10251.865194341568.\n",
      "Iteration 390/500, objective = 10209.921138245898.\n",
      "Iteration 400/500, objective = 10169.539981722659.\n",
      "Iteration 410/500, objective = 10130.624873961115.\n",
      "Iteration 420/500, objective = 10093.087179601529.\n",
      "Iteration 430/500, objective = 10056.845598589696.\n",
      "Iteration 440/500, objective = 10021.825399502417.\n",
      "Iteration 450/500, objective = 9987.957749577428.\n",
      "Iteration 460/500, objective = 9955.17912734699.\n",
      "Iteration 470/500, objective = 9923.430806006649.\n",
      "Iteration 480/500, objective = 9892.65839752.\n",
      "Iteration 490/500, objective = 9862.811449040853.\n",
      "Iteration 500/500, objective = 9833.843084550641.\n",
      "Iteration completed after 500/500, objective = 9833.843084550641.\n",
      "Iteration 10/500, objective = 31413.414999956716.\n",
      "Iteration 20/500, objective = 22962.70130626098.\n",
      "Iteration 30/500, objective = 19549.307253487703.\n",
      "Iteration 40/500, objective = 17649.576560048477.\n",
      "Iteration 50/500, objective = 16417.805129051918.\n",
      "Iteration 60/500, objective = 15543.406211945665.\n",
      "Iteration 70/500, objective = 14884.397154239978.\n",
      "Iteration 80/500, objective = 14366.203050136224.\n",
      "Iteration 90/500, objective = 13945.671271916244.\n",
      "Iteration 100/500, objective = 13595.979941339614.\n",
      "Iteration 110/500, objective = 13299.514070592986.\n",
      "Iteration 120/500, objective = 13044.18848463755.\n",
      "Iteration 130/500, objective = 12821.412073577965.\n",
      "Iteration 140/500, objective = 12624.89514191028.\n",
      "Iteration 150/500, objective = 12449.917305616118.\n",
      "Iteration 160/500, objective = 12292.86014432677.\n",
      "Iteration 170/500, objective = 12150.898752586125.\n",
      "Iteration 180/500, objective = 12021.792235875295.\n",
      "Iteration 190/500, objective = 11903.737811652833.\n",
      "Iteration 200/500, objective = 11795.266950044926.\n",
      "Iteration 210/500, objective = 11695.169988761834.\n",
      "Iteration 220/500, objective = 11602.440457380757.\n",
      "Iteration 230/500, objective = 11516.233311573304.\n",
      "Iteration 240/500, objective = 11435.833157769765.\n",
      "Iteration 250/500, objective = 11360.629768560959.\n",
      "Iteration 260/500, objective = 11290.0989972631.\n",
      "Iteration 270/500, objective = 11223.787745371299.\n",
      "Iteration 280/500, objective = 11161.302010447007.\n",
      "Iteration 290/500, objective = 11102.297301768138.\n",
      "Iteration 300/500, objective = 11046.470893928865.\n",
      "Iteration 310/500, objective = 10993.555519119142.\n",
      "Iteration 320/500, objective = 10943.31419361186.\n",
      "Iteration 330/500, objective = 10895.535944197223.\n",
      "Iteration 340/500, objective = 10850.032253295041.\n",
      "Iteration 350/500, objective = 10806.634081990347.\n",
      "Iteration 360/500, objective = 10765.1893613675.\n",
      "Iteration 370/500, objective = 10725.560866402562.\n",
      "Iteration 380/500, objective = 10687.624404906419.\n",
      "Iteration 390/500, objective = 10651.267267884754.\n",
      "Iteration 400/500, objective = 10616.386898253546.\n",
      "Iteration 410/500, objective = 10582.889742965735.\n",
      "Iteration 420/500, objective = 10550.690259889929.\n",
      "Iteration 430/500, objective = 10519.710055754176.\n",
      "Iteration 440/500, objective = 10489.877135429142.\n",
      "Iteration 450/500, objective = 10461.12524605515.\n",
      "Iteration 460/500, objective = 10433.393302171764.\n",
      "Iteration 470/500, objective = 10406.624880214544.\n",
      "Iteration 480/500, objective = 10380.767772587493.\n",
      "Iteration 490/500, objective = 10355.773593065847.\n",
      "Iteration 500/500, objective = 10331.597426572012.\n",
      "Iteration completed after 500/500, objective = 10331.597426572012.\n"
     ]
    }
   ],
   "source": [
    "ridge_accuracy, ridge_weight_matrix = model_validation_ridge([1,10,100], \\\n",
    "                                                         iterations = 500)\n"
   ]
  },
  {
   "cell_type": "markdown",
   "metadata": {},
   "source": [
    "Testing the model on the validation data with the best weight matrix yields an 88.13% accuracy"
   ]
  },
  {
   "cell_type": "code",
   "execution_count": 31,
   "metadata": {},
   "outputs": [
    {
     "data": {
      "text/plain": [
       "0.9095"
      ]
     },
     "execution_count": 31,
     "metadata": {},
     "output_type": "execute_result"
    }
   ],
   "source": [
    "classification_accuracy(val_labels, multinomial_prediction_function(val_data_matrix,ridge_weight_matrix))"
   ]
  },
  {
   "cell_type": "markdown",
   "metadata": {},
   "source": [
    "The below cells are testing the accuracy of the model on the classification of individual numbers"
   ]
  },
  {
   "cell_type": "code",
   "execution_count": 36,
   "metadata": {},
   "outputs": [],
   "source": [
    "ridge_data_matrix = polynomial_basis(val_data,degree = 1)\n",
    "y_pred = multinomial_prediction_function(ridge_data_matrix, ridge_weight_matrix)\n",
    "\n",
    "index = np.argsort(val_labels)\n",
    "val_labels_sort = val_labels[index]\n",
    "y_pred_sort = y_pred[index]\n",
    "\n"
   ]
  },
  {
   "cell_type": "code",
   "execution_count": 37,
   "metadata": {},
   "outputs": [
    {
     "data": {
      "text/plain": [
       "[97.45547073791349,\n",
       " 96.54929577464789,\n",
       " 87.90123456790123,\n",
       " 87.23958333333334,\n",
       " 93.25744308231172,\n",
       " 82.70120259019427,\n",
       " 94.88817891373802,\n",
       " 93.33333333333333,\n",
       " 84.85639686684074,\n",
       " 89.0677966101695]"
      ]
     },
     "execution_count": 37,
     "metadata": {},
     "output_type": "execute_result"
    }
   ],
   "source": [
    "misclassifications = []\n",
    "for i in range(10):\n",
    "    index = (val_labels_sort == i)\n",
    "    a = y_pred_sort[index]\n",
    "    b = (a == val_labels_sort[index])\n",
    "    misclassifications.append(np.mean(b) * 100)\n",
    "    \n",
    "misclassifications"
   ]
  },
  {
   "cell_type": "markdown",
   "metadata": {},
   "source": [
    "## Model B: Multinomial Logistic Regression (no regularisation)"
   ]
  },
  {
   "cell_type": "code",
   "execution_count": 38,
   "metadata": {},
   "outputs": [],
   "source": [
    "def model_validation_multinomial(traindata = train_data, trainlabels = train_labels,\\\n",
    "                           testdata = test_data,testlabels = test_labels, iterations = 1000):\n",
    "       \n",
    "    \n",
    "#---------------------------- TRAINING MODEL WITH THE TRAINING SET -------------------------------    \n",
    "    \n",
    "        \n",
    "    initial_weight_matrix = np.zeros((traindata.shape[1], trainlabels.shape[1]))\n",
    "\n",
    "    objective = lambda weight_matrix: multinomial_logistic_regression_cost_function(traindata,\\\n",
    "                                                                    weight_matrix, trainlabels) \n",
    "    gradient = lambda weight_matrix: multinomial_logistic_regression_gradient(traindata, \\\n",
    "                                                                        weight_matrix, trainlabels)\n",
    "\n",
    "    optimal_weight_matrix = gradient_descent_mnist(objective, gradient, initial_weight_matrix, \\\n",
    "                                      step_size=1.9/(np.linalg.norm(traindata, 2) ** 2), \\\n",
    "                                            no_of_iterations= iterations, print_output=10)\n",
    "    \n",
    "\n",
    "#---------------------------- TESTING THE MODEL ON TEST LABELS -------------------------------\n",
    "\n",
    "\n",
    "    classifier = classification_accuracy(testlabels@np.arange(0,testlabels.shape[1]), \\\n",
    "                        multinomial_prediction_function(testdata, optimal_weight_matrix))\n",
    "\n",
    "        \n",
    "    return classifier, optimal_weight_matrix"
   ]
  },
  {
   "cell_type": "code",
   "execution_count": 39,
   "metadata": {},
   "outputs": [
    {
     "name": "stdout",
     "output_type": "stream",
     "text": [
      "Iteration 10/500, objective = 31373.43274279922.\n",
      "Iteration 20/500, objective = 22884.651931497465.\n",
      "Iteration 30/500, objective = 19441.20284857824.\n",
      "Iteration 40/500, objective = 17516.22372976163.\n",
      "Iteration 50/500, objective = 16262.444193709018.\n",
      "Iteration 60/500, objective = 15368.38797608562.\n",
      "Iteration 70/500, objective = 14691.516674196835.\n",
      "Iteration 80/500, objective = 14156.882984982389.\n",
      "Iteration 90/500, objective = 13721.071330344514.\n",
      "Iteration 100/500, objective = 13357.066558384706.\n",
      "Iteration 110/500, objective = 13047.107042301746.\n",
      "Iteration 120/500, objective = 12778.993456194252.\n",
      "Iteration 130/500, objective = 12544.043926942692.\n",
      "Iteration 140/500, objective = 12335.895298037181.\n",
      "Iteration 150/500, objective = 12149.766822842781.\n",
      "Iteration 160/500, objective = 11981.989831415085.\n",
      "Iteration 170/500, objective = 11829.697110860263.\n",
      "Iteration 180/500, objective = 11690.611789917988.\n",
      "Iteration 190/500, objective = 11562.900222068274.\n",
      "Iteration 200/500, objective = 11445.067190822547.\n",
      "Iteration 210/500, objective = 11335.87979573659.\n",
      "Iteration 220/500, objective = 11234.311201036571.\n",
      "Iteration 230/500, objective = 11139.49840944947.\n",
      "Iteration 240/500, objective = 11050.710114234429.\n",
      "Iteration 250/500, objective = 10967.321909661307.\n",
      "Iteration 260/500, objective = 10888.796953741454.\n",
      "Iteration 270/500, objective = 10814.670726316406.\n",
      "Iteration 280/500, objective = 10744.538902330929.\n",
      "Iteration 290/500, objective = 10678.047621826863.\n",
      "Iteration 300/500, objective = 10614.885622213911.\n",
      "Iteration 310/500, objective = 10554.777829495051.\n",
      "Iteration 320/500, objective = 10497.480100273306.\n",
      "Iteration 330/500, objective = 10442.774876918711.\n",
      "Iteration 340/500, objective = 10390.46757174681.\n",
      "Iteration 350/500, objective = 10340.383537182135.\n",
      "Iteration 360/500, objective = 10292.3655106161.\n",
      "Iteration 370/500, objective = 10246.27144709397.\n",
      "Iteration 380/500, objective = 10201.972671569116.\n",
      "Iteration 390/500, objective = 10159.352296586056.\n",
      "Iteration 400/500, objective = 10118.303861949995.\n",
      "Iteration 410/500, objective = 10078.730161104007.\n",
      "Iteration 420/500, objective = 10040.542225252615.\n",
      "Iteration 430/500, objective = 10003.65844122569.\n",
      "Iteration 440/500, objective = 9968.003783052125.\n",
      "Iteration 450/500, objective = 9933.509140442891.\n",
      "Iteration 460/500, objective = 9900.110730058383.\n",
      "Iteration 470/500, objective = 9867.749577659732.\n",
      "Iteration 480/500, objective = 9836.371061125888.\n",
      "Iteration 490/500, objective = 9805.92450589363.\n",
      "Iteration 500/500, objective = 9776.362825709386.\n",
      "Iteration completed after 500/500, objective = 9776.362825709386.\n"
     ]
    }
   ],
   "source": [
    "multinomial_acc, multinomial_weight_matrix = model_validation_multinomial(iterations = 500)"
   ]
  },
  {
   "cell_type": "markdown",
   "metadata": {},
   "source": [
    "Testing Model on Validation Set"
   ]
  },
  {
   "cell_type": "code",
   "execution_count": 43,
   "metadata": {},
   "outputs": [
    {
     "data": {
      "text/plain": [
       "0.9095"
      ]
     },
     "execution_count": 43,
     "metadata": {},
     "output_type": "execute_result"
    }
   ],
   "source": [
    "classification_accuracy(val_labels, multinomial_prediction_function(val_data_matrix,multinomial_weight_matrix))"
   ]
  },
  {
   "cell_type": "code",
   "execution_count": 44,
   "metadata": {},
   "outputs": [],
   "source": [
    "multi_data_matrix = polynomial_basis(val_data,degree = 1)\n",
    "y_pred = multinomial_prediction_function(multi_data_matrix, multinomial_weight_matrix)\n",
    "\n",
    "index = np.argsort(val_labels)\n",
    "val_labels_sort = val_labels[index]\n",
    "y_pred_sort = y_pred[index]\n"
   ]
  },
  {
   "cell_type": "code",
   "execution_count": 45,
   "metadata": {},
   "outputs": [
    {
     "data": {
      "text/plain": [
       "[97.45547073791349,\n",
       " 96.54929577464789,\n",
       " 87.90123456790123,\n",
       " 87.23958333333334,\n",
       " 93.25744308231172,\n",
       " 82.70120259019427,\n",
       " 94.88817891373802,\n",
       " 93.33333333333333,\n",
       " 84.85639686684074,\n",
       " 89.0677966101695]"
      ]
     },
     "execution_count": 45,
     "metadata": {},
     "output_type": "execute_result"
    }
   ],
   "source": [
    "misclassifications = []\n",
    "for i in range(10):\n",
    "    index = (val_labels_sort == i)\n",
    "    a = y_pred_sort[index]\n",
    "    b = (a == val_labels_sort[index])\n",
    "    misclassifications.append(np.mean(b) * 100)\n",
    "    \n",
    "misclassifications"
   ]
  },
  {
   "cell_type": "markdown",
   "metadata": {},
   "source": [
    "## Model C: Multinomial Logistic Regression (different degrees)"
   ]
  },
  {
   "cell_type": "code",
   "execution_count": 62,
   "metadata": {},
   "outputs": [],
   "source": [
    "polynomial_test_base = []\n",
    "deg_test_2 = polynomial_basis(test_data[:,1:],degree = 2)\n",
    "deg_test_4 = polynomial_basis(test_data[:,1:],degree = 4)\n",
    "deg_test_6 = polynomial_basis(test_data[:,1:],degree = 6) \n",
    "polynomial_test_base.append(deg_test_2)\n",
    "polynomial_test_base.append(deg_test_4)\n",
    "polynomial_test_base.append(deg_test_6)"
   ]
  },
  {
   "cell_type": "code",
   "execution_count": 66,
   "metadata": {},
   "outputs": [],
   "source": [
    "degrees = list(zip(polynomial_base,polynomial_test_base))"
   ]
  },
  {
   "cell_type": "code",
   "execution_count": 67,
   "metadata": {},
   "outputs": [],
   "source": [
    "def model_validation_multinomial_deg(traindata, testdata,\\\n",
    "                                     trainlabels = train_labels,\\\n",
    "                                     testlabels = test_labels,\\\n",
    "                                     iterations = 1000):\n",
    "    \n",
    " \n",
    "    \n",
    "#---------------------------- TRAINING EACH MODEL WITH THE TRAINING SET -------------------------------    \n",
    "    \n",
    "        \n",
    "    initial_weight_matrix = np.zeros((traindata.shape[1], trainlabels.shape[1]))\n",
    "\n",
    "    objective = lambda weight_matrix: multinomial_logistic_regression_cost_function(traindata,\\\n",
    "                                                                    weight_matrix, trainlabels) \n",
    "    gradient = lambda weight_matrix: multinomial_logistic_regression_gradient(traindata, \\\n",
    "                                                                        weight_matrix, trainlabels)\n",
    "\n",
    "    optimal_weight_matrix = gradient_descent_mnist(objective, gradient, initial_weight_matrix, \\\n",
    "                                      step_size=1.9/(np.linalg.norm(traindata, 2) ** 2), \\\n",
    "                                            no_of_iterations= iterations, print_output=10)\n",
    "    \n",
    "\n",
    "#---------------------------- TESTING THE MODEL ON TEST LABELS -------------------------------\n",
    "\n",
    "\n",
    "    classifier = classification_accuracy(testlabels@np.arange(0,testlabels.shape[1]), \\\n",
    "                        multinomial_prediction_function(testdata, optimal_weight_matrix))\n",
    "    \n",
    "    print(classifier)\n",
    "\n",
    "        \n",
    "    return classifier, optimal_weight_matrix"
   ]
  },
  {
   "cell_type": "code",
   "execution_count": 68,
   "metadata": {},
   "outputs": [
    {
     "name": "stdout",
     "output_type": "stream",
     "text": [
      "Iteration 10/500, objective = 76920.57694209095.\n",
      "Iteration 20/500, objective = 76532.29673809849.\n",
      "Iteration 30/500, objective = 76182.15869694277.\n",
      "Iteration 40/500, objective = 75858.49403888425.\n",
      "Iteration 50/500, objective = 75555.48914257948.\n",
      "Iteration 60/500, objective = 75269.3680826331.\n",
      "Iteration 70/500, objective = 74997.4319814007.\n",
      "Iteration 80/500, objective = 74737.66137717785.\n",
      "Iteration 90/500, objective = 74488.4963926648.\n",
      "Iteration 100/500, objective = 74248.70029482001.\n",
      "Iteration 110/500, objective = 74017.27062857692.\n",
      "Iteration 120/500, objective = 73793.37950656726.\n",
      "Iteration 130/500, objective = 73576.33237794714.\n",
      "Iteration 140/500, objective = 73365.53880408913.\n",
      "Iteration 150/500, objective = 73160.49122435319.\n",
      "Iteration 160/500, objective = 72960.74916990908.\n",
      "Iteration 170/500, objective = 72765.9272833842.\n",
      "Iteration 180/500, objective = 72575.68605738482.\n",
      "Iteration 190/500, objective = 72389.72455213801.\n",
      "Iteration 200/500, objective = 72207.77457659451.\n",
      "Iteration 210/500, objective = 72029.59596962892.\n",
      "Iteration 220/500, objective = 71854.97272440247.\n",
      "Iteration 230/500, objective = 71683.70977215149.\n",
      "Iteration 240/500, objective = 71515.63029051705.\n",
      "Iteration 250/500, objective = 71350.57343453153.\n",
      "Iteration 260/500, objective = 71188.39241153069.\n",
      "Iteration 270/500, objective = 71028.95283838687.\n",
      "Iteration 280/500, objective = 70872.13133228252.\n",
      "Iteration 290/500, objective = 70717.81429613693.\n",
      "Iteration 300/500, objective = 70565.89686727438.\n",
      "Iteration 310/500, objective = 70416.28200383976.\n",
      "Iteration 320/500, objective = 70268.87968798995.\n",
      "Iteration 330/500, objective = 70123.60622857229.\n",
      "Iteration 340/500, objective = 69980.38364885352.\n",
      "Iteration 350/500, objective = 69839.13914726216.\n",
      "Iteration 360/500, objective = 69699.80462097292.\n",
      "Iteration 370/500, objective = 69562.31624380093.\n",
      "Iteration 380/500, objective = 69426.61409110918.\n",
      "Iteration 390/500, objective = 69292.64180558.\n",
      "Iteration 400/500, objective = 69160.34629857923.\n",
      "Iteration 410/500, objective = 69029.67748260644.\n",
      "Iteration 420/500, objective = 68900.58803099285.\n",
      "Iteration 430/500, objective = 68773.03316152842.\n",
      "Iteration 440/500, objective = 68646.97044116788.\n",
      "Iteration 450/500, objective = 68522.35960937369.\n",
      "Iteration 460/500, objective = 68399.16241794557.\n",
      "Iteration 470/500, objective = 68277.34248552647.\n",
      "Iteration 480/500, objective = 68156.86516514591.\n",
      "Iteration 490/500, objective = 68037.69742344222.\n",
      "Iteration 500/500, objective = 67919.80773030694.\n",
      "Iteration completed after 500/500, objective = 67919.80773030694.\n",
      "0.64625\n",
      "Iteration 10/500, objective = 77319.5026205874.\n",
      "Iteration 20/500, objective = 77308.75741293613.\n",
      "Iteration 30/500, objective = 77301.63190258502.\n",
      "Iteration 40/500, objective = 77296.02089506965.\n",
      "Iteration 50/500, objective = 77291.31856392631.\n",
      "Iteration 60/500, objective = 77287.25089467755.\n",
      "Iteration 70/500, objective = 77283.6650953178.\n",
      "Iteration 80/500, objective = 77280.46228290946.\n",
      "Iteration 90/500, objective = 77277.571759389.\n",
      "Iteration 100/500, objective = 77274.93994750718.\n",
      "Iteration 110/500, objective = 77272.52492478126.\n",
      "Iteration 120/500, objective = 77270.29328332347.\n",
      "Iteration 130/500, objective = 77268.21808300994.\n",
      "Iteration 140/500, objective = 77266.27740165616.\n",
      "Iteration 150/500, objective = 77264.45325892998.\n",
      "Iteration 160/500, objective = 77262.73079777123.\n",
      "Iteration 170/500, objective = 77261.09765343399.\n",
      "Iteration 180/500, objective = 77259.54346316749.\n",
      "Iteration 190/500, objective = 77258.05948288561.\n",
      "Iteration 200/500, objective = 77256.63828581832.\n",
      "Iteration 210/500, objective = 77255.27352429563.\n",
      "Iteration 220/500, objective = 77253.95974037323.\n",
      "Iteration 230/500, objective = 77252.69221438262.\n",
      "Iteration 240/500, objective = 77251.46684307385.\n",
      "Iteration 250/500, objective = 77250.28004096413.\n",
      "Iteration 260/500, objective = 77249.12865998394.\n",
      "Iteration 270/500, objective = 77248.00992361429.\n",
      "Iteration 280/500, objective = 77246.92137260173.\n",
      "Iteration 290/500, objective = 77245.8608199306.\n",
      "Iteration 300/500, objective = 77244.82631328741.\n",
      "Iteration 310/500, objective = 77243.81610357622.\n",
      "Iteration 320/500, objective = 77242.82861840444.\n",
      "Iteration 330/500, objective = 77241.86243961295.\n",
      "Iteration 340/500, objective = 77240.91628417074.\n",
      "Iteration 350/500, objective = 77239.98898784467.\n",
      "Iteration 360/500, objective = 77239.07949118996.\n",
      "Iteration 370/500, objective = 77238.18682747375.\n",
      "Iteration 380/500, objective = 77237.31011225091.\n",
      "Iteration 390/500, objective = 77236.44853430545.\n",
      "Iteration 400/500, objective = 77235.60134777393.\n",
      "Iteration 410/500, objective = 77234.76786526643.\n",
      "Iteration 420/500, objective = 77233.94745184618.\n",
      "Iteration 430/500, objective = 77233.13951974372.\n",
      "Iteration 440/500, objective = 77232.34352370152.\n",
      "Iteration 450/500, objective = 77231.55895687216.\n",
      "Iteration 460/500, objective = 77230.78534718264.\n",
      "Iteration 470/500, objective = 77230.0222541222.\n",
      "Iteration 480/500, objective = 77229.26926587777.\n",
      "Iteration 490/500, objective = 77228.52599679271.\n",
      "Iteration 500/500, objective = 77227.79208509797.\n",
      "Iteration completed after 500/500, objective = 77227.79208509797.\n",
      "0.49701388888888887\n",
      "Iteration 10/500, objective = 77329.32638543147.\n",
      "Iteration 20/500, objective = 77323.983126283.\n",
      "Iteration 30/500, objective = 77321.18297334778.\n",
      "Iteration 40/500, objective = 77319.0621129215.\n",
      "Iteration 50/500, objective = 77317.25980453976.\n",
      "Iteration 60/500, objective = 77315.66357223141.\n",
      "Iteration 70/500, objective = 77314.22315633082.\n",
      "Iteration 80/500, objective = 77312.90889531761.\n",
      "Iteration 90/500, objective = 77311.69997425383.\n",
      "Iteration 100/500, objective = 77310.58046062854.\n",
      "Iteration 110/500, objective = 77309.53766339517.\n",
      "Iteration 120/500, objective = 77308.56127213976.\n",
      "Iteration 130/500, objective = 77307.64280908144.\n",
      "Iteration 140/500, objective = 77306.77524009517.\n",
      "Iteration 150/500, objective = 77305.95268466625.\n",
      "Iteration 160/500, objective = 77305.17019445893.\n",
      "Iteration 170/500, objective = 77304.42358156914.\n",
      "Iteration 180/500, objective = 77303.70928340609.\n",
      "Iteration 190/500, objective = 77303.02425492596.\n",
      "Iteration 200/500, objective = 77302.36588161858.\n",
      "Iteration 210/500, objective = 77301.73190853279.\n",
      "Iteration 220/500, objective = 77301.120381932.\n",
      "Iteration 230/500, objective = 77300.52960106284.\n",
      "Iteration 240/500, objective = 77299.95807814081.\n",
      "Iteration 250/500, objective = 77299.40450507434.\n",
      "Iteration 260/500, objective = 77298.86772575851.\n",
      "Iteration 270/500, objective = 77298.34671298326.\n",
      "Iteration 280/500, objective = 77297.84054917854.\n",
      "Iteration 290/500, objective = 77297.34841035603.\n",
      "Iteration 300/500, objective = 77296.86955269666.\n",
      "Iteration 310/500, objective = 77296.4033013498.\n",
      "Iteration 320/500, objective = 77295.94904106148.\n",
      "Iteration 330/500, objective = 77295.5062083202.\n",
      "Iteration 340/500, objective = 77295.07428476779.\n",
      "Iteration 350/500, objective = 77294.65279164823.\n",
      "Iteration 360/500, objective = 77294.24128512606.\n",
      "Iteration 370/500, objective = 77293.83935232107.\n",
      "Iteration 380/500, objective = 77293.4466079353.\n",
      "Iteration 390/500, objective = 77293.06269137484.\n",
      "Iteration 400/500, objective = 77292.68726428492.\n",
      "Iteration 410/500, objective = 77292.32000842028.\n",
      "Iteration 420/500, objective = 77291.96062380563.\n",
      "Iteration 430/500, objective = 77291.6088271317.\n",
      "Iteration 440/500, objective = 77291.2643503547.\n",
      "Iteration 450/500, objective = 77290.92693946103.\n",
      "Iteration 460/500, objective = 77290.59635337707.\n",
      "Iteration 470/500, objective = 77290.27236300014.\n",
      "Iteration 480/500, objective = 77289.95475033212.\n",
      "Iteration 490/500, objective = 77289.64330770494.\n",
      "Iteration 500/500, objective = 77289.3378370773.\n",
      "Iteration completed after 500/500, objective = 77289.3378370773.\n",
      "0.3534027777777778\n"
     ]
    }
   ],
   "source": [
    "classification = []\n",
    "optimal_weight_matrix = []\n",
    "for deg in degrees:\n",
    "    classification_acc, optimal_weights = model_validation_multinomial_deg(deg[0],deg[1], iterations = 500)\n",
    "    classification.append(classification_acc)\n",
    "    optimal_weight_matrix.append(optimal_weights)\n",
    "    "
   ]
  },
  {
   "cell_type": "code",
   "execution_count": 69,
   "metadata": {},
   "outputs": [],
   "source": [
    "deg_classification = classification\n",
    "deg_optimal_weights = optimal_weight_matrix"
   ]
  },
  {
   "cell_type": "markdown",
   "metadata": {},
   "source": [
    "Testing on the Validation Set"
   ]
  },
  {
   "cell_type": "code",
   "execution_count": 72,
   "metadata": {},
   "outputs": [
    {
     "data": {
      "text/plain": [
       "(12000, 1569)"
      ]
     },
     "execution_count": 72,
     "metadata": {},
     "output_type": "execute_result"
    }
   ],
   "source": [
    "# making a new polynomial basis for degree = 2\n",
    "\n",
    "new_matrix = val_data_matrix[:,1:]\n",
    "type(new_matrix)\n",
    "basis = polynomial_basis(val_data,degree=2)"
   ]
  },
  {
   "cell_type": "code",
   "execution_count": 73,
   "metadata": {},
   "outputs": [
    {
     "data": {
      "text/plain": [
       "0.6433333333333333"
      ]
     },
     "execution_count": 73,
     "metadata": {},
     "output_type": "execute_result"
    }
   ],
   "source": [
    "classification_accuracy(val_labels,multinomial_prediction_function(basis,deg_optimal_weights[0]))"
   ]
  },
  {
   "cell_type": "code",
   "execution_count": 74,
   "metadata": {},
   "outputs": [],
   "source": [
    "deg_data_matrix = polynomial_basis(val_data,degree = 2)\n",
    "y_pred = multinomial_prediction_function(deg_data_matrix, deg_optimal_weights[0])\n",
    "\n",
    "index = np.argsort(val_labels)\n",
    "val_labels_sort = val_labels[index]\n",
    "y_pred_sort = y_pred[index]"
   ]
  },
  {
   "cell_type": "code",
   "execution_count": 75,
   "metadata": {},
   "outputs": [
    {
     "data": {
      "text/plain": [
       "[93.21458863443596,\n",
       " 90.63380281690141,\n",
       " 62.79835390946502,\n",
       " 70.48611111111111,\n",
       " 31.78633975481611,\n",
       " 42.183163737280296,\n",
       " 86.5814696485623,\n",
       " 88.69918699186992,\n",
       " 28.37249782419495,\n",
       " 37.20338983050848]"
      ]
     },
     "execution_count": 75,
     "metadata": {},
     "output_type": "execute_result"
    }
   ],
   "source": [
    "misclassifications = []\n",
    "for i in range(10):\n",
    "    index = (val_labels_sort == i)\n",
    "    a = y_pred_sort[index]\n",
    "    b = (a == val_labels_sort[index])\n",
    "    misclassifications.append(np.mean(b) * 100)\n",
    "    \n",
    "misclassifications"
   ]
  },
  {
   "cell_type": "markdown",
   "metadata": {},
   "source": [
    "## Model D: LASSO Logistic Regression "
   ]
  },
  {
   "cell_type": "code",
   "execution_count": 77,
   "metadata": {},
   "outputs": [],
   "source": [
    "def model_validation_LASSO(regularisation_parameters,traindata = train_data, trainlabels = train_labels,\\\n",
    "                           testdata = test_data,testlabels = test_labels, iterations = 1000):\n",
    "\n",
    "    \n",
    "#----------------------------- TEST RESULTS FOR EACH PARAMETER ---------------------------------    \n",
    "    \n",
    "    \n",
    "    parameters = []\n",
    "    classification_accuracies = []\n",
    "    optimal_weight_matrices = []\n",
    "    \n",
    "    \n",
    "    \n",
    "#---------------------------- TRAINING EACH MODEL WITH THE TRAINING SET -------------------------------    \n",
    "    \n",
    "    stepsize = 1.9/(np.linalg.norm(traindata, 2) ** 2)\n",
    "    for alpha in regularisation_parameters:\n",
    "        parameters.append(alpha)\n",
    "        \n",
    "        initial_weight_matrix = np.zeros((traindata.shape[1], trainlabels.shape[1]))\n",
    "        \n",
    "        objective = lambda weight_matrix: lasso_logistic_regression_cost_function(traindata,\\\n",
    "                                                                    weight_matrix, trainlabels, \\\n",
    "                                                                                   alpha)\n",
    "        gradient = lambda weight_matrix: multinomial_logistic_regression_gradient(traindata,\\\n",
    "                                                                    weight_matrix, trainlabels)\n",
    "\n",
    "        proximal_map = lambda weights: soft_thresholding(weights, alpha * \\\n",
    "                                                 stepsize)\n",
    "\n",
    "\n",
    "        \n",
    "        optimal_weight_matrix, value = proximal_gradient_descent(objective, gradient, proximal_map, \\\n",
    "                                                                 initial_weight_matrix, \\\n",
    "                                                step_size=stepsize, \\\n",
    "                              no_of_iterations= iterations, print_output=10)\n",
    "        \n",
    "        optimal_weight_matrices.append(optimal_weight_matrix)\n",
    "        \n",
    "        \n",
    "#---------------------------- TESTING THE MODEL ON TEST LABELS -------------------------------\n",
    "        \n",
    "    \n",
    "        classifier = classification_accuracy(testlabels@np.arange(0,testlabels.shape[1]), \\\n",
    "                            multinomial_prediction_function(testdata, optimal_weight_matrix))\n",
    "        \n",
    "        print(classifier)\n",
    "            \n",
    "        classification_accuracies.append(classifier)\n",
    "        \n",
    "    return list(zip(parameters,classification_accuracies)), \\\n",
    "                                optimal_weight_matrices[np.argmax(classification_accuracies)]"
   ]
  },
  {
   "cell_type": "code",
   "execution_count": 78,
   "metadata": {},
   "outputs": [
    {
     "name": "stdout",
     "output_type": "stream",
     "text": [
      "Iteration 10/500, objective = 31571.34703825616.\n",
      "Iteration 20/500, objective = 23102.63182116647.\n",
      "Iteration 30/500, objective = 19675.592711681875.\n",
      "Iteration 40/500, objective = 17764.224186264826.\n",
      "Iteration 50/500, objective = 16522.16380821228.\n",
      "Iteration 60/500, objective = 15638.608640999439.\n",
      "Iteration 70/500, objective = 14971.31058842001.\n",
      "Iteration 80/500, objective = 14445.50386308884.\n",
      "Iteration 90/500, objective = 14017.937821511956.\n",
      "Iteration 100/500, objective = 13661.575515851067.\n",
      "Iteration 110/500, objective = 13358.869539709096.\n",
      "Iteration 120/500, objective = 13097.643828602779.\n",
      "Iteration 130/500, objective = 12869.170689061091.\n",
      "Iteration 140/500, objective = 12667.159932659482.\n",
      "Iteration 150/500, objective = 12486.880467696781.\n",
      "Iteration 160/500, objective = 12324.701218186925.\n",
      "Iteration 170/500, objective = 12177.738116967785.\n",
      "Iteration 180/500, objective = 12043.761792539111.\n",
      "Iteration 190/500, objective = 11920.985509405815.\n",
      "Iteration 200/500, objective = 11807.94938435303.\n",
      "Iteration 210/500, objective = 11703.420780614715.\n",
      "Iteration 220/500, objective = 11606.369227334242.\n",
      "Iteration 230/500, objective = 11515.938172468748.\n",
      "Iteration 240/500, objective = 11431.375444759164.\n",
      "Iteration 250/500, objective = 11352.115684451186.\n",
      "Iteration 260/500, objective = 11277.630452043184.\n",
      "Iteration 270/500, objective = 11207.445537035184.\n",
      "Iteration 280/500, objective = 11141.158911131917.\n",
      "Iteration 290/500, objective = 11078.406253746123.\n",
      "Iteration 300/500, objective = 11018.920886575908.\n",
      "Iteration 310/500, objective = 10962.401712476258.\n",
      "Iteration 320/500, objective = 10908.617740637566.\n",
      "Iteration 330/500, objective = 10857.375008791067.\n",
      "Iteration 340/500, objective = 10808.461838879546.\n",
      "Iteration 350/500, objective = 10761.717759489318.\n",
      "Iteration 360/500, objective = 10716.978918200826.\n",
      "Iteration 370/500, objective = 10674.12261300909.\n",
      "Iteration 380/500, objective = 10633.011345471774.\n",
      "Iteration 390/500, objective = 10593.51165433884.\n",
      "Iteration 400/500, objective = 10555.527997671772.\n",
      "Iteration 410/500, objective = 10518.97155833378.\n",
      "Iteration 420/500, objective = 10483.767308597236.\n",
      "Iteration 430/500, objective = 10449.816926717445.\n",
      "Iteration 440/500, objective = 10417.05993338481.\n",
      "Iteration 450/500, objective = 10385.421454339556.\n",
      "Iteration 460/500, objective = 10354.845770555246.\n",
      "Iteration 470/500, objective = 10325.270007468262.\n",
      "Iteration 480/500, objective = 10296.638118876244.\n",
      "Iteration 490/500, objective = 10268.898771200516.\n",
      "Iteration 500/500, objective = 10242.014460547685.\n",
      "Iteration completed after 500/500, objective = 10242.014460547685.\n",
      "0.9060416666666666\n"
     ]
    }
   ],
   "source": [
    "lasso_accuracies, lasso_optimal_weight_matrix = model_validation_LASSO([1],\\\n",
    "                                                                      iterations = 500)"
   ]
  },
  {
   "cell_type": "markdown",
   "metadata": {},
   "source": [
    "Testing on Validation Set"
   ]
  },
  {
   "cell_type": "code",
   "execution_count": 79,
   "metadata": {},
   "outputs": [
    {
     "data": {
      "text/plain": [
       "0.9084166666666667"
      ]
     },
     "execution_count": 79,
     "metadata": {},
     "output_type": "execute_result"
    }
   ],
   "source": [
    "classification_accuracy(val_labels,multinomial_prediction_function(val_data_matrix,lasso_optimal_weight_matrix))"
   ]
  },
  {
   "cell_type": "markdown",
   "metadata": {},
   "source": [
    "Testing classification for each digit"
   ]
  },
  {
   "cell_type": "code",
   "execution_count": 80,
   "metadata": {},
   "outputs": [],
   "source": [
    "lasso_data_matrix = polynomial_basis(val_data,degree = 1)\n",
    "y_pred = multinomial_prediction_function(lasso_data_matrix, lasso_optimal_weight_matrix)\n",
    "\n",
    "index = np.argsort(val_labels)\n",
    "val_labels_sort = val_labels[index]\n",
    "y_pred_sort = y_pred[index]"
   ]
  },
  {
   "cell_type": "code",
   "execution_count": 81,
   "metadata": {},
   "outputs": [
    {
     "data": {
      "text/plain": [
       "[97.54028837998302,\n",
       " 96.54929577464789,\n",
       " 87.57201646090536,\n",
       " 86.89236111111111,\n",
       " 93.34500875656742,\n",
       " 82.88621646623497,\n",
       " 94.96805111821087,\n",
       " 93.33333333333333,\n",
       " 84.07310704960835,\n",
       " 88.98305084745762]"
      ]
     },
     "execution_count": 81,
     "metadata": {},
     "output_type": "execute_result"
    }
   ],
   "source": [
    "misclassifications = []\n",
    "for i in range(10):\n",
    "    index = (val_labels_sort == i)\n",
    "    a = y_pred_sort[index]\n",
    "    b = (a == val_labels_sort[index])\n",
    "    misclassifications.append(np.mean(b) * 100)\n",
    "    \n",
    "misclassifications"
   ]
  }
 ],
 "metadata": {
  "celltoolbar": "Edit Metadata",
  "kernelspec": {
   "display_name": "Python 3",
   "language": "python",
   "name": "python3"
  },
  "language_info": {
   "codemirror_mode": {
    "name": "ipython",
    "version": 3
   },
   "file_extension": ".py",
   "mimetype": "text/x-python",
   "name": "python",
   "nbconvert_exporter": "python",
   "pygments_lexer": "ipython3",
   "version": "3.8.5"
  }
 },
 "nbformat": 4,
 "nbformat_minor": 2
}
