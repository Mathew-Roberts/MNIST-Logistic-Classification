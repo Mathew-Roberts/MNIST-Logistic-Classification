{
 "cells": [
  {
   "cell_type": "markdown",
   "metadata": {},
   "source": [
    "Before you turn this problem in, make sure everything runs as expected. First, **restart the kernel** (in the menubar, select Kernel$\\rightarrow$Restart) and then **run all cells** (in the menubar, select Cell$\\rightarrow$Run All).\n",
    "\n",
    "Make sure you fill in any place that says `YOUR CODE HERE` and that you delete any **raise NotImplementedError()** once you have filled in your code. Enter your student identifier below:"
   ]
  },
  {
   "cell_type": "code",
   "execution_count": 2,
   "metadata": {},
   "outputs": [],
   "source": [
    "STUDENT ID = \"200878566\""
   ]
  },
  {
   "cell_type": "markdown",
   "metadata": {},
   "source": [
    "---"
   ]
  },
  {
   "cell_type": "markdown",
   "metadata": {
    "deletable": false,
    "editable": false,
    "nbgrader": {
     "cell_type": "markdown",
     "checksum": "fdd840b9ab44a389a644d4ff41790a9a",
     "grade": false,
     "grade_id": "cell-6ded9e10fb35754f",
     "locked": true,
     "schema_version": 3,
     "solution": false,
     "task": false
    }
   },
   "source": [
    "# MTH786U/P final assessment template\n",
    "\n",
    "This is the coding template for the final assessment of MTH786U/P in 2020/2021.\n",
    "\n",
    "The goal of this assessment is to classify hand-written digits from the [MNIST database](https://en.wikipedia.org/wiki/MNIST_database) and to present your results in a written report (at most 8 pages). The assessment is formed of three parts: 1) filling in the missing parts of this Jupyter notebook, 2) applying learned concepts from this notebook and the module MTH786 in general to the MNIST classification problem, and 3) presenting your results in a written report (written in $\\LaTeX$). \n",
    "\n",
    "Author: [Martin Benning](mailto:m.benning@qmul.ac.uk)\n",
    "\n",
    "Date: 18.11.2020\n",
    "\n",
    "Follow the instructions in this template in order to complete the first part of your assessment. Please only modify cells where you are instructed to do so. Failure to comply may result in unexpected errors that can lead to mark deductions. We load the Numpy and Matplotlib libraries. Please do not add any additional libraries here but at a later stage if required."
   ]
  },
  {
   "cell_type": "code",
   "execution_count": 1,
   "metadata": {
    "deletable": false,
    "editable": false,
    "nbgrader": {
     "cell_type": "code",
     "checksum": "5bd7074d1695e70e8c0a936b29704da2",
     "grade": false,
     "grade_id": "cell-a633ccf06b277795",
     "locked": true,
     "schema_version": 3,
     "solution": false,
     "task": false
    }
   },
   "outputs": [],
   "source": [
    "import numpy as np\n",
    "import matplotlib.pyplot as plt"
   ]
  },
  {
   "cell_type": "code",
   "execution_count": 2,
   "metadata": {},
   "outputs": [],
   "source": [
    "%matplotlib inline"
   ]
  },
  {
   "cell_type": "markdown",
   "metadata": {
    "deletable": false,
    "editable": false,
    "nbgrader": {
     "cell_type": "markdown",
     "checksum": "8b8af802f1a0231178e470649ea44639",
     "grade": false,
     "grade_id": "cell-1521ab82136c8e27",
     "locked": true,
     "schema_version": 3,
     "solution": false,
     "task": false
    }
   },
   "source": [
    "## Binary logistic regression\n",
    "\n",
    "For the first part of your final assessment you are required to implement the logistic regression model for binary classification problems as introduced in the lectures. Following up on what you have learned in the lectures and tutorials, complete the following tasks.\n",
    "\n",
    "Write a function ***logistic_function*** that takes an argument named _inputs_ and returns the output of the logistic function, i.e.\n",
    "\n",
    "\\begin{align*}\n",
    "\\frac{1}{1 + \\exp(-x)} \\, ,\n",
    "\\end{align*}\n",
    "\n",
    "applied to the input. Here $x$ is the mathematical notation for the argument _inputs_."
   ]
  },
  {
   "cell_type": "code",
   "execution_count": 32,
   "metadata": {
    "deletable": false,
    "nbgrader": {
     "cell_type": "code",
     "checksum": "f7a31ab463bfd733a5550c57433d06c3",
     "grade": false,
     "grade_id": "logistic-function",
     "locked": false,
     "schema_version": 3,
     "solution": true,
     "task": false
    }
   },
   "outputs": [],
   "source": [
    "def logistic_function(inputs):\n",
    "    # YOUR CODE HERE\n",
    "    value = 1/(1+np.exp(-(inputs)))\n",
    "    return value"
   ]
  },
  {
   "cell_type": "markdown",
   "metadata": {
    "deletable": false,
    "editable": false,
    "nbgrader": {
     "cell_type": "markdown",
     "checksum": "9d4000621fded3ac2c0b5634489af1d6",
     "grade": false,
     "grade_id": "cell-002e14c765e68b53",
     "locked": true,
     "schema_version": 3,
     "solution": false,
     "task": false
    }
   },
   "source": [
    "Test your function with the following unit tests. Passing this test will be awarded with **2 marks**. Please note that not all unit tests are visible to you."
   ]
  },
  {
   "cell_type": "code",
   "execution_count": 33,
   "metadata": {
    "deletable": false,
    "editable": false,
    "nbgrader": {
     "cell_type": "code",
     "checksum": "ade774ac5cf141a9edbb4f46f707c70d",
     "grade": true,
     "grade_id": "logistic-function-test",
     "locked": true,
     "points": 2,
     "schema_version": 3,
     "solution": false,
     "task": false
    }
   },
   "outputs": [],
   "source": [
    "from numpy.testing import assert_array_almost_equal, assert_array_equal\n",
    "test_inputs = np.array([[0], [np.log(5)], [-3], [np.log(3)], [1]])\n",
    "assert_array_almost_equal(logistic_function(test_inputs), np.array([[1/2], [5/6], [0.04742587317756], \\\n",
    "                            [3/4], [np.exp(1)/(1 + np.exp(1))]]))"
   ]
  },
  {
   "cell_type": "markdown",
   "metadata": {
    "deletable": false,
    "editable": false,
    "nbgrader": {
     "cell_type": "markdown",
     "checksum": "04ff095166cb1042179a534a57f7f5c4",
     "grade": false,
     "grade_id": "cell-8e2b052a692ae3ca",
     "locked": true,
     "schema_version": 3,
     "solution": false,
     "task": false
    }
   },
   "source": [
    "For the next exercise, write two functions that implement the objective function for binary logistic regression as well as its gradient, as defined in the lecture notes. The function for the objective function is named **binary_logistic_regression_cost_function** and should take the NumPy arrays _data_matrix_, _weights_ and _outputs_ as arguments. Here, _data_matrix_ is supposed to be a polynomial basis matrix, while _weights_ denotes the vector of weight parameters and _outputs_ is the vector of binary outputs (with values in $\\{0, 1\\}$). In order to generate a polynomial basis matrix, fill in the function **polynomial_basis**. You can follow the [solution](https://qmplus.qmul.ac.uk/mod/resource/view.php?id=1416413) of [Coursework 4](https://qmplus.qmul.ac.uk/pluginfile.php/2220881/mod_resource/content/4/coursework04.pdf) or use your own version, as long as it is consistent with the function header specified in the next cell and with the requested output. Subsequently, write a method **binary_logistic_regression_gradient** that takes the same inputs as **binary_logistic_regression_cost_function** and computes the gradient of the binary logistic regression cost function as defined in the lecture."
   ]
  },
  {
   "cell_type": "code",
   "execution_count": 10,
   "metadata": {
    "deletable": false,
    "nbgrader": {
     "cell_type": "code",
     "checksum": "32f2b5001d7a1881ffa12451d5133cb8",
     "grade": false,
     "grade_id": "logistic-cost-function",
     "locked": false,
     "schema_version": 3,
     "solution": true,
     "task": false
    }
   },
   "outputs": [],
   "source": [
    "def polynomial_basis(inputs, degree=1):\n",
    "    \n",
    "    basis_matrix = np.ones((len(inputs), 1))\n",
    "    for counter in range(1, degree + 1):\n",
    "        basis_matrix = np.c_[basis_matrix, np.power(inputs, counter)]\n",
    "    return basis_matrix\n",
    "   \n",
    "\n",
    "def binary_logistic_regression_cost_function(data_matrix, weights, outputs):\n",
    "    s = data_matrix.shape[0]\n",
    "    values = []\n",
    "    for i in range(s):\n",
    "        result = np.log(1 + np.exp(data_matrix[i,:]@weights)) - (outputs[i]*(data_matrix[i,:]@weights))\n",
    "        values.append(result)\n",
    "    return np.sum(values)\n",
    "    \n",
    "    \n",
    "def binary_logistic_regression_gradient(data_matrix, weights, outputs):\n",
    "    result = data_matrix.T @ (logistic_function(data_matrix@weights) - outputs)\n",
    "    return result\n",
    "\n"
   ]
  },
  {
   "cell_type": "markdown",
   "metadata": {
    "deletable": false,
    "editable": false,
    "nbgrader": {
     "cell_type": "markdown",
     "checksum": "766d8951af9708ef7c8c6be80d721575",
     "grade": false,
     "grade_id": "cell-ee5c7e3b09c4f3f4",
     "locked": true,
     "schema_version": 3,
     "solution": false,
     "task": false
    }
   },
   "source": [
    "After writing Python functions for the binary logistic regression cost function and its gradient, fill in the following notebook functions for the implementation of a gradient descent method. For the first function it is acceptable to follow the solution of Coursework 6, or to use your own version if is consistent with function header and output. For the second gradient descent function named **gradient_descent_v2**, modify the gradient descent method to include a stopping criterion that ensures that gradient descent stops once\n",
    "\n",
    "\\begin{align*}\n",
    "\\| \\nabla L(w^k) \\| \\leq \\text{tolerance}\n",
    "\\end{align*}\n",
    "\n",
    "is satisfied. Here $L$ and $w^k$ are the mathematical representations of the objective _objective_ and the weight vector _weights_, at iteration $k$. The parameter _tolerance_ is a non-negative threshold that controls the Euclidean norm of the gradient. The function **gradient_descent_v2** takes the arguments _objective_, _gradient_, _initial_weights_, _step_size_, _no_of_iterations_, _print_output_ and _tolerance_. The arguments _objective_ and _gradient_ are functions that can take (weight-)arrays as arguments and return the scalar value of the objective, respectively the array representation of the corresponding gradient. The argument _initial_weights_ specifies the initial value of the variable over which you iterate. The argument _step_size_ is the gradient descent step-size parameter, the argument _no_of_iterations_ specifies the maximum number of iterations, _print_output_ determines after how many iterations the function produces a text output and _tolerance_ controls the norm of the gradient as described in the equation above."
   ]
  },
  {
   "cell_type": "code",
   "execution_count": 6,
   "metadata": {
    "deletable": false,
    "nbgrader": {
     "cell_type": "code",
     "checksum": "0a0df2f9342e9204a48960b5885f38d6",
     "grade": false,
     "grade_id": "gradient_descent",
     "locked": false,
     "schema_version": 3,
     "solution": true,
     "task": false
    }
   },
   "outputs": [],
   "source": [
    "def gradient_descent(objective, gradient, initial_weights, step_size=1, no_of_iterations=100, print_output=10):\n",
    "    objective_values = []\n",
    "    weights = np.copy(initial_weights)\n",
    "    objective_values.append(objective(weights))\n",
    "    \n",
    "    for counter in range(no_of_iterations):\n",
    "        weights -= step_size * gradient(weights)\n",
    "        objective_values.append(objective(weights))\n",
    "        \n",
    "        if (counter + 1) % print_output == 0:\n",
    "            print(\"Iteration {k}/{m}, objective = {o}.\".format(k=counter+1, \\\n",
    "                    m=no_of_iterations, o=objective_values[counter]))\n",
    "            \n",
    "    print(\"Iteration completed after {k}/{m}, objective = {o}.\".format(k=counter + 1, \\\n",
    "                m=no_of_iterations, o=objective_values[counter]))\n",
    "    \n",
    "    return weights, objective_values\n",
    "\n",
    "    \n",
    "def gradient_descent_v2(objective, gradient, initial_weights, step_size=1, no_of_iterations=100, \\\n",
    "                        print_output=10, tolerance=1e-6):\n",
    "    \n",
    "    #This creates values for the cost function for each weight\n",
    "    objective_values = []\n",
    "    weights = np.copy(initial_weights)\n",
    "    objective_values.append(objective(weights))\n",
    "    iteration = 0\n",
    "    #This enforces a condition on the one norm of the gradient of the loss function\n",
    "    while np.sum(np.abs(gradient(weights))) < tolerance:\n",
    "        weights -= step_size * gradient(weights)\n",
    "        objective_values.append(objective(weights))\n",
    "        \n",
    "        iteration +=1\n",
    "        if (iteration + 1) % print_output == 0:\n",
    "            print(\"Iteration {k}, objective = {o}.\".format(k=iteration+1, \\\n",
    "                     o=objective_values[iteration]))\n",
    "            \n",
    "    print(\"Iteration completed after {k}/{m}, objective = {o}.\".format(k=iteration + 1, \\\n",
    "                 o=objective_values[iteration]))\n",
    "    \n",
    "    return weights, objective_values\n"
   ]
  },
  {
   "cell_type": "markdown",
   "metadata": {
    "deletable": false,
    "editable": false,
    "nbgrader": {
     "cell_type": "markdown",
     "checksum": "90e8d7a7ec95458b09266c3d92aaaec6",
     "grade": false,
     "grade_id": "cell-c3a6dd3a899dcb5c",
     "locked": true,
     "schema_version": 3,
     "solution": false,
     "task": false
    }
   },
   "source": [
    "In the following cell, write a function **standardise** that standardises the columns of a two-dimensional NumPy array _data_matrix_."
   ]
  },
  {
   "cell_type": "code",
   "execution_count": 11,
   "metadata": {
    "deletable": false,
    "nbgrader": {
     "cell_type": "code",
     "checksum": "924547dca886c6e5532970ba42bdb82c",
     "grade": false,
     "grade_id": "standardise",
     "locked": false,
     "schema_version": 3,
     "solution": true,
     "task": false
    }
   },
   "outputs": [],
   "source": [
    "def standardise(data_matrix):\n",
    "    row_of_means = np.mean(data_matrix,axis = 0)\n",
    "    standardised_matrix = data_matrix - row_of_means\n",
    "    row_of_stds = np.std(standardised_matrix, axis = 0)\n",
    "  \n",
    "    return (standardised_matrix/row_of_stds)\n"
   ]
  },
  {
   "cell_type": "markdown",
   "metadata": {
    "deletable": false,
    "editable": false,
    "nbgrader": {
     "cell_type": "markdown",
     "checksum": "33f3d6517199ac0dd790047f327a3631",
     "grade": false,
     "grade_id": "cell-f74f777a7e81f822",
     "locked": true,
     "schema_version": 3,
     "solution": false,
     "task": false
    }
   },
   "source": [
    "Test your results with the following cell. A total of **3 marks** will be awarded if your function passes the following standard tests. Please note that not all tests are visible to you."
   ]
  },
  {
   "cell_type": "code",
   "execution_count": 8,
   "metadata": {
    "deletable": false,
    "editable": false,
    "nbgrader": {
     "cell_type": "code",
     "checksum": "a0ea50e31317e7e314d2a7d90e46ff41",
     "grade": true,
     "grade_id": "standardisation-test",
     "locked": true,
     "points": 3,
     "schema_version": 3,
     "solution": false,
     "task": false
    }
   },
   "outputs": [],
   "source": [
    "test_matrix = np.array([[1, 2], [3, 4], [5, 6]])\n",
    "assert_array_almost_equal(standardise(test_matrix), np.array([[-1.22474487, -1.22474487], \\\n",
    "                            [0, 0],[1.22474487, 1.22474487]]))"
   ]
  },
  {
   "cell_type": "markdown",
   "metadata": {
    "deletable": false,
    "editable": false,
    "nbgrader": {
     "cell_type": "markdown",
     "checksum": "faa82c0c746059f5e089fd2a8bc80f46",
     "grade": false,
     "grade_id": "cell-4ec03cc4fda49034",
     "locked": true,
     "schema_version": 3,
     "solution": false,
     "task": false
    }
   },
   "source": [
    "To train a simple binary classifier, you require some data. The following cell calls a function that allows you to load the height-weight-gender dataset that you already know from your coursework."
   ]
  },
  {
   "cell_type": "code",
   "execution_count": 9,
   "metadata": {
    "deletable": false,
    "editable": false,
    "nbgrader": {
     "cell_type": "code",
     "checksum": "40ef881fba829b6964f8b1d65fcb6a47",
     "grade": false,
     "grade_id": "cell-d3175e8ccd63fab4",
     "locked": true,
     "schema_version": 3,
     "solution": false,
     "task": false
    }
   },
   "outputs": [
    {
     "data": {
      "image/png": "[encoded data removed]",
      "text/plain": [
       "<Figure size 432x288 with 1 Axes>"
      ]
     },
     "metadata": {
      "needs_background": "light"
     },
     "output_type": "display_data"
    }
   ],
   "source": [
    "from data_loader import load_data\n",
    "height, weight, biological_sex = load_data()\n",
    "biological_sex = np.double(biological_sex).reshape(-1, 1)\n",
    "plt.plot(height, weight, '.', linewidth=3)\n",
    "plt.xlabel('Height in metres', fontsize=16)\n",
    "plt.xticks(fontsize=16)\n",
    "plt.ylabel('Weight in kilogram', fontsize=16)\n",
    "plt.yticks(fontsize=16)\n",
    "plt.tight_layout;"
   ]
  },
  {
   "cell_type": "markdown",
   "metadata": {
    "deletable": false,
    "editable": false,
    "nbgrader": {
     "cell_type": "markdown",
     "checksum": "93ddcbc533969ca2585a24d87b6f10ff",
     "grade": false,
     "grade_id": "cell-1d8cb3da4dac45fa",
     "locked": true,
     "schema_version": 3,
     "solution": false,
     "task": false
    }
   },
   "source": [
    "In the following cell, write code that initialises a polynomial data matrix _data_matrix_ of degree one with the standardised inputs formed from the height and weight arrays of the dataset. Define an objective function _objective_ with argument _weights_ based on the **binary_logistic_regression_cost_function** with fixed arguments _data_matrix_ and _biological_sex_. Repeat the same exercise to create a function _gradient_ based on **binary_logistic_regression_gradient**."
   ]
  },
  {
   "cell_type": "code",
   "execution_count": 10,
   "metadata": {
    "deletable": false,
    "nbgrader": {
     "cell_type": "code",
     "checksum": "c7d63d2842004f750b77a6454bf5006d",
     "grade": false,
     "grade_id": "cell-65673f36b848eab4",
     "locked": false,
     "schema_version": 3,
     "solution": true,
     "task": false
    }
   },
   "outputs": [
    {
     "name": "stdout",
     "output_type": "stream",
     "text": [
      "[[ 1.          1.94406149  2.50579697]\n",
      " [ 1.          0.62753668  0.02710064]\n",
      " [ 1.          2.01244346  1.59780623]\n",
      " ...\n",
      " [ 1.         -0.64968792 -1.02672965]\n",
      " [ 1.          0.69312469  0.07512745]\n",
      " [ 1.         -1.14970831 -1.48850724]]\n"
     ]
    }
   ],
   "source": [
    "\n",
    "#creating the polynomial basis array\n",
    "height_standardised = standardise(height)\n",
    "weight_standardised = standardise(weight)\n",
    "weight_height_std = np.c_[height_standardised,weight_standardised]\n",
    "data_matrix = polynomial_basis(weight_height_std)\n",
    "#checking the polynomial array\n",
    "print(data_matrix)\n",
    "\n",
    "#creating the cost function and gradient\n",
    "objective = lambda weights: binary_logistic_regression_cost_function(data_matrix, weights, biological_sex)\n",
    "gradient = lambda weights: binary_logistic_regression_gradient(data_matrix, weights, biological_sex)\n",
    "\n",
    "\n",
    " "
   ]
  },
  {
   "cell_type": "markdown",
   "metadata": {
    "deletable": false,
    "editable": false,
    "nbgrader": {
     "cell_type": "markdown",
     "checksum": "726095861ab7131322e489c8a33d15f5",
     "grade": false,
     "grade_id": "cell-5c25ca5d2e19856b",
     "locked": true,
     "schema_version": 3,
     "solution": false,
     "task": false
    }
   },
   "source": [
    "Call gradient descent with the following cell to compute _optimal_weights_ for your model."
   ]
  },
  {
   "cell_type": "code",
   "execution_count": 33,
   "metadata": {
    "deletable": false,
    "editable": false,
    "nbgrader": {
     "cell_type": "code",
     "checksum": "7753f6ed0ac1f5a4adbb1ef268caae81",
     "grade": false,
     "grade_id": "cell-fb31b6af5bbbcc9a",
     "locked": true,
     "schema_version": 3,
     "solution": false,
     "task": false
    }
   },
   "outputs": [
    {
     "name": "stdout",
     "output_type": "stream",
     "text": [
      "Iteration 1000/7000, objective = 2091.9568591203943.\n",
      "Iteration 2000/7000, objective = 2091.30072155257.\n",
      "Iteration 3000/7000, objective = 2091.297983425523.\n",
      "Iteration 4000/7000, objective = 2091.2979712556394.\n",
      "Iteration 5000/7000, objective = 2091.2979712013266.\n",
      "Iteration 6000/7000, objective = 2091.297971201084.\n",
      "Iteration 7000/7000, objective = 2091.297971201083.\n",
      "Iteration completed after 7000/7000, objective = 2091.297971201083.\n"
     ]
    }
   ],
   "source": [
    "initial_weights = np.zeros((data_matrix.shape[1], 1))\n",
    "optimal_weights, objective_values = gradient_descent(objective, gradient, initial_weights, \\\n",
    "                                    step_size=1.9/(np.linalg.norm(data_matrix, 2) ** 2), \\\n",
    "                                    no_of_iterations=7000, print_output=1000)"
   ]
  },
  {
   "cell_type": "markdown",
   "metadata": {
    "deletable": false,
    "editable": false,
    "nbgrader": {
     "cell_type": "markdown",
     "checksum": "c84469bd2889feaf8a713f0dfb3d716a",
     "grade": false,
     "grade_id": "cell-da55ede3853660cf",
     "locked": true,
     "schema_version": 3,
     "solution": false,
     "task": false
    }
   },
   "source": [
    "A correct result of your gradient-descent-based logistic regression strategy will be awarded **4 marks**."
   ]
  },
  {
   "cell_type": "code",
   "execution_count": 35,
   "metadata": {
    "deletable": false,
    "editable": false,
    "nbgrader": {
     "cell_type": "code",
     "checksum": "0102eed55ffb0f81e5ba3f42cffd9422",
     "grade": true,
     "grade_id": "cell-8090fbc611c0a194",
     "locked": true,
     "points": 4,
     "schema_version": 3,
     "solution": false,
     "task": false
    }
   },
   "outputs": [
    {
     "name": "stdout",
     "output_type": "stream",
     "text": [
      "The optimal weights are w = [[-0.01870311  1.89527459 -6.3680829 ]].T with objective value L(w) = 2091.297971201083.\n"
     ]
    }
   ],
   "source": [
    "print(\"The optimal weights are w = {w}.T with objective value L(w) = {o}.\".format(w = optimal_weights.T, \\\n",
    "        o=objective_values[-1]))"
   ]
  },
  {
   "cell_type": "markdown",
   "metadata": {
    "deletable": false,
    "editable": false,
    "nbgrader": {
     "cell_type": "markdown",
     "checksum": "14f46ce484ad38b6e849796544e9ad6c",
     "grade": false,
     "grade_id": "cell-18f1b30c908aaae8",
     "locked": true,
     "schema_version": 3,
     "solution": false,
     "task": false
    }
   },
   "source": [
    "Write two functions **prediction_function** and **classification_accuracy** that turn your predicitons into classification results and that compare how many labels have been classified correctly. The function **prediction_function** takes the arguments _data_matrix_ and _weights_ as inputs and returns a vector of class labels with binary values in $\\{0, 1\\}$ as its output. The function **classification_accuracy** takes two inputs _true_labels_ and _recovered_labels_ and returns the percentage of correctly classified labels divided by 100."
   ]
  },
  {
   "cell_type": "code",
   "execution_count": 11,
   "metadata": {
    "deletable": false,
    "nbgrader": {
     "cell_type": "code",
     "checksum": "dda3261c6408de6bfac72ee8a2e3d197",
     "grade": false,
     "grade_id": "prediction-and-accuracy",
     "locked": false,
     "schema_version": 3,
     "solution": true,
     "task": false
    }
   },
   "outputs": [],
   "source": [
    "def prediction_function(data_matrix, weights):\n",
    "    results = logistic_function(data_matrix @ weights)\n",
    "    binary = np.where(results >0.5,1,0)\n",
    "    return binary\n",
    "   \n",
    "def classification_accuracy(true_labels, recovered_labels):\n",
    "    equal_labels = (recovered_labels == true_labels)\n",
    "    return np.mean(equal_labels)\n",
    "  "
   ]
  },
  {
   "cell_type": "markdown",
   "metadata": {
    "deletable": false,
    "editable": false,
    "nbgrader": {
     "cell_type": "markdown",
     "checksum": "cd533efa2d5716dd04fe9c649cb9f0bf",
     "grade": false,
     "grade_id": "cell-747f695d7dde1390",
     "locked": true,
     "schema_version": 3,
     "solution": false,
     "task": false
    }
   },
   "source": [
    "The correct classification accuracy is awarded **4 marks**. The total marks possible in this section are **13 marks**."
   ]
  },
  {
   "cell_type": "code",
   "execution_count": 37,
   "metadata": {
    "deletable": false,
    "editable": false,
    "nbgrader": {
     "cell_type": "code",
     "checksum": "977c57bb1188016adfa151474f8baecf",
     "grade": true,
     "grade_id": "accuracy-test",
     "locked": true,
     "points": 4,
     "schema_version": 3,
     "solution": false,
     "task": false
    }
   },
   "outputs": [
    {
     "name": "stdout",
     "output_type": "stream",
     "text": [
      "The classification accuracy for the training set is 91.94 %.\n"
     ]
    }
   ],
   "source": [
    "print(\"The classification accuracy for the training set is {p} %.\".format(p = 100 * \\\n",
    "        classification_accuracy(biological_sex, prediction_function(data_matrix, optimal_weights))))"
   ]
  },
  {
   "cell_type": "markdown",
   "metadata": {
    "deletable": false,
    "editable": false,
    "nbgrader": {
     "cell_type": "markdown",
     "checksum": "00633505cdd1f8712777a761fbe95961",
     "grade": false,
     "grade_id": "cell-66ec567aec881880",
     "locked": true,
     "schema_version": 3,
     "solution": false,
     "task": false
    }
   },
   "source": [
    "## Multinomial logistic regression\n",
    "\n",
    "This concludes the binary classification part of the first part of the final assessment. We now move on to multinomial logistic regression for multi-class classfication problems. As a first exercise, implement the softmax function **softmax_function** as defined in the lectures. The function takes the NumPy array _argument_ as its main argument, but also has an optional _axis_ argument to determine across which array-dimension you apply the softmax operation. If this argument is not specified (or set to _None_), then the softmax operation is applied to the entire array. Make sure your function works at least for NumPy arrays _argument_ with arbitrary numerical values and dimension one or two."
   ]
  },
  {
   "cell_type": "code",
   "execution_count": 12,
   "metadata": {
    "deletable": false,
    "nbgrader": {
     "cell_type": "code",
     "checksum": "4977cb40c6c166eebb31fe6ef824918a",
     "grade": false,
     "grade_id": "softmax",
     "locked": false,
     "schema_version": 3,
     "solution": true,
     "task": false
    }
   },
   "outputs": [
    {
     "name": "stdout",
     "output_type": "stream",
     "text": [
      "[[0.76528029 0.71807976]\n",
      " [0.23049799 0.01775346]\n",
      " [0.00422172 0.26416678]]\n"
     ]
    }
   ],
   "source": [
    "def softmax_function(argument, axis=None):\n",
    "    \n",
    "    if argument.ndim == 1:\n",
    "        new_array = np.exp(argument)\n",
    "        result = new_array/np.sum(new_array)\n",
    "        \n",
    "        return result\n",
    "    elif argument.ndim > 1:\n",
    "        \n",
    "        if axis == None:\n",
    "            result = np.exp(argument)/sum(sum(np.exp(x)) for x in argument)\n",
    "            \n",
    "            return result\n",
    "        \n",
    "        elif axis == 0:\n",
    "            new_array = np.exp(argument)\n",
    "            result = new_array/new_array.sum(axis=0, keepdims = True)\n",
    "            \n",
    "            return result\n",
    "                \n",
    "        elif axis == 1:\n",
    "            new_array = np.exp(argument)\n",
    "            result = new_array/new_array.sum(axis=1, keepdims = True)\n",
    "          \n",
    "            return result\n",
    "    \n",
    "print(softmax_function(np.array([[1.5,3], [0.3,-0.7], [-3.7,2]]),axis=0))"
   ]
  },
  {
   "cell_type": "markdown",
   "metadata": {
    "deletable": false,
    "editable": false,
    "nbgrader": {
     "cell_type": "markdown",
     "checksum": "d93ee498f6cc2c5167fb18f05b55cb72",
     "grade": false,
     "grade_id": "cell-0bd9e5f6e5931b4e",
     "locked": true,
     "schema_version": 3,
     "solution": false,
     "task": false
    }
   },
   "source": [
    "Test your softmax function with the following cell. Passing this test is awarded with **4 marks**. Please note that, as usual, some tests are hidden."
   ]
  },
  {
   "cell_type": "code",
   "execution_count": 14,
   "metadata": {
    "deletable": false,
    "editable": false,
    "nbgrader": {
     "cell_type": "code",
     "checksum": "92dadfc8cfb35300c37378165909b4a0",
     "grade": true,
     "grade_id": "cell-b7751e0278da3533",
     "locked": true,
     "points": 4,
     "schema_version": 3,
     "solution": false,
     "task": false
    }
   },
   "outputs": [
    {
     "name": "stdout",
     "output_type": "stream",
     "text": [
      "The softmax of [[ 1.5  0.3 -3.7]].T is [[0.76528029 0.23049799 0.00422172]].T.\n"
     ]
    }
   ],
   "source": [
    "argument = np.array([[1.5], [0.3], [-3.7]])\n",
    "print(\"The softmax of {arg}.T is {out}.T.\".format(arg=argument.T, out=softmax_function(argument).T))\n",
    "assert_array_almost_equal(softmax_function(np.array([[1.5], [0.3], [-3.7]])), np.array([[0.76528029], \\\n",
    "                                                        [0.23049799], [0.00422172]]))\n",
    "assert_array_almost_equal(softmax_function(np.array([[1.5, 3], [0.3, -0.7], [-3.7, 2]]), axis=0), \\\n",
    "                          np.array([[0.76528029, 0.71807976], [0.23049799, 0.01775346], \\\n",
    "                                    [0.00422172, 0.26416678]]))"
   ]
  },
  {
   "cell_type": "markdown",
   "metadata": {
    "deletable": false,
    "editable": false,
    "nbgrader": {
     "cell_type": "markdown",
     "checksum": "22c6fcff95effedaa57877d34de89392",
     "grade": false,
     "grade_id": "cell-941464e24613e0a9",
     "locked": true,
     "schema_version": 3,
     "solution": false,
     "task": false
    }
   },
   "source": [
    "Next, write a function **one_hot_vector_encoding** that converts an NumPy array _labels_ with values in the range of $\\{0, K - 1\\}$ into so-called one-hot vector encodings. For example, for $K = 3$ and a label vector $\\text{labels} = \\left( \\begin{matrix} 2 & 0 & 1 & 2\\end{matrix} \\right)^\\top$, the output of **one_hot_vector_encoding(labels)** should be a two-dimensional NumPy array of the form\n",
    "\n",
    "\\begin{align*}\n",
    "\\left( \\begin{matrix} 0 & 0 & 1 \\\\ 1 & 0 & 0 \\\\ 0 & 1 & 0 \\\\ 0 & 0 & 1 \\end{matrix} \\right) \\, . \n",
    "\\end{align*}"
   ]
  },
  {
   "cell_type": "code",
   "execution_count": 13,
   "metadata": {
    "deletable": false,
    "nbgrader": {
     "cell_type": "code",
     "checksum": "94bcefd8f6f2834778c5e510f9797c83",
     "grade": false,
     "grade_id": "one-hot-vector-encoding",
     "locked": false,
     "schema_version": 3,
     "solution": true,
     "task": false
    }
   },
   "outputs": [],
   "source": [
    "def one_hot_vector_encoding(labels):\n",
    "    a = labels\n",
    "    b = np.zeros((a.size, a.max()+1))\n",
    "    b[np.arange(a.size),a] = 1\n",
    "    return b   "
   ]
  },
  {
   "cell_type": "markdown",
   "metadata": {
    "deletable": false,
    "editable": false,
    "nbgrader": {
     "cell_type": "markdown",
     "checksum": "740154e524df161eed6ffcb3b6daf01f",
     "grade": false,
     "grade_id": "cell-4d72a85842f6c692",
     "locked": true,
     "schema_version": 3,
     "solution": false,
     "task": false
    }
   },
   "source": [
    "Implement the cost function and gradient for the multinomial logistic regression in terms of two functions **multinomial_logistic_regression_cost_function** and **multinomial_logistic_regression_gradient**. As in the binary classification case, the arguments are the polynomial data matrix _data_matrix_ and weights that are now named _weight_matrix_. Instead of passing on labels as _outputs_ as in the binary case, you pass the one hot vector encoding representation _one_hot_vector_encodings_ as your third argument. Return the cost function value, respectively the gradient, following the mathematical formulas in the lecture notes."
   ]
  },
  {
   "cell_type": "code",
   "execution_count": 14,
   "metadata": {
    "deletable": false,
    "nbgrader": {
     "cell_type": "code",
     "checksum": "6866c7079139fd8a29d4c148a6e2f034",
     "grade": false,
     "grade_id": "multinomial_logistic_regression",
     "locked": false,
     "schema_version": 3,
     "solution": true,
     "task": false
    }
   },
   "outputs": [],
   "source": [
    "def multinomial_logistic_regression_cost_function(data_matrix, weight_matrix, one_hot_vector_encodings):\n",
    "    #loss function\n",
    "    s = data_matrix.shape[0]\n",
    "    K = one_hot_vector_encodings.shape[1]\n",
    "    values = 0\n",
    "    \n",
    "    for i in range(s):\n",
    "        term1s = []\n",
    "        col = np.where(one_hot_vector_encodings[i,:] == 1)[0][0]\n",
    "        term2 = (np.dot(data_matrix[i,:],weight_matrix[:,col]))\n",
    "        for j in range(K): \n",
    "            term1_before = (np.exp(np.dot(data_matrix[i,:],weight_matrix[:,j])))                  \n",
    "            term1s.append(term1_before)\n",
    "        term1 = np.log((np.sum(term1s)))\n",
    "        values += term1 - term2\n",
    "    return values\n",
    "    \n",
    "def multinomial_logistic_regression_gradient(data_matrix, weight_matrix, one_hot_vector_encodings):\n",
    "    result = data_matrix.T @ (softmax_function(data_matrix@weight_matrix,axis = 1) - one_hot_vector_encodings)\n",
    "    return result"
   ]
  },
  {
   "cell_type": "markdown",
   "metadata": {
    "deletable": false,
    "editable": false,
    "nbgrader": {
     "cell_type": "markdown",
     "checksum": "a034361a28a9e882f7d7ad4328070a9c",
     "grade": false,
     "grade_id": "cell-b810132e15131dc9",
     "locked": true,
     "schema_version": 3,
     "solution": false,
     "task": false
    }
   },
   "source": [
    "Test your implementation on the [UCI wine dataset](https://archive.ics.uci.edu/ml/datasets/wine); the dataset contains 13 attributes from a chemical analysis of Italian wines from three different cultivars. For more information on the dataset visit [this link](https://archive.ics.uci.edu/ml/datasets/wine). The code in the following cell loads the dataset and stores the labels in a NumPy array _labels_ and the attributes in a NumPy array _inputs_."
   ]
  },
  {
   "cell_type": "code",
   "execution_count": 15,
   "metadata": {
    "deletable": false,
    "editable": false,
    "nbgrader": {
     "cell_type": "code",
     "checksum": "c66a8b68f9903af0351c13f30605934f",
     "grade": false,
     "grade_id": "cell-d080a23a2048227b",
     "locked": true,
     "schema_version": 3,
     "solution": false,
     "task": false
    }
   },
   "outputs": [],
   "source": [
    "wines = np.loadtxt('wine.data', delimiter=',')\n",
    "labels = wines[:, 0].astype(int) - 1\n",
    "inputs = wines[:, 1::]"
   ]
  },
  {
   "cell_type": "markdown",
   "metadata": {
    "deletable": false,
    "editable": false,
    "nbgrader": {
     "cell_type": "markdown",
     "checksum": "6a9db194ed9b4c4b458c753d58b0196e",
     "grade": false,
     "grade_id": "cell-d26a44b054d22e4d",
     "locked": true,
     "schema_version": 3,
     "solution": false,
     "task": false
    }
   },
   "source": [
    "Transform the labels _labels_ into a one hot vector representation with your function **one_hot_vector_encoding** and store your results in a NumPy array named _outputs_."
   ]
  },
  {
   "cell_type": "code",
   "execution_count": 16,
   "metadata": {
    "deletable": false,
    "nbgrader": {
     "cell_type": "code",
     "checksum": "9378cf561d0799b518319252eaeb6c87",
     "grade": false,
     "grade_id": "cell-7362e79b5354d63b",
     "locked": false,
     "schema_version": 3,
     "solution": true,
     "task": false
    }
   },
   "outputs": [],
   "source": [
    "# YOUR CODE HERE\n",
    "outputs = one_hot_vector_encoding(labels)"
   ]
  },
  {
   "cell_type": "markdown",
   "metadata": {
    "deletable": false,
    "editable": false,
    "nbgrader": {
     "cell_type": "markdown",
     "checksum": "a365aa01296ecd58f3550a5a83dc403d",
     "grade": false,
     "grade_id": "cell-100a0ea7469b3821",
     "locked": true,
     "schema_version": 3,
     "solution": false,
     "task": false
    }
   },
   "source": [
    "In the following cell, write code that initialises a polynomial data matrix _data_matrix_ of degree one with the standardised inputs _inputs_ from the wine dataset. Define an objective function _objective_ with argument _weight_matrix_ based on the **multinomial_logistic_regression_cost_function** with fixed arguments _data_matrix_ and _one_hot_vector_encodings_. Repeat the same exercise to create a function _gradient_ based on **multinomial_logistic_regression_gradient**."
   ]
  },
  {
   "cell_type": "code",
   "execution_count": 17,
   "metadata": {
    "deletable": false,
    "nbgrader": {
     "cell_type": "code",
     "checksum": "712836b79b8e6389ce84a45f8439a300",
     "grade": false,
     "grade_id": "cell-094a5bddd94a009a",
     "locked": false,
     "schema_version": 3,
     "solution": true,
     "task": false
    }
   },
   "outputs": [],
   "source": [
    "# YOUR CODE HERE\n",
    "\n",
    "data_matrix = polynomial_basis(standardise(inputs))\n",
    "\n",
    "objective = lambda weight_matrix: multinomial_logistic_regression_cost_function(data_matrix, weight_matrix, outputs) \n",
    "gradient = lambda weight_matrix: multinomial_logistic_regression_gradient(data_matrix, weight_matrix, outputs)\n"
   ]
  },
  {
   "cell_type": "markdown",
   "metadata": {
    "deletable": false,
    "editable": false,
    "nbgrader": {
     "cell_type": "markdown",
     "checksum": "d06a10bf709742803be0723fd183611d",
     "grade": false,
     "grade_id": "cell-901f918df8fdef00",
     "locked": true,
     "schema_version": 3,
     "solution": false,
     "task": false
    }
   },
   "source": [
    "Call gradient descent with the following cell to compute an _optimal_weight_matrix_ for your model."
   ]
  },
  {
   "cell_type": "code",
   "execution_count": 63,
   "metadata": {
    "deletable": false,
    "editable": false,
    "nbgrader": {
     "cell_type": "code",
     "checksum": "acf5d4074e6b0b65252ef485d45d5838",
     "grade": false,
     "grade_id": "cell-175babea73e2db36",
     "locked": true,
     "schema_version": 3,
     "solution": false,
     "task": false
    }
   },
   "outputs": [
    {
     "name": "stdout",
     "output_type": "stream",
     "text": [
      "Iteration 5000/100000, objective = 0.37363264592740286.\n",
      "Iteration 10000/100000, objective = 0.19859836381135887.\n",
      "Iteration 15000/100000, objective = 0.13605627122241737.\n",
      "Iteration 20000/100000, objective = 0.10372479744703211.\n",
      "Iteration 25000/100000, objective = 0.08391801536513466.\n",
      "Iteration 30000/100000, objective = 0.07051872085948618.\n",
      "Iteration 35000/100000, objective = 0.06084138658523397.\n",
      "Iteration 40000/100000, objective = 0.05351961411115225.\n",
      "Iteration 45000/100000, objective = 0.047784005082136094.\n",
      "Iteration 50000/100000, objective = 0.04316789618475969.\n",
      "Iteration 55000/100000, objective = 0.03937164510108371.\n",
      "Iteration 60000/100000, objective = 0.036193967173282715.\n",
      "Iteration 65000/100000, objective = 0.0334945959405184.\n",
      "Iteration 70000/100000, objective = 0.031172765703073146.\n",
      "Iteration 75000/100000, objective = 0.02915420629986798.\n",
      "Iteration 80000/100000, objective = 0.027382962414542966.\n",
      "Iteration 85000/100000, objective = 0.02581606984776652.\n",
      "Iteration 90000/100000, objective = 0.024419988124662062.\n",
      "Iteration 95000/100000, objective = 0.02316814830816938.\n",
      "Iteration 100000/100000, objective = 0.022039229212158062.\n",
      "Iteration completed after 100000/100000, objective = 0.022039229212158062.\n"
     ]
    }
   ],
   "source": [
    "initial_weight_matrix = np.zeros((data_matrix.shape[1], outputs.shape[1]))\n",
    "optimal_weight_matrix, objective_values = gradient_descent(objective, gradient, initial_weight_matrix, \\\n",
    "                                    step_size=1.9/(np.linalg.norm(data_matrix, 2) ** 2), \\\n",
    "                                    no_of_iterations=100000, print_output=5000)"
   ]
  },
  {
   "cell_type": "markdown",
   "metadata": {
    "deletable": false,
    "editable": false,
    "nbgrader": {
     "cell_type": "markdown",
     "checksum": "e5a8d433e17eb215eab8b141e3fa48bd",
     "grade": false,
     "grade_id": "cell-b7bf0daf68390bac",
     "locked": true,
     "schema_version": 3,
     "solution": false,
     "task": false
    }
   },
   "source": [
    "Write a function **multinomial_prediction_function** that turns your predicitons into labels. The function takes the arguments _data_matrix_ and _weight_matrix_ as inputs and returns a vector of labels with values in $\\{0, K - 1 \\}$ as its output."
   ]
  },
  {
   "cell_type": "code",
   "execution_count": 18,
   "metadata": {
    "deletable": false,
    "nbgrader": {
     "cell_type": "code",
     "checksum": "e824634474ea1ee537d80abc1bd092cd",
     "grade": false,
     "grade_id": "cell-2da6bb5a7e17ea5e",
     "locked": false,
     "schema_version": 3,
     "solution": true,
     "task": false
    }
   },
   "outputs": [],
   "source": [
    "def multinomial_prediction_function(data_matrix, weight_matrix):\n",
    "    k = weight_matrix.shape[1]\n",
    "    matrix = logistic_function(data_matrix@weight_matrix)\n",
    "    ohv_matrix = (matrix == matrix.max(axis=1,keepdims = 1)).astype(float)\n",
    "    prediction = ohv_matrix @ np.array(np.arange(0,k))\n",
    "    return prediction"
   ]
  },
  {
   "cell_type": "markdown",
   "metadata": {
    "deletable": false,
    "editable": false,
    "nbgrader": {
     "cell_type": "markdown",
     "checksum": "4550fa0d0fcc9f5244cf0ca66c5bf8a5",
     "grade": false,
     "grade_id": "cell-9036bda8b3b0ced4",
     "locked": true,
     "schema_version": 3,
     "solution": false,
     "task": false
    }
   },
   "source": [
    "The correct classification accuracy is awarded **4 marks**. The total number of possible marks in this section is **8 marks**."
   ]
  },
  {
   "cell_type": "code",
   "execution_count": 69,
   "metadata": {
    "deletable": false,
    "editable": false,
    "nbgrader": {
     "cell_type": "code",
     "checksum": "bbf3d6b935f497fab4bd93eeea119319",
     "grade": true,
     "grade_id": "cell-49fe4e66273baf80",
     "locked": true,
     "points": 4,
     "schema_version": 3,
     "solution": false,
     "task": false
    }
   },
   "outputs": [
    {
     "name": "stdout",
     "output_type": "stream",
     "text": [
      "The classification accuracy for the wine training set is 100.0 %.\n"
     ]
    }
   ],
   "source": [
    "print(\"The classification accuracy for the wine training set is {p} %.\".format(p = 100 * \\\n",
    "        classification_accuracy(labels, multinomial_prediction_function(data_matrix, optimal_weight_matrix))))"
   ]
  },
  {
   "cell_type": "markdown",
   "metadata": {
    "deletable": false,
    "editable": false,
    "nbgrader": {
     "cell_type": "markdown",
     "checksum": "ba0705811c857f5094055fbd9f385917",
     "grade": false,
     "grade_id": "cell-45dcd721e2869a9a",
     "locked": true,
     "schema_version": 3,
     "solution": false,
     "task": false
    }
   },
   "source": [
    "## Ridge logistic regression\n",
    "\n",
    "For the next part, modify the multinomial logistic regression problem to include a squared Frobenius norm of the weights as a regularisation term, similar to ridge regression where we added a multiple of the squared Euclidean norm of the weights to the mean squared error. Write two functions **ridge_logistic_regression_cost_function** and **ridge_logistic_regression_gradient** that take the arguments _data_matrix_, _weight_matrix_, _one_hot_vector_encodings_ and _regularisation_parameter_ as inputs. The function **ridge_logistic_regression_cost_function** returns the evulation of the multinomial logistic regression cost function with its linear model being determined by the polynomial basis matrix _data_matrix_ and the weight matrix _weight_matrix_, plus _regularisation_parameter_ times the squared Frobenius norm of _weight_matrix_ divided by two. The function **ridge_logistic_regression_gradient** is supposed to compute the corresponding gradient."
   ]
  },
  {
   "cell_type": "code",
   "execution_count": 19,
   "metadata": {
    "deletable": false,
    "nbgrader": {
     "cell_type": "code",
     "checksum": "acdbb33c938f33ee566b9dee3262d846",
     "grade": false,
     "grade_id": "cell-abadca310df6699f",
     "locked": false,
     "schema_version": 3,
     "solution": true,
     "task": false
    }
   },
   "outputs": [],
   "source": [
    "def ridge_logistic_regression_cost_function(data_matrix, weight_matrix, one_hot_vector_encodings, \\\n",
    "                                            regularisation_parameter):\n",
    "    ridge_term = (regularisation_parameter/2) * (np.linalg.norm(weight_matrix)**2)\n",
    "    return multinomial_logistic_regression_cost_function(data_matrix, weight_matrix, one_hot_vector_encodings) + ridge_term\n",
    "    \n",
    "    \n",
    "    \n",
    "def ridge_logistic_regression_gradient(data_matrix, weight_matrix, one_hot_vector_encodings, \\\n",
    "                                       regularisation_parameter):\n",
    "    ridge_term = regularisation_parameter * weight_matrix\n",
    "    return multinomial_logistic_regression_gradient(data_matrix,weight_matrix,one_hot_vector_encodings) + ridge_term \n"
   ]
  },
  {
   "cell_type": "markdown",
   "metadata": {
    "deletable": false,
    "editable": false,
    "nbgrader": {
     "cell_type": "markdown",
     "checksum": "c0996e4e5192b31e3a4934a13a883b09",
     "grade": false,
     "grade_id": "cell-1af3c4a5f531e2fa",
     "locked": true,
     "schema_version": 3,
     "solution": false,
     "task": false
    }
   },
   "source": [
    "Set your regularisation parameter _regularisation_parameter_ to the value 15 and define an objective function _objective_ as well as a gradient function _gradient_, both with argument _weight_matrix_, for fixed _data_matrix_ and _outputs_ as from the wine dataset that you have used before."
   ]
  },
  {
   "cell_type": "code",
   "execution_count": 20,
   "metadata": {
    "deletable": false,
    "nbgrader": {
     "cell_type": "code",
     "checksum": "f40622d6042d8793ce03206d450ee648",
     "grade": false,
     "grade_id": "cell-3f1796626df02a88",
     "locked": false,
     "schema_version": 3,
     "solution": true,
     "task": false
    }
   },
   "outputs": [],
   "source": [
    "# YOUR CODE HERE\n",
    "regularisation_parameter = 15\n",
    "objective = lambda weight_matrix: ridge_logistic_regression_cost_function(data_matrix, weight_matrix, outputs,regularisation_parameter) \n",
    "gradient = lambda weight_matrix: ridge_logistic_regression_gradient(data_matrix, weight_matrix, outputs,regularisation_parameter)\n"
   ]
  },
  {
   "cell_type": "markdown",
   "metadata": {
    "deletable": false,
    "editable": false,
    "nbgrader": {
     "cell_type": "markdown",
     "checksum": "8d13bd2ced951479730e1afad72283eb",
     "grade": false,
     "grade_id": "cell-a0c298f30e585bd6",
     "locked": true,
     "schema_version": 3,
     "solution": false,
     "task": false
    }
   },
   "source": [
    "Test your solution with the following cell."
   ]
  },
  {
   "cell_type": "code",
   "execution_count": 21,
   "metadata": {
    "deletable": false,
    "editable": false,
    "nbgrader": {
     "cell_type": "code",
     "checksum": "4d5eec1441b9057a16855a9953bfe215",
     "grade": false,
     "grade_id": "cell-4ac1dd08e2ba7c80",
     "locked": true,
     "schema_version": 3,
     "solution": false,
     "task": false
    }
   },
   "outputs": [
    {
     "name": "stdout",
     "output_type": "stream",
     "text": [
      "Iteration 10/100, objective = 50.66582189248284.\n",
      "Iteration 20/100, objective = 48.11155251656332.\n",
      "Iteration 30/100, objective = 47.821933497251294.\n",
      "Iteration 40/100, objective = 47.766837844563554.\n",
      "Iteration 50/100, objective = 47.7524214796791.\n",
      "Iteration 60/100, objective = 47.747879295725696.\n",
      "Iteration 70/100, objective = 47.7462923106324.\n",
      "Iteration 80/100, objective = 47.74570110157326.\n",
      "Iteration 90/100, objective = 47.745470493345195.\n",
      "Iteration 100/100, objective = 47.745377257110924.\n",
      "Iteration completed after 100/100, objective = 47.745377257110924.\n"
     ]
    }
   ],
   "source": [
    "initial_weight_matrix = np.zeros((data_matrix.shape[1], outputs.shape[1]))\n",
    "ridge_weight_matrix, ridge_objective_values = gradient_descent(objective, gradient, initial_weight_matrix, \\\n",
    "                                    step_size=1.9/np.linalg.norm(data_matrix.T @ data_matrix + \\\n",
    "                                    regularisation_parameter * np.eye(data_matrix.shape[1]), 2), \\\n",
    "                                    no_of_iterations=100, print_output=10)"
   ]
  },
  {
   "cell_type": "markdown",
   "metadata": {
    "deletable": false,
    "editable": false,
    "nbgrader": {
     "cell_type": "markdown",
     "checksum": "2920f8564006d977e1d1f3cc19c46989",
     "grade": false,
     "grade_id": "cell-ad40701d626892d4",
     "locked": true,
     "schema_version": 3,
     "solution": false,
     "task": false
    }
   },
   "source": [
    "The correct classification accuracy is awarded **4 marks**, which is also the total number of possible points in this section."
   ]
  },
  {
   "cell_type": "code",
   "execution_count": 22,
   "metadata": {
    "deletable": false,
    "editable": false,
    "nbgrader": {
     "cell_type": "code",
     "checksum": "a093e26a90163695684c1f98e8cfd645",
     "grade": true,
     "grade_id": "cell-3d84066ed6f97945",
     "locked": true,
     "points": 4,
     "schema_version": 3,
     "solution": false,
     "task": false
    }
   },
   "outputs": [
    {
     "name": "stdout",
     "output_type": "stream",
     "text": [
      "The ridge regression classification accuracy with regularisation parameter 15 for the wine training set is 99.43820224719101 %.\n"
     ]
    }
   ],
   "source": [
    "print(\"The ridge regression classification accuracy with regularisation parameter {a}\".format(a = \\\n",
    "       regularisation_parameter), \"for the wine training set is {p} %.\".format(p = 100 * \\\n",
    "        classification_accuracy(labels, multinomial_prediction_function(data_matrix, ridge_weight_matrix))))"
   ]
  },
  {
   "cell_type": "markdown",
   "metadata": {
    "deletable": false,
    "editable": false,
    "nbgrader": {
     "cell_type": "markdown",
     "checksum": "3e59581e2eed10dab4a2d0ca63e5e67d",
     "grade": false,
     "grade_id": "cell-681ea7611e1b8d47",
     "locked": true,
     "schema_version": 3,
     "solution": false,
     "task": false
    }
   },
   "source": [
    "## LASSO-type logistic regression\n",
    "\n",
    "As a final exercise before you are left to continue with the main part of your project of classifying handwritten digits, implement a modification of the multinomial logistic regression problem that contains a positive multiple of the one-norm of the weight matrix as regularisation term, and approximate a solution numerically with the proximal gradient descent method as introduced in the lectures. You can make use of computational solutions for coursework 9.\n",
    "\n",
    "Begin by completing the following three functions. The function **soft_thresholding** takes the two arguments _argument_ and _threshold_ and returns the solution of the soft-thresholding operation applied to _argument_ with threshold _threshold_. \n",
    "\n",
    "The function **lasso_logistic_regression_cost_function** is supposed to implement the multinomial logistic regression loss with additional one-norm regularisation for polynomial basis matrix _data_matrix_, weight matrix _weight_matrix_, the one hot vector encoding output _one_hot_vector_encodings_ and the regularisation parameter _regularisation_parameter_.\n",
    "\n",
    "The function **proximal_gradient_descent** takes the same arguments as the function **gradient_descent**, with additional argument _proximal_map_ in order to specify the proximal map to be used. "
   ]
  },
  {
   "cell_type": "code",
   "execution_count": 23,
   "metadata": {
    "deletable": false,
    "nbgrader": {
     "cell_type": "code",
     "checksum": "bdab43cdab7db63c950b7d0a6c06e564",
     "grade": false,
     "grade_id": "cell-b2608195afc72125",
     "locked": false,
     "schema_version": 3,
     "solution": true,
     "task": false
    }
   },
   "outputs": [],
   "source": [
    "def soft_thresholding(argument, threshold):\n",
    "    return np.sign(argument) * np.maximum(0, np.abs(argument) - threshold)\n",
    "    \n",
    "def lasso_logistic_regression_cost_function(data_matrix, weight_matrix, one_hot_vector_encodings, \\\n",
    "                                       regularisation_parameter):\n",
    "    lasso_term = regularisation_parameter * np.linalg.norm(weight_matrix,1)\n",
    "    return multinomial_logistic_regression_cost_function(data_matrix, weight_matrix, one_hot_vector_encodings) + lasso_term\n",
    "    \n",
    "def proximal_gradient_descent(objective, gradient, proximal_map, initial_weights, step_size=1, \\\n",
    "                              no_of_iterations=100, print_output=100):\n",
    "    objective_values = []\n",
    "    weights = initial_weights    \n",
    "    objective_values.append(objective(weights))\n",
    "    for counter in range(no_of_iterations):\n",
    "        weights = proximal_map(weights - step_size * gradient(weights))\n",
    "        objective_values.append(objective(weights))\n",
    "        if (counter + 1) % print_output == 0:\n",
    "            print(\"Iteration {k}/{m}, objective = {o}.\".format(k=counter+1, \\\n",
    "                    m=no_of_iterations, o=objective_values[counter]))\n",
    "    print(\"Iteration completed after {k}/{m}, objective = {o}.\".format(k=counter + 1, \\\n",
    "                m=no_of_iterations, o=objective_values[counter]))\n",
    "    return weights, objective_values"
   ]
  },
  {
   "cell_type": "markdown",
   "metadata": {
    "deletable": false,
    "editable": false,
    "nbgrader": {
     "cell_type": "markdown",
     "checksum": "2bfbe1872c304938510aeafc7fa10c25",
     "grade": false,
     "grade_id": "cell-e3ac148e879c476f",
     "locked": true,
     "schema_version": 3,
     "solution": false,
     "task": false
    }
   },
   "source": [
    "In the next cell, define a suitable objective function _objective_ and a suitable gradient function _gradient_, both with argument _weight_matrix_ and fixed _data_matrix_ and _outputs_ from the wine dataset that you have used before, as well as a suitable proximal map function _proximal_map_ with correctly chosen threshold."
   ]
  },
  {
   "cell_type": "code",
   "execution_count": 24,
   "metadata": {
    "deletable": false,
    "nbgrader": {
     "cell_type": "code",
     "checksum": "5af740fe918364e9026fad9423073f3d",
     "grade": false,
     "grade_id": "cell-3afeb025acbc0916",
     "locked": false,
     "schema_version": 3,
     "solution": true,
     "task": false
    }
   },
   "outputs": [],
   "source": [
    "regularisation_parameter = 0.5\n",
    "step_size = 1.9/(np.linalg.norm(data_matrix, 2) ** 2)\n",
    "# YOUR CODE HERE\n",
    "\n",
    "objective = lambda weight_matrix: lasso_logistic_regression_cost_function(data_matrix, weight_matrix, outputs, \\\n",
    "                                       regularisation_parameter)\n",
    "gradient = lambda weight_matrix: multinomial_logistic_regression_gradient(data_matrix, weight_matrix, outputs)\n",
    "\n",
    "proximal_map = lambda weights: soft_thresholding(weights, regularisation_parameter * \\\n",
    "                                                 step_size)"
   ]
  },
  {
   "cell_type": "markdown",
   "metadata": {
    "deletable": false,
    "editable": false,
    "nbgrader": {
     "cell_type": "markdown",
     "checksum": "8da58316078974a165e9e3fd00369e62",
     "grade": false,
     "grade_id": "cell-59e703fdde6e42f7",
     "locked": true,
     "schema_version": 3,
     "solution": false,
     "task": false
    }
   },
   "source": [
    "Test your solution with the following cell."
   ]
  },
  {
   "cell_type": "code",
   "execution_count": 76,
   "metadata": {
    "deletable": false,
    "editable": false,
    "nbgrader": {
     "cell_type": "code",
     "checksum": "998771495b551e63b22c8b1980b179c9",
     "grade": false,
     "grade_id": "cell-33117d62e5699048",
     "locked": true,
     "schema_version": 3,
     "solution": false,
     "task": false
    }
   },
   "outputs": [
    {
     "name": "stdout",
     "output_type": "stream",
     "text": [
      "Iteration 1000/10000, objective = 8.24959786201634.\n",
      "Iteration 2000/10000, objective = 8.263886291899661.\n",
      "Iteration 3000/10000, objective = 8.320757757764321.\n",
      "Iteration 4000/10000, objective = 8.354235362086085.\n",
      "Iteration 5000/10000, objective = 8.374118326110752.\n",
      "Iteration 6000/10000, objective = 8.385347232389174.\n",
      "Iteration 7000/10000, objective = 8.392015832216455.\n",
      "Iteration 8000/10000, objective = 8.396214878066097.\n",
      "Iteration 9000/10000, objective = 8.399020949261885.\n",
      "Iteration 10000/10000, objective = 8.40100378273745.\n",
      "Iteration completed after 10000/10000, objective = 8.40100378273745.\n"
     ]
    }
   ],
   "source": [
    "initial_weight_matrix = np.zeros((data_matrix.shape[1], outputs.shape[1]))\n",
    "lasso_weight_matrix, lasso_objective_values = proximal_gradient_descent(objective, gradient, proximal_map, \\\n",
    "                                                initial_weight_matrix, step_size, no_of_iterations=10000, \\\n",
    "                                                print_output=1000)"
   ]
  },
  {
   "cell_type": "markdown",
   "metadata": {
    "deletable": false,
    "editable": false,
    "nbgrader": {
     "cell_type": "markdown",
     "checksum": "8e56343b5f34fafa2ed80f9b572b528f",
     "grade": false,
     "grade_id": "cell-69a32c9f26d37f47",
     "locked": true,
     "schema_version": 3,
     "solution": false,
     "task": false
    }
   },
   "source": [
    "The correct classification accuracy is awarded **5 marks**, which is also the total number of points available in this section."
   ]
  },
  {
   "cell_type": "code",
   "execution_count": 77,
   "metadata": {
    "deletable": false,
    "editable": false,
    "nbgrader": {
     "cell_type": "code",
     "checksum": "d0f049b162367cd9d765fb16be5a693e",
     "grade": true,
     "grade_id": "cell-4cd3a07610421486",
     "locked": true,
     "points": 5,
     "schema_version": 3,
     "solution": false,
     "task": false
    }
   },
   "outputs": [
    {
     "name": "stdout",
     "output_type": "stream",
     "text": [
      "The lasso classification accuracy with regularisation parameter 0.5 for the wine training set is 100.0 %.\n"
     ]
    }
   ],
   "source": [
    "print(\"The lasso classification accuracy with regularisation parameter {a}\".format(a = \\\n",
    "       regularisation_parameter), \"for the wine training set is {p} %.\".format(p = 100 * \\\n",
    "        classification_accuracy(labels, multinomial_prediction_function(data_matrix, lasso_weight_matrix))))"
   ]
  },
  {
   "cell_type": "markdown",
   "metadata": {
    "deletable": false,
    "editable": false,
    "nbgrader": {
     "cell_type": "markdown",
     "checksum": "f6ffccf3240508413da555b379ba46e8",
     "grade": false,
     "grade_id": "cell-cf4145537166f52b",
     "locked": true,
     "schema_version": 3,
     "solution": false,
     "task": false
    }
   },
   "source": [
    "## MNIST free-style\n",
    "\n",
    "This completes the first part of the assessment. From now on, you can use all concepts that you have learned throughout this module in order to obtain a classifier that can determine which digit is seen in a $28 \\times 28$ pixel picture. While you are allowed to use different libraries for visualisation purposes, you can only use NumPy to program your classifier; tools from libraries such as SciPy are not allowed. Please note that your classfier will be tested and compared with classifiers from other students. Experimenting with differnt model approaches, regularisation models & parameters and hyperparameter-tuning strategies such cross validation is therefore highly recommended.\n",
    "\n",
    "We begin by loading the MNIST training set that is taken from this [source](http://yann.lecun.com/exdb/mnist/):"
   ]
  },
  {
   "cell_type": "code",
   "execution_count": 3,
   "metadata": {
    "deletable": false,
    "editable": false,
    "nbgrader": {
     "cell_type": "code",
     "checksum": "6f85db745293111420d8bafb5f6dcc87",
     "grade": false,
     "grade_id": "cell-7b42fe502f206f1c",
     "locked": true,
     "schema_version": 3,
     "solution": false,
     "task": false
    }
   },
   "outputs": [
    {
     "name": "stdout",
     "output_type": "stream",
     "text": [
      "The MNIST training set contains 60000 images with 784 pixels each.\n"
     ]
    },
    {
     "data": {
      "image/png": "[encoded data removed]",
      "text/plain": [
       "<Figure size 432x288 with 1 Axes>"
      ]
     },
     "metadata": {
      "needs_background": "light"
     },
     "output_type": "display_data"
    }
   ],
   "source": [
    "from data_loader import load_mnist\n",
    "images, labels = load_mnist('')\n",
    "print(\"The MNIST training set contains {s} images with {p} pixels each.\".format(s = images.shape[0], \\\n",
    "        p = images.shape[1]))\n",
    "plt.imshow(images[13,:].reshape(28, 28))\n",
    "plt.title(\"This is the 13th image of the MNIST training set. The corresponding label is {l}\".format( \\\n",
    "            l=labels[13]))\n",
    "plt.tight_layout;"
   ]
  },
  {
   "cell_type": "markdown",
   "metadata": {},
   "source": [
    "Standardising the images "
   ]
  },
  {
   "cell_type": "code",
   "execution_count": 21,
   "metadata": {},
   "outputs": [],
   "source": [
    "def standardise_mnist(data_matrix):\n",
    "    datamatrix_copy = np.copy(data_matrix)\n",
    "    \n",
    "    row_of_means = np.mean(datamatrix_copy,axis = 0)\n",
    "    standardised_matrix = datamatrix_copy - row_of_means\n",
    "   \n",
    "    Array = np.copy(standardised_matrix)\n",
    "    \n",
    "    for col in range(datamatrix_copy.shape[1]):\n",
    "        if np.std(standardised_matrix[:,col]) == 0:\n",
    "            Array[:,col] = standardised_matrix[:,col]/1\n",
    "        else:\n",
    "            Array[:,col] = standardised_matrix[:,col]/\\\n",
    "                                                    np.std(standardised_matrix[:,col])\n",
    "    \n",
    "  \n",
    "    return Array"
   ]
  },
  {
   "cell_type": "code",
   "execution_count": 46,
   "metadata": {},
   "outputs": [],
   "source": [
    "Array = standardise_mnist(images)\n",
    "images_copy = np.copy(images)\n",
    "b = np.std(images,axis = 0)\n",
    "a = np.mean(images,axis = 0)\n",
    "index = (b==0)\n",
    "b[index] = 1\n",
    "c = images_copy - a\n",
    "d = c/b\n"
   ]
  },
  {
   "cell_type": "code",
   "execution_count": 56,
   "metadata": {},
   "outputs": [
    {
     "data": {
      "text/plain": [
       "(244.94693302873063, 244.94693302836035)"
      ]
     },
     "execution_count": 56,
     "metadata": {},
     "output_type": "execute_result"
    }
   ],
   "source": []
  },
  {
   "cell_type": "code",
   "execution_count": 35,
   "metadata": {},
   "outputs": [],
   "source": [
    "test_matrix = np.array([[1, 2], [3, 4], [5, 6]])\n",
    "assert_array_almost_equal(standardise_mnist(test_matrix), np.array([[-1.22474487, -1.22474487], \\\n",
    "                            [0, 0],[1.22474487, 1.22474487]]))"
   ]
  },
  {
   "cell_type": "code",
   "execution_count": 8,
   "metadata": {},
   "outputs": [
    {
     "data": {
      "text/plain": [
       "255"
      ]
     },
     "execution_count": 8,
     "metadata": {},
     "output_type": "execute_result"
    }
   ],
   "source": [
    "images.max()"
   ]
  },
  {
   "cell_type": "markdown",
   "metadata": {
    "deletable": false,
    "editable": false,
    "nbgrader": {
     "cell_type": "markdown",
     "checksum": "2531ffc9734a56b76172c7b9cb54c990",
     "grade": false,
     "grade_id": "cell-60965515b3dfb67b",
     "locked": true,
     "schema_version": 3,
     "solution": false,
     "task": false
    }
   },
   "source": [
    "Use the following space to write your codes. It should be possible to reproduce results that are shown in your report with the codes that are described here. You can outsource functions into separate files if you find that this tidies up your notebook. Any additional libraries that you want to use (e.g. for visualisations etc.) can be loaded here."
   ]
  },
  {
   "cell_type": "code",
   "execution_count": null,
   "metadata": {
    "deletable": false,
    "editable": false,
    "nbgrader": {
     "cell_type": "code",
     "checksum": "ee2bf797183742fb3d2ae82b79a82e18",
     "grade": false,
     "grade_id": "cell-a57ec7bc4606613e",
     "locked": true,
     "schema_version": 3,
     "solution": false,
     "task": false
    }
   },
   "outputs": [],
   "source": [
    "# Your codes here. Please feel free to create more cells etc."
   ]
  },
  {
   "cell_type": "markdown",
   "metadata": {},
   "source": [
    "##### REMEMBER\n",
    "s = 60000\n",
    "j = 784 + 1\n",
    "k = 10\n",
    "\n",
    "data_matrix = s x j\n",
    "\n",
    "weight_matrix =  j x k\n",
    "\n",
    "labels = s x k"
   ]
  },
  {
   "cell_type": "markdown",
   "metadata": {},
   "source": [
    "## Preparing the Data"
   ]
  },
  {
   "cell_type": "code",
   "execution_count": 26,
   "metadata": {},
   "outputs": [],
   "source": [
    "#-------------------------- CREATING NEW VARIABLES FROM THE DATA -----------------------------------------\n",
    "\n",
    "mnist_inputs = images\n",
    "mnist_outputs = labels\n"
   ]
  },
  {
   "cell_type": "markdown",
   "metadata": {},
   "source": [
    "## Data Partitioning (Training/Test/Validation)"
   ]
  },
  {
   "cell_type": "markdown",
   "metadata": {},
   "source": [
    "This creates a partition of the data. 20% will be used for validation, whilst the other 80% will be used for training and testing."
   ]
  },
  {
   "cell_type": "code",
   "execution_count": 66,
   "metadata": {},
   "outputs": [],
   "source": [
    "def Data_Partition(dataset,labels,split = 0.20):\n",
    "    dataset_copy = list(dataset)\n",
    "    labels_copy = list(labels)\n",
    "    val_data = []\n",
    "    val_labels = []\n",
    "    validation_set_size = split * len(dataset_copy)\n",
    "    while len(val_data) < validation_set_size:\n",
    "        index = np.random.randint(len(dataset_copy))\n",
    "        val_data.append(dataset_copy.pop(index))\n",
    "        val_labels.append(labels_copy.pop(index))\n",
    "    train_test_data = dataset_copy\n",
    "    train_test_labels = labels_copy\n",
    "    \n",
    "    return np.array(val_data), np.array(val_labels), np.array(train_test_data), np.array(train_test_labels)"
   ]
  },
  {
   "cell_type": "code",
   "execution_count": 67,
   "metadata": {},
   "outputs": [],
   "source": [
    "val_data, val_labels, train_test_data, train_test_labels = Data_Partition(mnist_inputs, mnist_outputs)"
   ]
  },
  {
   "cell_type": "code",
   "execution_count": 107,
   "metadata": {},
   "outputs": [
    {
     "name": "stdout",
     "output_type": "stream",
     "text": [
      "Stored 'val_data' (ndarray)\n"
     ]
    }
   ],
   "source": [
    "%store val_data"
   ]
  },
  {
   "cell_type": "code",
   "execution_count": 108,
   "metadata": {},
   "outputs": [
    {
     "name": "stdout",
     "output_type": "stream",
     "text": [
      "Stored 'val_labels' (ndarray)\n"
     ]
    }
   ],
   "source": [
    "%store val_labels"
   ]
  },
  {
   "cell_type": "code",
   "execution_count": 109,
   "metadata": {},
   "outputs": [
    {
     "name": "stdout",
     "output_type": "stream",
     "text": [
      "Stored 'train_test_data' (ndarray)\n"
     ]
    }
   ],
   "source": [
    "%store train_test_data"
   ]
  },
  {
   "cell_type": "code",
   "execution_count": 110,
   "metadata": {},
   "outputs": [
    {
     "name": "stdout",
     "output_type": "stream",
     "text": [
      "Stored 'train_test_labels' (ndarray)\n"
     ]
    }
   ],
   "source": [
    "%store train_test_labels"
   ]
  },
  {
   "cell_type": "markdown",
   "metadata": {},
   "source": [
    "### Validation Set"
   ]
  },
  {
   "cell_type": "code",
   "execution_count": 68,
   "metadata": {},
   "outputs": [],
   "source": [
    "val_data,val_labels\n",
    "\n",
    "#--------------------------------- CREATING POLYNOMIAL BASIS AND ONE HOT ENCODINGS MATRICES -------------\n",
    "\n",
    "val_data_matrix = polynomial_basis(val_data,degree = 1)"
   ]
  },
  {
   "cell_type": "markdown",
   "metadata": {},
   "source": [
    "### Training/Testing Set"
   ]
  },
  {
   "cell_type": "code",
   "execution_count": 31,
   "metadata": {},
   "outputs": [],
   "source": [
    "train_test_data, train_test_labels\n",
    "\n",
    "#--------------------------------- CREATING POLYNOMIAL BASIS AND ONE HOT ENCODINGS MATRICES -------------\n",
    "\n",
    "train_test_data_matrix = polynomial_basis(train_test_data, degree = 1)\n",
    "train_test_ohv = one_hot_vector_encoding(train_test_labels)"
   ]
  },
  {
   "cell_type": "markdown",
   "metadata": {},
   "source": [
    "## Ridge Logistic Regression"
   ]
  },
  {
   "cell_type": "markdown",
   "metadata": {},
   "source": [
    "The following code block only uses the training and testing data sets as defined above"
   ]
  },
  {
   "cell_type": "code",
   "execution_count": 36,
   "metadata": {},
   "outputs": [],
   "source": [
    "def gradient_descent_mnist(objective, gradient, initial_weights, step_size=1, no_of_iterations=100, print_output=100):\n",
    "    objective_values = []\n",
    "    weights = np.copy(initial_weights)\n",
    "    objective_values.append(objective(weights))\n",
    "    \n",
    "    for counter in range(no_of_iterations):\n",
    "        weights -= step_size * gradient(weights)\n",
    "        objective_values.append(objective(weights))\n",
    "        \n",
    "        if (counter + 1) % print_output == 0:\n",
    "            print(\"Iteration {k}/{m}, objective = {o}.\".format(k=counter+1, \\\n",
    "                    m=no_of_iterations, o=objective_values[counter]))\n",
    "            \n",
    "    print(\"Iteration completed after {k}/{m}, objective = {o}.\".format(k=counter + 1, \\\n",
    "                m=no_of_iterations, o=objective_values[counter]))\n",
    "    \n",
    "    return weights"
   ]
  },
  {
   "cell_type": "code",
   "execution_count": 35,
   "metadata": {},
   "outputs": [],
   "source": [
    "def train_test_partition(inputdata,outputdata, prop = 0.7):\n",
    "    train_data = []\n",
    "    train_labels = []\n",
    "\n",
    "    no_training_data = prop * len(inputdata)\n",
    "    inputs = list(inputdata)\n",
    "    outputs = list(outputdata)\n",
    "    while len(train_data) < no_training_data:\n",
    "        indx = np.random.randint(len(inputs))\n",
    "        train_labels.append(outputs.pop(indx))\n",
    "        train_data.append(inputs.pop(indx))\n",
    "    test_data = inputs\n",
    "    test_labels = outputs\n",
    "    return np.array(train_data), np.array(train_labels), np.array(test_data), np.array(test_labels) "
   ]
  },
  {
   "cell_type": "code",
   "execution_count": 45,
   "metadata": {},
   "outputs": [],
   "source": [
    "def multinomial_prediction_function_mnist(data_matrix, weight_matrix):\n",
    "    k = weight_matrix.shape[1]\n",
    "    matrix = logistic_function(data_matrix@weight_matrix)\n",
    "    ohv_matrix = (matrix == matrix.max(axis=1,keepdims = 1)).astype(float)\n",
    "    prediction = ohv_matrix\n",
    "    return prediction"
   ]
  },
  {
   "cell_type": "code",
   "execution_count": 74,
   "metadata": {},
   "outputs": [],
   "source": [
    "def model_validation_ridge(inputdata,outputdata, regularisation_parameters, iterations = 1000):\n",
    "\n",
    "    \n",
    "#----------------------------- TEST RESULTS FOR EACH PARAMETER ---------------------------------    \n",
    "    \n",
    "    \n",
    "    parameters = []\n",
    "    classification_accuracies = []\n",
    "    optimal_weight_matrices = []\n",
    "    \n",
    "    \n",
    "#----------------------------- GENERATING TRAINING AND TEST SETS -------------------------------------- \n",
    "\n",
    "\n",
    "    train_data,train_labels,test_data,test_labels = train_test_partition(inputdata,outputdata)\n",
    "    \n",
    "    \n",
    "#---------------------------- TRAINING EACH MODEL WITH THE TRAINING SET -------------------------------    \n",
    "    \n",
    "    \n",
    "    for alpha in regularisation_parameters:\n",
    "        parameters.append(alpha)\n",
    "        \n",
    "        initial_weight_matrix = np.zeros((train_data.shape[1], train_labels.shape[1]))\n",
    "\n",
    "        objective = lambda weight_matrix: ridge_logistic_regression_cost_function(train_data,\\\n",
    "                                                                        weight_matrix, train_labels,alpha) \n",
    "        gradient = lambda weight_matrix: ridge_logistic_regression_gradient(train_data, \\\n",
    "                                                                            weight_matrix, train_labels,alpha)\n",
    "        \n",
    "        optimal_weight_matrix = gradient_descent_mnist(objective, gradient, initial_weight_matrix, \\\n",
    "                                          step_size=1.9/np.linalg.norm(train_data.T @ train_data + \\\n",
    "                                            alpha * np.eye(train_data.shape[1]), 2), \\\n",
    "                                                no_of_iterations= iterations, print_output=10)\n",
    "        \n",
    "        optimal_weight_matrices.append(optimal_weight_matrix)\n",
    "        \n",
    "        \n",
    "#---------------------------- TESTING THE MODEL ON TEST LABELS -------------------------------\n",
    "        \n",
    "    \n",
    "        classifier = classification_accuracy(test_labels@np.arange(0,test_labels.shape[1]), \\\n",
    "                            multinomial_prediction_function(test_data, optimal_weight_matrix))\n",
    "            \n",
    "        classification_accuracies.append(classifier)\n",
    "        \n",
    "    return list(zip(parameters,classification_accuracies)), optimal_weight_matrices[np.argmax(classification_accuracies)]\n",
    "\n",
    "    "
   ]
  },
  {
   "cell_type": "code",
   "execution_count": 87,
   "metadata": {},
   "outputs": [
    {
     "name": "stdout",
     "output_type": "stream",
     "text": [
      "Iteration 10/500, objective = 63551.93753602328.\n",
      "Iteration 20/500, objective = 52896.461126555245.\n",
      "Iteration 30/500, objective = 45550.52706592209.\n",
      "Iteration 40/500, objective = 40352.64182784415.\n",
      "Iteration 50/500, objective = 36542.44850571754.\n",
      "Iteration 60/500, objective = 33650.21299402643.\n",
      "Iteration 70/500, objective = 31385.900698177604.\n",
      "Iteration 80/500, objective = 29566.001262205074.\n",
      "Iteration 90/500, objective = 28070.625800342437.\n",
      "Iteration 100/500, objective = 26818.866642483197.\n",
      "Iteration 110/500, objective = 25754.445049421123.\n",
      "Iteration 120/500, objective = 24837.12948154834.\n",
      "Iteration 130/500, objective = 24037.450807766974.\n",
      "Iteration 140/500, objective = 23333.35144680737.\n",
      "Iteration 150/500, objective = 22708.001445459635.\n",
      "Iteration 160/500, objective = 22148.338482769344.\n",
      "Iteration 170/500, objective = 21644.06889132328.\n",
      "Iteration 180/500, objective = 21186.96949852916.\n",
      "Iteration 190/500, objective = 20770.3902086737.\n",
      "Iteration 200/500, objective = 20388.893330383078.\n",
      "Iteration 210/500, objective = 20037.987834359887.\n",
      "Iteration 220/500, objective = 19713.930667816745.\n",
      "Iteration 230/500, objective = 19413.576199154537.\n",
      "Iteration 240/500, objective = 19134.260720418137.\n",
      "Iteration 250/500, objective = 18873.712834636324.\n",
      "Iteration 260/500, objective = 18629.983196559737.\n",
      "Iteration 270/500, objective = 18401.388892500752.\n",
      "Iteration 280/500, objective = 18186.469013335663.\n",
      "Iteration 290/500, objective = 17983.94887206499.\n",
      "Iteration 300/500, objective = 17792.71096021123.\n",
      "Iteration 310/500, objective = 17611.771203379667.\n",
      "Iteration 320/500, objective = 17440.259417922345.\n",
      "Iteration 330/500, objective = 17277.403123634733.\n",
      "Iteration 340/500, objective = 17122.514056637578.\n",
      "Iteration 350/500, objective = 16974.97686938209.\n",
      "Iteration 360/500, objective = 16834.239613430676.\n",
      "Iteration 370/500, objective = 16699.805684097897.\n",
      "Iteration 380/500, objective = 16571.22697055115.\n",
      "Iteration 390/500, objective = 16448.09800523719.\n",
      "Iteration 400/500, objective = 16330.050945929597.\n",
      "Iteration 410/500, objective = 16216.751254808598.\n",
      "Iteration 420/500, objective = 16107.893963715767.\n",
      "Iteration 430/500, objective = 16003.200434482642.\n",
      "Iteration 440/500, objective = 15902.415539101607.\n",
      "Iteration 450/500, objective = 15805.305197334204.\n",
      "Iteration 460/500, objective = 15711.654219761027.\n",
      "Iteration 470/500, objective = 15621.26441277006.\n",
      "Iteration 480/500, objective = 15533.952908941403.\n",
      "Iteration 490/500, objective = 15449.55069201366.\n",
      "Iteration 500/500, objective = 15367.90129035607.\n",
      "Iteration completed after 500/500, objective = 15367.90129035607.\n",
      "Iteration 10/500, objective = 63551.93756038191.\n",
      "Iteration 20/500, objective = 52896.46121131338.\n",
      "Iteration 30/500, objective = 45550.52722302122.\n",
      "Iteration 40/500, objective = 40352.64205891542.\n",
      "Iteration 50/500, objective = 36542.44880883241.\n",
      "Iteration 60/500, objective = 33650.21336622433.\n",
      "Iteration 70/500, objective = 31385.901136338623.\n",
      "Iteration 80/500, objective = 29566.001763344237.\n",
      "Iteration 90/500, objective = 28070.62636170046.\n",
      "Iteration 100/500, objective = 26818.86726154052.\n",
      "Iteration 110/500, objective = 25754.44572388361.\n",
      "Iteration 120/500, objective = 24837.13020932661.\n",
      "Iteration 130/500, objective = 24037.451586953855.\n",
      "Iteration 140/500, objective = 23333.35227565514.\n",
      "Iteration 150/500, objective = 22708.00232236293.\n",
      "Iteration 160/500, objective = 22148.33940624695.\n",
      "Iteration 170/500, objective = 21644.069860005806.\n",
      "Iteration 180/500, objective = 21186.970511144224.\n",
      "Iteration 190/500, objective = 20770.39126403745.\n",
      "Iteration 200/500, objective = 20388.894427390038.\n",
      "Iteration 210/500, objective = 20037.988971976196.\n",
      "Iteration 220/500, objective = 19713.931845071085.\n",
      "Iteration 230/500, objective = 19413.577415134718.\n",
      "Iteration 240/500, objective = 19134.261974264162.\n",
      "Iteration 250/500, objective = 18873.71412553584.\n",
      "Iteration 260/500, objective = 18629.98452374458.\n",
      "Iteration 270/500, objective = 18401.39025524314.\n",
      "Iteration 280/500, objective = 18186.47041094455.\n",
      "Iteration 290/500, objective = 17983.9503038836.\n",
      "Iteration 300/500, objective = 17792.712425614438.\n",
      "Iteration 310/500, objective = 17611.772701771562.\n",
      "Iteration 320/500, objective = 17440.26094873353.\n",
      "Iteration 330/500, objective = 17277.40468632192.\n",
      "Iteration 340/500, objective = 17122.515650680096.\n",
      "Iteration 350/500, objective = 16974.9784942815.\n",
      "Iteration 360/500, objective = 16834.241268709146.\n",
      "Iteration 370/500, objective = 16699.807369296832.\n",
      "Iteration 380/500, objective = 16571.228685229617.\n",
      "Iteration 390/500, objective = 16448.099748971606.\n",
      "Iteration 400/500, objective = 16330.052718311972.\n",
      "Iteration 410/500, objective = 16216.753055445377.\n",
      "Iteration 420/500, objective = 16107.895792228333.\n",
      "Iteration 430/500, objective = 16003.202290505405.\n",
      "Iteration 440/500, objective = 15902.417422281438.\n",
      "Iteration 450/500, objective = 15805.307107330264.\n",
      "Iteration 460/500, objective = 15711.65615624328.\n",
      "Iteration 470/500, objective = 15621.266375419193.\n",
      "Iteration 480/500, objective = 15533.95489744873.\n",
      "Iteration 490/500, objective = 15449.55270607977.\n",
      "Iteration 500/500, objective = 15367.90332969103.\n",
      "Iteration completed after 500/500, objective = 15367.90332969103.\n",
      "Iteration 10/500, objective = 63551.937803974535.\n",
      "Iteration 20/500, objective = 52896.462058891135.\n",
      "Iteration 30/500, objective = 45550.528794014164.\n",
      "Iteration 40/500, objective = 40352.6443696238.\n",
      "Iteration 50/500, objective = 36542.45183998166.\n",
      "Iteration 60/500, objective = 33650.217088204365.\n",
      "Iteration 70/500, objective = 31385.90551794559.\n",
      "Iteration 80/500, objective = 29566.006774733574.\n",
      "Iteration 90/500, objective = 28070.631975280696.\n",
      "Iteration 100/500, objective = 26818.873452111733.\n",
      "Iteration 110/500, objective = 25754.45246850733.\n",
      "Iteration 120/500, objective = 24837.137487109812.\n",
      "Iteration 130/500, objective = 24037.459378819745.\n",
      "Iteration 140/500, objective = 23333.360564132494.\n",
      "Iteration 150/500, objective = 22708.01109139433.\n",
      "Iteration 160/500, objective = 22148.348641023942.\n",
      "Iteration 170/500, objective = 21644.079546826964.\n",
      "Iteration 180/500, objective = 21186.980637291912.\n",
      "Iteration 190/500, objective = 20770.401817671987.\n",
      "Iteration 200/500, objective = 20388.905397458897.\n",
      "Iteration 210/500, objective = 20038.00034813419.\n",
      "Iteration 220/500, objective = 19713.943617612906.\n",
      "Iteration 230/500, objective = 19413.589574932845.\n",
      "Iteration 240/500, objective = 19134.274512718413.\n",
      "Iteration 250/500, objective = 18873.727034525535.\n",
      "Iteration 260/500, objective = 18629.997795587937.\n",
      "Iteration 270/500, objective = 18401.403882661118.\n",
      "Iteration 280/500, objective = 18186.484387027984.\n",
      "Iteration 290/500, objective = 17983.964622064603.\n",
      "Iteration 300/500, objective = 17792.72707964017.\n",
      "Iteration 310/500, objective = 17611.78768568181.\n",
      "Iteration 320/500, objective = 17440.276256838806.\n",
      "Iteration 330/500, objective = 17277.420313184266.\n",
      "Iteration 340/500, objective = 17122.53159109687.\n",
      "Iteration 350/500, objective = 16974.994743268122.\n",
      "Iteration 360/500, objective = 16834.257821487063.\n",
      "Iteration 370/500, objective = 16699.824221278264.\n",
      "Iteration 380/500, objective = 16571.245832006953.\n",
      "Iteration 390/500, objective = 16448.11718630588.\n",
      "Iteration 400/500, objective = 16330.070442123162.\n",
      "Iteration 410/500, objective = 16216.771061803345.\n",
      "Iteration 420/500, objective = 16107.914077343608.\n",
      "Iteration 430/500, objective = 16003.220850721864.\n",
      "Iteration 440/500, objective = 15902.436254068982.\n",
      "Iteration 450/500, objective = 15805.326207277636.\n",
      "Iteration 460/500, objective = 15711.675521052182.\n",
      "Iteration 470/500, objective = 15621.286001898874.\n",
      "Iteration 480/500, objective = 15533.974782509267.\n",
      "Iteration 490/500, objective = 15449.572846728444.\n",
      "Iteration 500/500, objective = 15367.923723026906.\n",
      "Iteration completed after 500/500, objective = 15367.923723026906.\n",
      "Iteration 10/500, objective = 63551.964599150255.\n",
      "Iteration 20/500, objective = 52896.55529225505.\n",
      "Iteration 30/500, objective = 45550.70160258847.\n",
      "Iteration 40/500, objective = 40352.89854623441.\n",
      "Iteration 50/500, objective = 36542.785264175465.\n",
      "Iteration 60/500, objective = 33650.62650272878.\n",
      "Iteration 70/500, objective = 31386.387490209403.\n",
      "Iteration 80/500, objective = 29566.558021692737.\n",
      "Iteration 90/500, objective = 28071.249461667092.\n"
     ]
    },
    {
     "name": "stdout",
     "output_type": "stream",
     "text": [
      "Iteration 100/500, objective = 26819.554405804705.\n",
      "Iteration 110/500, objective = 25755.19436611889.\n",
      "Iteration 120/500, objective = 24837.938030247085.\n",
      "Iteration 130/500, objective = 24038.316468996596.\n",
      "Iteration 140/500, objective = 23334.272279319954.\n",
      "Iteration 150/500, objective = 22708.975665154867.\n",
      "Iteration 160/500, objective = 22149.3644443365.\n",
      "Iteration 170/500, objective = 21645.145072402116.\n",
      "Iteration 180/500, objective = 21188.094486071383.\n",
      "Iteration 190/500, objective = 20771.56268719857.\n",
      "Iteration 200/500, objective = 20390.11207183716.\n",
      "Iteration 210/500, objective = 20039.2516893309.\n",
      "Iteration 220/500, objective = 19715.23855789086.\n",
      "Iteration 230/500, objective = 19414.92711024356.\n",
      "Iteration 240/500, objective = 19135.653696907422.\n",
      "Iteration 250/500, objective = 18875.146974230804.\n",
      "Iteration 260/500, objective = 18631.457645731098.\n",
      "Iteration 270/500, objective = 18402.90284244492.\n",
      "Iteration 280/500, objective = 18188.02169637512.\n",
      "Iteration 290/500, objective = 17985.53955843431.\n",
      "Iteration 300/500, objective = 17794.33895517546.\n",
      "Iteration 310/500, objective = 17613.43584464375.\n",
      "Iteration 320/500, objective = 17441.96007329441.\n",
      "Iteration 330/500, objective = 17279.13918891405.\n",
      "Iteration 340/500, objective = 17124.284953700066.\n",
      "Iteration 350/500, objective = 16976.782044438794.\n",
      "Iteration 360/500, objective = 16836.078535443507.\n",
      "Iteration 370/500, objective = 16701.67784333083.\n",
      "Iteration 380/500, objective = 16573.131877245425.\n",
      "Iteration 390/500, objective = 16450.035188397556.\n",
      "Iteration 400/500, objective = 16332.019952207496.\n",
      "Iteration 410/500, objective = 16218.751647475307.\n",
      "Iteration 420/500, objective = 16109.92532171546.\n",
      "Iteration 430/500, objective = 16005.262351557762.\n",
      "Iteration 440/500, objective = 15904.507622982828.\n",
      "Iteration 450/500, objective = 15807.427068990615.\n",
      "Iteration 460/500, objective = 15713.80551270437.\n",
      "Iteration 470/500, objective = 15623.444772407189.\n",
      "Iteration 480/500, objective = 15536.161991973164.\n",
      "Iteration 490/500, objective = 15451.788165872653.\n",
      "Iteration 500/500, objective = 15370.166832683642.\n",
      "Iteration completed after 500/500, objective = 15370.166832683642.\n"
     ]
    }
   ],
   "source": [
    "alpha_accuracy, optimal_weight_matrix = model_validation(train_test_data_matrix, \\\n",
    "                                                     train_test_ohv,[1,10,100,10000], \\\n",
    "                                                         iterations = 500)\n"
   ]
  },
  {
   "cell_type": "code",
   "execution_count": 88,
   "metadata": {},
   "outputs": [
    {
     "data": {
      "text/plain": [
       "([(1, 0.8749305555555555),\n",
       "  (10, 0.8749305555555555),\n",
       "  (100, 0.8749305555555555),\n",
       "  (10000, 0.8749305555555555)],\n",
       " array([[-1.18854701e-06,  2.58822513e-06, -6.20498905e-07, ...,\n",
       "          1.61309336e-06, -3.67999745e-06, -5.74995264e-07],\n",
       "        [ 0.00000000e+00,  0.00000000e+00,  0.00000000e+00, ...,\n",
       "          0.00000000e+00,  0.00000000e+00,  0.00000000e+00],\n",
       "        [ 0.00000000e+00,  0.00000000e+00,  0.00000000e+00, ...,\n",
       "          0.00000000e+00,  0.00000000e+00,  0.00000000e+00],\n",
       "        ...,\n",
       "        [ 0.00000000e+00,  0.00000000e+00,  0.00000000e+00, ...,\n",
       "          0.00000000e+00,  0.00000000e+00,  0.00000000e+00],\n",
       "        [ 0.00000000e+00,  0.00000000e+00,  0.00000000e+00, ...,\n",
       "          0.00000000e+00,  0.00000000e+00,  0.00000000e+00],\n",
       "        [ 0.00000000e+00,  0.00000000e+00,  0.00000000e+00, ...,\n",
       "          0.00000000e+00,  0.00000000e+00,  0.00000000e+00]]))"
      ]
     },
     "execution_count": 88,
     "metadata": {},
     "output_type": "execute_result"
    }
   ],
   "source": [
    "alpha_accuracy,optimal_weight_matrix"
   ]
  },
  {
   "cell_type": "code",
   "execution_count": 89,
   "metadata": {},
   "outputs": [
    {
     "name": "stdout",
     "output_type": "stream",
     "text": [
      "Stored 'alpha_accuracy' (list)\n"
     ]
    }
   ],
   "source": [
    "%store alpha_accuracy"
   ]
  },
  {
   "cell_type": "code",
   "execution_count": 90,
   "metadata": {},
   "outputs": [
    {
     "name": "stdout",
     "output_type": "stream",
     "text": [
      "Stored 'optimal_weight_matrix' (ndarray)\n"
     ]
    }
   ],
   "source": [
    "%store optimal_weight_matrix"
   ]
  },
  {
   "cell_type": "markdown",
   "metadata": {},
   "source": [
    "### Testing Model on the Validation Set"
   ]
  },
  {
   "cell_type": "markdown",
   "metadata": {},
   "source": [
    "Testing the model on the unseen data with the best weight matrix yields an 88.14% accuracy"
   ]
  },
  {
   "cell_type": "code",
   "execution_count": 92,
   "metadata": {},
   "outputs": [
    {
     "data": {
      "text/plain": [
       "0.8814166666666666"
      ]
     },
     "execution_count": 92,
     "metadata": {},
     "output_type": "execute_result"
    }
   ],
   "source": [
    "classification_accuracy(val_labels, multinomial_prediction_function(val_data_matrix,optimal_weight_matrix))"
   ]
  },
  {
   "cell_type": "markdown",
   "metadata": {},
   "source": [
    "##  Multinomial Logistic Regression (no regularisation)"
   ]
  },
  {
   "cell_type": "code",
   "execution_count": 97,
   "metadata": {},
   "outputs": [],
   "source": [
    "def model_validation_multinomial(inputdata,outputdata, iterations = 1000):\n",
    "    \n",
    "    \n",
    "#----------------------------- GENERATING TRAINING AND TEST SETS -------------------------------------- \n",
    "\n",
    "\n",
    "    train_data,train_labels,test_data,test_labels = train_test_partition(inputdata,outputdata)\n",
    "    \n",
    "    \n",
    "#---------------------------- TRAINING EACH MODEL WITH THE TRAINING SET -------------------------------    \n",
    "    \n",
    "        \n",
    "    initial_weight_matrix = np.zeros((train_data.shape[1], train_labels.shape[1]))\n",
    "\n",
    "    objective = lambda weight_matrix: multinomial_logistic_regression_cost_function(train_data,\\\n",
    "                                                                    weight_matrix, train_labels) \n",
    "    gradient = lambda weight_matrix: multinomial_logistic_regression_gradient(train_data, \\\n",
    "                                                                        weight_matrix, train_labels)\n",
    "\n",
    "    optimal_weight_matrix = gradient_descent_mnist(objective, gradient, initial_weight_matrix, \\\n",
    "                                      step_size=1.9/(np.linalg.norm(train_data, 2) ** 2), \\\n",
    "                                            no_of_iterations= iterations, print_output=10)\n",
    "    \n",
    "\n",
    "#---------------------------- TESTING THE MODEL ON TEST LABELS -------------------------------\n",
    "\n",
    "\n",
    "    classifier = classification_accuracy(test_labels@np.arange(0,test_labels.shape[1]), \\\n",
    "                        multinomial_prediction_function(test_data, optimal_weight_matrix))\n",
    "\n",
    "        \n",
    "    return classifier, optimal_weight_matrix"
   ]
  },
  {
   "cell_type": "code",
   "execution_count": 98,
   "metadata": {},
   "outputs": [
    {
     "name": "stdout",
     "output_type": "stream",
     "text": [
      "Iteration 10/500, objective = 63576.70587363499.\n",
      "Iteration 20/500, objective = 52975.35548883835.\n",
      "Iteration 30/500, objective = 45671.23495682073.\n",
      "Iteration 40/500, objective = 40504.07134598549.\n",
      "Iteration 50/500, objective = 36716.890745882025.\n",
      "Iteration 60/500, objective = 33842.30410250086.\n",
      "Iteration 70/500, objective = 31591.812126333807.\n",
      "Iteration 80/500, objective = 29782.93841789589.\n",
      "Iteration 90/500, objective = 28296.508176491952.\n",
      "Iteration 100/500, objective = 27052.11653975027.\n",
      "Iteration 110/500, objective = 25993.844977362198.\n",
      "Iteration 120/500, objective = 25081.724376254268.\n",
      "Iteration 130/500, objective = 24286.479991698685.\n",
      "Iteration 140/500, objective = 23586.200574638.\n",
      "Iteration 150/500, objective = 22964.16804587753.\n",
      "Iteration 160/500, objective = 22407.40687129787.\n",
      "Iteration 170/500, objective = 21905.69163207744.\n",
      "Iteration 180/500, objective = 21450.853507958444.\n",
      "Iteration 190/500, objective = 21036.28619636451.\n",
      "Iteration 200/500, objective = 20656.58767207157.\n",
      "Iteration 210/500, objective = 20307.296241292075.\n",
      "Iteration 220/500, objective = 19984.693199656424.\n",
      "Iteration 230/500, objective = 19685.6532938468.\n",
      "Iteration 240/500, objective = 19407.53000250609.\n",
      "Iteration 250/500, objective = 19148.066525809867.\n",
      "Iteration 260/500, objective = 18905.3259967683.\n",
      "Iteration 270/500, objective = 18677.636232213183.\n",
      "Iteration 280/500, objective = 18463.545601126556.\n",
      "Iteration 290/500, objective = 18261.787479163966.\n",
      "Iteration 300/500, objective = 18071.25139668337.\n",
      "Iteration 310/500, objective = 17890.959450435428.\n",
      "Iteration 320/500, objective = 17720.046888327095.\n",
      "Iteration 330/500, objective = 17557.74602792791.\n",
      "Iteration 340/500, objective = 17403.372857297527.\n",
      "Iteration 350/500, objective = 17256.315808531508.\n",
      "Iteration 360/500, objective = 17116.026302385562.\n",
      "Iteration 370/500, objective = 16982.010745204083.\n",
      "Iteration 380/500, objective = 16853.823723453574.\n",
      "Iteration 390/500, objective = 16731.06219109321.\n",
      "Iteration 400/500, objective = 16613.360484169752.\n",
      "Iteration 410/500, objective = 16500.38602793922.\n",
      "Iteration 420/500, objective = 16391.83562638068.\n",
      "Iteration 430/500, objective = 16287.432243591997.\n",
      "Iteration 440/500, objective = 16186.922202321843.\n",
      "Iteration 450/500, objective = 16090.072737639266.\n",
      "Iteration 460/500, objective = 15996.66985407597.\n",
      "Iteration 470/500, objective = 15906.516443018818.\n",
      "Iteration 480/500, objective = 15819.430624044016.\n",
      "Iteration 490/500, objective = 15735.244279575934.\n",
      "Iteration 500/500, objective = 15653.801756960418.\n",
      "Iteration completed after 500/500, objective = 15653.801756960418.\n"
     ]
    }
   ],
   "source": [
    "multinomial_acc, multinomial_weight_matrix = model_validation_2(train_test_data_matrix,\\\n",
    "                                                                train_test_ohv, iterations = 500)"
   ]
  },
  {
   "cell_type": "code",
   "execution_count": 101,
   "metadata": {},
   "outputs": [
    {
     "name": "stdout",
     "output_type": "stream",
     "text": [
      "Stored 'multinomial_acc' (float64)\n"
     ]
    }
   ],
   "source": [
    "%store multinomial_acc"
   ]
  },
  {
   "cell_type": "code",
   "execution_count": 119,
   "metadata": {},
   "outputs": [
    {
     "data": {
      "text/plain": [
       "0.8821527777777778"
      ]
     },
     "execution_count": 119,
     "metadata": {},
     "output_type": "execute_result"
    }
   ],
   "source": [
    "multinomial_acc"
   ]
  },
  {
   "cell_type": "code",
   "execution_count": 103,
   "metadata": {},
   "outputs": [
    {
     "name": "stdout",
     "output_type": "stream",
     "text": [
      "Stored 'multinomial_weight_matrix' (ndarray)\n"
     ]
    }
   ],
   "source": [
    "%store multinomial_weight_matrix"
   ]
  },
  {
   "cell_type": "code",
   "execution_count": null,
   "metadata": {},
   "outputs": [],
   "source": []
  },
  {
   "cell_type": "markdown",
   "metadata": {},
   "source": [
    "### Testing Model on Validation Set"
   ]
  },
  {
   "cell_type": "code",
   "execution_count": 100,
   "metadata": {},
   "outputs": [
    {
     "data": {
      "text/plain": [
       "0.8821666666666667"
      ]
     },
     "execution_count": 100,
     "metadata": {},
     "output_type": "execute_result"
    }
   ],
   "source": [
    "classification_accuracy(val_labels, multinomial_prediction_function(val_data_matrix,multinomial_weight_matrix))"
   ]
  },
  {
   "cell_type": "markdown",
   "metadata": {},
   "source": [
    "## Multinomial Logistic Regression (different degrees)"
   ]
  },
  {
   "cell_type": "code",
   "execution_count": 27,
   "metadata": {},
   "outputs": [],
   "source": [
    "%store -r train_test_data\n",
    "%store -r train_test_labels"
   ]
  },
  {
   "cell_type": "code",
   "execution_count": 30,
   "metadata": {},
   "outputs": [],
   "source": [
    "polynomial_base = []\n",
    "deg2 = polynomial_basis(train_test_data,degree = 2)\n",
    "deg4 = polynomial_basis(train_test_data,degree = 4)\n",
    "deg6 = polynomial_basis(train_test_data,degree = 6)\n",
    "polynomial_base.append(deg2)\n",
    "polynomial_base.append(deg4)\n",
    "polynomial_base.append(deg6)"
   ]
  },
  {
   "cell_type": "code",
   "execution_count": 33,
   "metadata": {},
   "outputs": [],
   "source": [
    "def model_validation_multinomial_deg(inputdata,outputdata, iterations = 1000):\n",
    "    \n",
    "    \n",
    "#----------------------------- GENERATING TRAINING AND TEST SETS -------------------------------------- \n",
    "\n",
    "\n",
    "    train_data,train_labels,test_data,test_labels = train_test_partition(inputdata,outputdata)\n",
    "    \n",
    "    \n",
    "#---------------------------- TRAINING EACH MODEL WITH THE TRAINING SET -------------------------------    \n",
    "    \n",
    "        \n",
    "    initial_weight_matrix = np.zeros((train_data.shape[1], train_labels.shape[1]))\n",
    "\n",
    "    objective = lambda weight_matrix: multinomial_logistic_regression_cost_function(train_data,\\\n",
    "                                                                    weight_matrix, train_labels) \n",
    "    gradient = lambda weight_matrix: multinomial_logistic_regression_gradient(train_data, \\\n",
    "                                                                        weight_matrix, train_labels)\n",
    "\n",
    "    optimal_weight_matrix = gradient_descent_mnist(objective, gradient, initial_weight_matrix, \\\n",
    "                                      step_size=1.9/(np.linalg.norm(train_data, 2) ** 2), \\\n",
    "                                            no_of_iterations= iterations, print_output=10)\n",
    "    \n",
    "\n",
    "#---------------------------- TESTING THE MODEL ON TEST LABELS -------------------------------\n",
    "\n",
    "\n",
    "    classifier = classification_accuracy(test_labels@np.arange(0,test_labels.shape[1]), \\\n",
    "                        multinomial_prediction_function(test_data, optimal_weight_matrix))\n",
    "    \n",
    "    print(classifier)\n",
    "\n",
    "        \n",
    "    return classifier, optimal_weight_matrix"
   ]
  },
  {
   "cell_type": "code",
   "execution_count": 40,
   "metadata": {},
   "outputs": [
    {
     "name": "stdout",
     "output_type": "stream",
     "text": [
      "Iteration 10/500, objective = 63985.888221352936.\n",
      "Iteration 20/500, objective = 53467.50498958179.\n",
      "Iteration 30/500, objective = 46104.929812638584.\n",
      "Iteration 40/500, objective = 40847.03124132837.\n",
      "Iteration 50/500, objective = 36972.57378244036.\n",
      "Iteration 60/500, objective = 34022.78923905284.\n",
      "Iteration 70/500, objective = 31709.378983384016.\n",
      "Iteration 80/500, objective = 29847.978156237958.\n",
      "Iteration 90/500, objective = 28317.350736661556.\n",
      "Iteration 100/500, objective = 27035.347578182133.\n",
      "Iteration 110/500, objective = 25944.681235439613.\n",
      "Iteration 120/500, objective = 25004.333868331643.\n",
      "Iteration 130/500, objective = 24184.23043470099.\n",
      "Iteration 140/500, objective = 23461.845812668125.\n",
      "Iteration 150/500, objective = 22819.98662335133.\n",
      "Iteration 160/500, objective = 22245.30518919502.\n",
      "Iteration 170/500, objective = 21727.281270999207.\n",
      "Iteration 180/500, objective = 21257.509746865.\n",
      "Iteration 190/500, objective = 20829.19278361212.\n",
      "Iteration 200/500, objective = 20436.77146733306.\n",
      "Iteration 210/500, objective = 20075.654322865073.\n",
      "Iteration 220/500, objective = 19742.014308431804.\n",
      "Iteration 230/500, objective = 19432.634974568537.\n",
      "Iteration 240/500, objective = 19144.79244092758.\n",
      "Iteration 250/500, objective = 18876.16382197132.\n",
      "Iteration 260/500, objective = 18624.755428685563.\n",
      "Iteration 270/500, objective = 18388.845929251514.\n",
      "Iteration 280/500, objective = 18166.940947376566.\n",
      "Iteration 290/500, objective = 17957.73649388868.\n",
      "Iteration 300/500, objective = 17760.089284182843.\n",
      "Iteration 310/500, objective = 17572.992470396395.\n",
      "Iteration 320/500, objective = 17395.55566631.\n",
      "Iteration 330/500, objective = 17226.988401515693.\n",
      "Iteration 340/500, objective = 17066.586334742045.\n",
      "Iteration 350/500, objective = 16913.719702145016.\n",
      "Iteration 360/500, objective = 16767.82358744257.\n",
      "Iteration 370/500, objective = 16628.38968601659.\n",
      "Iteration 380/500, objective = 16494.95930101525.\n",
      "Iteration 390/500, objective = 16367.117360850516.\n",
      "Iteration 400/500, objective = 16244.487287752796.\n",
      "Iteration 410/500, objective = 16126.726578841055.\n",
      "Iteration 420/500, objective = 16013.522986433178.\n",
      "Iteration 430/500, objective = 15904.591204494744.\n",
      "Iteration 440/500, objective = 15799.669984346325.\n",
      "Iteration 450/500, objective = 15698.519615847532.\n",
      "Iteration 460/500, objective = 15600.91972091765.\n",
      "Iteration 470/500, objective = 15506.667314917013.\n",
      "Iteration 480/500, objective = 15415.575098543914.\n",
      "Iteration 490/500, objective = 15327.469948736943.\n",
      "Iteration 500/500, objective = 15242.191581928862.\n",
      "Iteration completed after 500/500, objective = 15242.191581928862.\n",
      "0.8826388888888889\n",
      "Iteration 10/500, objective = 64316.63365380237.\n",
      "Iteration 20/500, objective = 53996.345257169836.\n",
      "Iteration 30/500, objective = 46719.25370257433.\n",
      "Iteration 40/500, objective = 41484.89802168094.\n",
      "Iteration 50/500, objective = 37604.85188281967.\n",
      "Iteration 60/500, objective = 34637.40783723798.\n",
      "Iteration 70/500, objective = 32302.316823394805.\n",
      "Iteration 80/500, objective = 30418.828668420847.\n",
      "Iteration 90/500, objective = 28867.238143560226.\n",
      "Iteration 100/500, objective = 27565.961491909922.\n",
      "Iteration 110/500, objective = 26457.835956928866.\n",
      "Iteration 120/500, objective = 25501.774774448855.\n",
      "Iteration 130/500, objective = 24667.557109379286.\n",
      "Iteration 140/500, objective = 23932.48990255253.\n",
      "Iteration 150/500, objective = 23279.214552287114.\n",
      "Iteration 160/500, objective = 22694.231278226478.\n",
      "Iteration 170/500, objective = 22166.884320379948.\n",
      "Iteration 180/500, objective = 21688.649837159337.\n",
      "Iteration 190/500, objective = 21252.626882785855.\n",
      "Iteration 200/500, objective = 20853.1673283068.\n",
      "Iteration 210/500, objective = 20485.60258494319.\n",
      "Iteration 220/500, objective = 20146.038908926075.\n",
      "Iteration 230/500, objective = 19831.20205201951.\n",
      "Iteration 240/500, objective = 19538.317929029894.\n",
      "Iteration 250/500, objective = 19265.019924524942.\n",
      "Iteration 260/500, objective = 19009.276146285833.\n",
      "Iteration 270/500, objective = 18769.331785768365.\n",
      "Iteration 280/500, objective = 18543.663042183267.\n",
      "Iteration 290/500, objective = 18330.93998585581.\n",
      "Iteration 300/500, objective = 18129.99639614578.\n",
      "Iteration 310/500, objective = 17939.805088110053.\n",
      "Iteration 320/500, objective = 17759.457593604104.\n",
      "Iteration 330/500, objective = 17588.147323141045.\n",
      "Iteration 340/500, objective = 17425.155529936852.\n",
      "Iteration 350/500, objective = 17269.839544954313.\n",
      "Iteration 360/500, objective = 17121.62286404883.\n",
      "Iteration 370/500, objective = 16979.986754555634.\n",
      "Iteration 380/500, objective = 16844.463115400416.\n",
      "Iteration 390/500, objective = 16714.628376830937.\n",
      "Iteration 400/500, objective = 16590.09826669428.\n",
      "Iteration 410/500, objective = 16470.52330244329.\n",
      "Iteration 420/500, objective = 16355.584893665295.\n",
      "Iteration 430/500, objective = 16244.991960438378.\n",
      "Iteration 440/500, objective = 16138.477989271323.\n",
      "Iteration 450/500, objective = 16035.79846170642.\n",
      "Iteration 460/500, objective = 15936.728601466511.\n",
      "Iteration 470/500, objective = 15841.061394855835.\n",
      "Iteration 480/500, objective = 15748.605846355473.\n",
      "Iteration 490/500, objective = 15659.185437307819.\n",
      "Iteration 500/500, objective = 15572.636760518702.\n",
      "Iteration completed after 500/500, objective = 15572.636760518702.\n",
      "0.8788194444444445\n",
      "Iteration 10/500, objective = 64617.45123987741.\n",
      "Iteration 20/500, objective = 54459.36552507009.\n",
      "Iteration 30/500, objective = 47218.06887499831.\n",
      "Iteration 40/500, objective = 41963.730834358634.\n",
      "Iteration 50/500, objective = 38045.147161380744.\n",
      "Iteration 60/500, objective = 35036.106700275726.\n",
      "Iteration 70/500, objective = 32661.93007005906.\n",
      "Iteration 80/500, objective = 30743.459581044433.\n",
      "Iteration 90/500, objective = 29161.100411434305.\n",
      "Iteration 100/500, objective = 27832.882108362846.\n",
      "Iteration 110/500, objective = 26701.134885885094.\n",
      "Iteration 120/500, objective = 25724.281432693464.\n",
      "Iteration 130/500, objective = 24871.669844553115.\n",
      "Iteration 140/500, objective = 24120.242675571513.\n",
      "Iteration 150/500, objective = 23452.338159130202.\n",
      "Iteration 160/500, objective = 22854.205578965026.\n",
      "Iteration 170/500, objective = 22314.981404737406.\n",
      "Iteration 180/500, objective = 21825.969218343245.\n",
      "Iteration 190/500, objective = 21380.12406222021.\n",
      "Iteration 200/500, objective = 20971.67698733641.\n",
      "Iteration 210/500, objective = 20595.857470672683.\n",
      "Iteration 220/500, objective = 20248.68528249556.\n",
      "Iteration 230/500, objective = 19926.81239136947.\n",
      "Iteration 240/500, objective = 19627.401432608214.\n",
      "Iteration 250/500, objective = 19348.031246086935.\n",
      "Iteration 260/500, objective = 19086.62269959366.\n",
      "Iteration 270/500, objective = 18841.379886774917.\n",
      "Iteration 280/500, objective = 18610.74310090296.\n",
      "Iteration 290/500, objective = 18393.35091702476.\n",
      "Iteration 300/500, objective = 18188.00938413037.\n",
      "Iteration 310/500, objective = 17993.66681518346.\n",
      "Iteration 320/500, objective = 17809.39301996149.\n",
      "Iteration 330/500, objective = 17634.362090625447.\n",
      "Iteration 340/500, objective = 17467.838048399437.\n",
      "Iteration 350/500, objective = 17309.162809743328.\n",
      "Iteration 360/500, objective = 17157.74604473631.\n",
      "Iteration 370/500, objective = 17013.056588238487.\n",
      "Iteration 380/500, objective = 16874.615132407354.\n",
      "Iteration 390/500, objective = 16741.987982173265.\n",
      "Iteration 400/500, objective = 16614.78169692352.\n",
      "Iteration 410/500, objective = 16492.6384745267.\n",
      "Iteration 420/500, objective = 16375.23215999299.\n",
      "Iteration 430/500, objective = 16262.264781974713.\n",
      "Iteration 440/500, objective = 16153.463537124535.\n",
      "Iteration 450/500, objective = 16048.578155928244.\n",
      "Iteration 460/500, objective = 15947.37859466308.\n",
      "Iteration 470/500, objective = 15849.653007152696.\n",
      "Iteration 480/500, objective = 15755.205957381655.\n",
      "Iteration 490/500, objective = 15663.85684011518.\n",
      "Iteration 500/500, objective = 15575.438481716217.\n",
      "Iteration completed after 500/500, objective = 15575.438481716217.\n",
      "0.8763888888888889\n"
     ]
    }
   ],
   "source": [
    "classification = []\n",
    "optimal_weight_matrix = []\n",
    "for deg in polynomial_base:\n",
    "    classification_acc, optimal_weights = model_validation_multinomial_deg(deg, train_test_ohv, iterations = 500)\n",
    "    classification.append(classification_acc)\n",
    "    optimal_weight_matrix.append(optimal_weights)\n",
    "    "
   ]
  },
  {
   "cell_type": "code",
   "execution_count": 43,
   "metadata": {},
   "outputs": [],
   "source": [
    "deg_classification = classification\n",
    "deg_optimal_weights = optimal_weight_matrix"
   ]
  },
  {
   "cell_type": "code",
   "execution_count": 44,
   "metadata": {},
   "outputs": [
    {
     "name": "stdout",
     "output_type": "stream",
     "text": [
      "Stored 'deg_classification' (list)\n"
     ]
    }
   ],
   "source": [
    "%store deg_classification"
   ]
  },
  {
   "cell_type": "code",
   "execution_count": 45,
   "metadata": {},
   "outputs": [
    {
     "name": "stdout",
     "output_type": "stream",
     "text": [
      "Stored 'deg_optimal_weights' (list)\n"
     ]
    }
   ],
   "source": [
    "%store deg_optimal_weights"
   ]
  },
  {
   "cell_type": "markdown",
   "metadata": {},
   "source": [
    "## LASSO Logistic Regression "
   ]
  },
  {
   "cell_type": "code",
   "execution_count": 114,
   "metadata": {},
   "outputs": [],
   "source": [
    "def model_validation_LASSO(inputdata,outputdata, regularisation_parameters, iterations = 1000):\n",
    "\n",
    "    \n",
    "#----------------------------- TEST RESULTS FOR EACH PARAMETER ---------------------------------    \n",
    "    \n",
    "    \n",
    "    parameters = []\n",
    "    classification_accuracies = []\n",
    "    optimal_weight_matrices = []\n",
    "    \n",
    "    \n",
    "    \n",
    "#----------------------------- GENERATING TRAINING AND TEST SETS -------------------------------------- \n",
    "\n",
    "\n",
    "    train_data,train_labels,test_data,test_labels = train_test_partition(inputdata,outputdata)\n",
    "    \n",
    "    \n",
    "#---------------------------- TRAINING EACH MODEL WITH THE TRAINING SET -------------------------------    \n",
    "    \n",
    "    stepsize = 1.9/(np.linalg.norm(train_data, 2) ** 2)\n",
    "    for alpha in regularisation_parameters:\n",
    "        parameters.append(alpha)\n",
    "        \n",
    "        initial_weight_matrix = np.zeros((train_data.shape[1], train_labels.shape[1]))\n",
    "        \n",
    "        objective = lambda weight_matrix: lasso_logistic_regression_cost_function(train_data,\\\n",
    "                                                                    weight_matrix, train_labels, \\\n",
    "                                                                                   alpha)\n",
    "        gradient = lambda weight_matrix: multinomial_logistic_regression_gradient(train_data,\\\n",
    "                                                                    weight_matrix, train_labels)\n",
    "\n",
    "        proximal_map = lambda weights: soft_thresholding(weights, alpha * \\\n",
    "                                                 stepsize)\n",
    "\n",
    "\n",
    "        \n",
    "        optimal_weight_matrix, value = proximal_gradient_descent(objective, gradient, proximal_map, \\\n",
    "                                                                 initial_weight_matrix, \\\n",
    "                                                step_size=stepsize, \\\n",
    "                              no_of_iterations= iterations, print_output=10)\n",
    "        \n",
    "        optimal_weight_matrices.append(optimal_weight_matrix)\n",
    "        \n",
    "        \n",
    "#---------------------------- TESTING THE MODEL ON TEST LABELS -------------------------------\n",
    "        \n",
    "    \n",
    "        classifier = classification_accuracy(test_labels@np.arange(0,test_labels.shape[1]), \\\n",
    "                            multinomial_prediction_function(test_data, optimal_weight_matrix))\n",
    "        \n",
    "        print(classifier)\n",
    "            \n",
    "        classification_accuracies.append(classifier)\n",
    "        \n",
    "    return list(zip(parameters,classification_accuracies)), \\\n",
    "                                optimal_weight_matrices[np.argmax(classification_accuracies)]"
   ]
  },
  {
   "cell_type": "code",
   "execution_count": 117,
   "metadata": {},
   "outputs": [
    {
     "name": "stdout",
     "output_type": "stream",
     "text": [
      "Iteration 10/500, objective = 63593.81038805617.\n",
      "Iteration 20/500, objective = 52984.92650261066.\n",
      "Iteration 30/500, objective = 45669.30975619244.\n",
      "Iteration 40/500, objective = 40493.24292070312.\n",
      "Iteration 50/500, objective = 36700.143964495684.\n",
      "Iteration 60/500, objective = 33821.72787837282.\n",
      "Iteration 70/500, objective = 31568.660018862574.\n",
      "Iteration 80/500, objective = 29757.90130078585.\n",
      "Iteration 90/500, objective = 28269.93771098292.\n",
      "Iteration 100/500, objective = 27024.172055538005.\n",
      "Iteration 110/500, objective = 25964.582529447016.\n",
      "Iteration 120/500, objective = 25051.148573686394.\n",
      "Iteration 130/500, objective = 24254.57308706128.\n",
      "Iteration 140/500, objective = 23552.938305214608.\n",
      "Iteration 150/500, objective = 22929.52781948043.\n",
      "Iteration 160/500, objective = 22371.371524454178.\n",
      "Iteration 170/500, objective = 21868.250800123.\n",
      "Iteration 180/500, objective = 21412.003707262807.\n",
      "Iteration 190/500, objective = 20996.030279186063.\n",
      "Iteration 200/500, objective = 20614.934028965876.\n",
      "Iteration 210/500, objective = 20264.257889041994.\n",
      "Iteration 220/500, objective = 19940.28693382393.\n",
      "Iteration 230/500, objective = 19639.898840892343.\n",
      "Iteration 240/500, objective = 19360.449349239563.\n",
      "Iteration 250/500, objective = 19099.68332668711.\n",
      "Iteration 260/500, objective = 18855.665091099723.\n",
      "Iteration 270/500, objective = 18626.723252767544.\n",
      "Iteration 280/500, objective = 18411.40659848744.\n",
      "Iteration 290/500, objective = 18208.448675477837.\n",
      "Iteration 300/500, objective = 18016.738964619486.\n",
      "Iteration 310/500, objective = 17835.299342039983.\n",
      "Iteration 320/500, objective = 17663.264705376598.\n",
      "Iteration 330/500, objective = 17499.866921857953.\n",
      "Iteration 340/500, objective = 17344.421456615306.\n",
      "Iteration 350/500, objective = 17196.316157125406.\n",
      "Iteration 360/500, objective = 17055.001817821827.\n",
      "Iteration 370/500, objective = 16919.984225862616.\n",
      "Iteration 380/500, objective = 16790.81729041185.\n",
      "Iteration 390/500, objective = 16667.097275391552.\n",
      "Iteration 400/500, objective = 16548.45785527124.\n",
      "Iteration 410/500, objective = 16434.56579630848.\n",
      "Iteration 420/500, objective = 16325.117240555119.\n",
      "Iteration 430/500, objective = 16219.834516597908.\n",
      "Iteration 440/500, objective = 16118.463321119048.\n",
      "Iteration 450/500, objective = 16020.770272899757.\n",
      "Iteration 460/500, objective = 15926.540795554196.\n",
      "Iteration 470/500, objective = 15835.57720048148.\n",
      "Iteration 480/500, objective = 15747.697055168202.\n",
      "Iteration 490/500, objective = 15662.731708559959.\n",
      "Iteration 500/500, objective = 15580.52500197599.\n",
      "Iteration completed after 500/500, objective = 15580.52500197599.\n",
      "0.8829861111111111\n",
      "Iteration 10/500, objective = 63594.54587929053.\n",
      "Iteration 20/500, objective = 52986.12995764606.\n",
      "Iteration 30/500, objective = 45670.759644530895.\n",
      "Iteration 40/500, objective = 40494.82393482917.\n",
      "Iteration 50/500, objective = 36701.807913442.\n",
      "Iteration 60/500, objective = 33823.448275502924.\n",
      "Iteration 70/500, objective = 31570.422435140707.\n",
      "Iteration 80/500, objective = 29759.698105057993.\n",
      "Iteration 90/500, objective = 28271.764616509787.\n",
      "Iteration 100/500, objective = 27026.026423257998.\n",
      "Iteration 110/500, objective = 25966.46253911587.\n",
      "Iteration 120/500, objective = 25053.05330779278.\n",
      "Iteration 130/500, objective = 24256.501756443336.\n",
      "Iteration 140/500, objective = 23554.890139345862.\n",
      "Iteration 150/500, objective = 22931.502366695346.\n",
      "Iteration 160/500, objective = 22373.368352851438.\n",
      "Iteration 170/500, objective = 21870.26945620743.\n",
      "Iteration 180/500, objective = 21414.04363170985.\n",
      "Iteration 190/500, objective = 20998.090851680812.\n",
      "Iteration 200/500, objective = 20617.014805956038.\n",
      "Iteration 210/500, objective = 20266.3585084015.\n",
      "Iteration 220/500, objective = 19942.407281797197.\n",
      "Iteration 230/500, objective = 19642.038573822272.\n",
      "Iteration 240/500, objective = 19362.608066228688.\n",
      "Iteration 250/500, objective = 19101.860566903175.\n",
      "Iteration 260/500, objective = 18857.860450225224.\n",
      "Iteration 270/500, objective = 18628.936514227076.\n",
      "Iteration 280/500, objective = 18413.637376154395.\n",
      "Iteration 290/500, objective = 18210.696627833542.\n",
      "Iteration 300/500, objective = 18019.003731907153.\n",
      "Iteration 310/500, objective = 17837.58054566639.\n",
      "Iteration 320/500, objective = 17665.561969522358.\n",
      "Iteration 330/500, objective = 17502.17989365466.\n",
      "Iteration 340/500, objective = 17346.749842845882.\n",
      "Iteration 350/500, objective = 17198.659664791398.\n",
      "Iteration 360/500, objective = 17057.36013808789.\n",
      "Iteration 370/500, objective = 16922.357343848726.\n",
      "Iteration 380/500, objective = 16793.205038511587.\n",
      "Iteration 390/500, objective = 16669.49933900593.\n",
      "Iteration 400/500, objective = 16550.87402026048.\n",
      "Iteration 410/500, objective = 16436.995877466787.\n",
      "Iteration 420/500, objective = 16327.561005007998.\n",
      "Iteration 430/500, objective = 16222.291796342828.\n",
      "Iteration 440/500, objective = 16120.93392973946.\n",
      "Iteration 450/500, objective = 16023.253980659012.\n",
      "Iteration 460/500, objective = 15929.037467669672.\n",
      "Iteration 470/500, objective = 15838.086621878341.\n",
      "Iteration 480/500, objective = 15750.219021042885.\n",
      "Iteration 490/500, objective = 15665.26600625552.\n",
      "Iteration 500/500, objective = 15583.07148678884.\n",
      "Iteration completed after 500/500, objective = 15583.07148678884.\n",
      "0.8829861111111111\n",
      "Iteration 10/500, objective = 63601.90063976348.\n",
      "Iteration 20/500, objective = 52998.16493862508.\n",
      "Iteration 30/500, objective = 45685.25907233342.\n",
      "Iteration 40/500, objective = 40510.63500103952.\n",
      "Iteration 50/500, objective = 36718.448187882655.\n",
      "Iteration 60/500, objective = 33840.65291706684.\n",
      "Iteration 70/500, objective = 31588.047295990407.\n",
      "Iteration 80/500, objective = 29777.66686755645.\n",
      "Iteration 90/500, objective = 28290.034644106196.\n",
      "Iteration 100/500, objective = 27044.570983773432.\n",
      "Iteration 110/500, objective = 25985.263684652982.\n",
      "Iteration 120/500, objective = 25072.101937799376.\n",
      "Iteration 130/500, objective = 24275.789989582376.\n",
      "Iteration 140/500, objective = 23574.409903625852.\n",
      "Iteration 150/500, objective = 22951.249925327258.\n",
      "Iteration 160/500, objective = 22393.338884597102.\n",
      "Iteration 170/500, objective = 21890.45818722914.\n",
      "Iteration 180/500, objective = 21434.444842434714.\n",
      "Iteration 190/500, objective = 21018.698372322047.\n",
      "Iteration 200/500, objective = 20637.82411749176.\n",
      "Iteration 210/500, objective = 20287.366606373897.\n",
      "Iteration 220/500, objective = 19963.612840043144.\n",
      "Iteration 230/500, objective = 19663.4378972911.\n",
      "Iteration 240/500, objective = 19384.19714957387.\n",
      "Iteration 250/500, objective = 19123.634927523926.\n",
      "Iteration 260/500, objective = 18879.81641396344.\n",
      "Iteration 270/500, objective = 18651.07160989305.\n",
      "Iteration 280/500, objective = 18435.947883838933.\n",
      "Iteration 290/500, objective = 18233.179054435295.\n",
      "Iteration 300/500, objective = 18041.654238507977.\n",
      "Iteration 310/500, objective = 17860.395320232372.\n",
      "Iteration 320/500, objective = 17688.537281441564.\n",
      "Iteration 330/500, objective = 17525.3121333713.\n",
      "Iteration 340/500, objective = 17370.03645257939.\n",
      "Iteration 350/500, objective = 17222.09750553098.\n",
      "Iteration 360/500, objective = 17080.946445206962.\n",
      "Iteration 370/500, objective = 16946.0923847784.\n",
      "Iteration 380/500, objective = 16817.086120350967.\n",
      "Iteration 390/500, objective = 16693.523556994598.\n",
      "Iteration 400/500, objective = 16575.039627912283.\n",
      "Iteration 410/500, objective = 16461.300475782788.\n",
      "Iteration 420/500, objective = 16352.002513308431.\n",
      "Iteration 430/500, objective = 16246.868777404898.\n",
      "Iteration 440/500, objective = 16145.643998762407.\n",
      "Iteration 450/500, objective = 16048.095596341202.\n",
      "Iteration 460/500, objective = 15954.008851360204.\n",
      "Iteration 470/500, objective = 15863.18561972785.\n",
      "Iteration 480/500, objective = 15775.443548222096.\n",
      "Iteration 490/500, objective = 15690.613932162665.\n",
      "Iteration 500/500, objective = 15608.54196083051.\n",
      "Iteration completed after 500/500, objective = 15608.54196083051.\n",
      "0.8828472222222222\n"
     ]
    }
   ],
   "source": [
    "lasso_accuracies, lasso_optimal_weight_matrix = model_validation_LASSO(train_test_data_matrix,\\\n",
    "                                                                       train_test_ohv,[1,10,100],\\\n",
    "                                                                      iterations = 500)"
   ]
  },
  {
   "cell_type": "code",
   "execution_count": 120,
   "metadata": {},
   "outputs": [
    {
     "name": "stdout",
     "output_type": "stream",
     "text": [
      "Stored 'lasso_accuracies' (list)\n"
     ]
    }
   ],
   "source": [
    "%store lasso_accuracies"
   ]
  },
  {
   "cell_type": "code",
   "execution_count": 121,
   "metadata": {},
   "outputs": [
    {
     "name": "stdout",
     "output_type": "stream",
     "text": [
      "Stored 'lasso_optimal_weight_matrix' (ndarray)\n"
     ]
    }
   ],
   "source": [
    "%store lasso_optimal_weight_matrix"
   ]
  },
  {
   "cell_type": "markdown",
   "metadata": {},
   "source": [
    "### Testing on Validation Set"
   ]
  },
  {
   "cell_type": "code",
   "execution_count": 122,
   "metadata": {},
   "outputs": [
    {
     "data": {
      "text/plain": [
       "0.8811666666666667"
      ]
     },
     "execution_count": 122,
     "metadata": {},
     "output_type": "execute_result"
    }
   ],
   "source": [
    "classification_accuracy(val_labels,multinomial_prediction_function(val_data_matrix,lasso_optimal_weight_matrix))"
   ]
  },
  {
   "cell_type": "markdown",
   "metadata": {
    "deletable": false,
    "editable": false,
    "nbgrader": {
     "cell_type": "markdown",
     "checksum": "96d581f44d3ec35e6124a992c1c895ac",
     "grade": false,
     "grade_id": "cell-ae67818ad4f4e5d7",
     "locked": true,
     "schema_version": 3,
     "solution": false,
     "task": false
    }
   },
   "source": [
    "Specify the code for your best data model (linear, polynomial or else) applied to your best weights and assign the result to the output of the function **model_function**. The data model has to be created from the argument _inputs_, which is a two-dimensional array where the first dimension equals the number of samples and the second dimension the dimension of the data (784 in case of MNIST). If, for example, your model is a linear basis model applied to a weight matrix _best_weight_matrix_, then your code could look like:\n",
    "\n",
    "```\n",
    "def model_function(inputs, best_weight_matrix):\n",
    "    return polynomial_basis(inputs, 1) @ best_weight_matrix\n",
    "```"
   ]
  },
  {
   "cell_type": "code",
   "execution_count": null,
   "metadata": {
    "deletable": false,
    "nbgrader": {
     "cell_type": "code",
     "checksum": "8d2e6423a8f730e83447fe6590cf5c09",
     "grade": false,
     "grade_id": "cell-d1751b92b149be1b",
     "locked": false,
     "schema_version": 3,
     "solution": true,
     "task": false
    }
   },
   "outputs": [],
   "source": [
    "'''Specify your model function. The output has to be a two-dimensional array\n",
    "    You are allowed to include additional input arguments.'''\n",
    "def model_function(inputs):\n",
    "    # YOUR CODE HERE\n",
    "    raise NotImplementedError()"
   ]
  },
  {
   "cell_type": "markdown",
   "metadata": {
    "deletable": false,
    "editable": false,
    "nbgrader": {
     "cell_type": "markdown",
     "checksum": "87eceb699c2ee18fc35f993e4e1415d5",
     "grade": false,
     "grade_id": "cell-41aef5fe41114aae",
     "locked": true,
     "schema_version": 3,
     "solution": false,
     "task": false
    }
   },
   "source": [
    "The code in the next cell will then evaluate the classification performance of your best classifier when applied to hidden data that is similar (but different) to the MNIST training dataset. The best classification performance will be awarded **three extra marks** (capped at 100). "
   ]
  },
  {
   "cell_type": "code",
   "execution_count": null,
   "metadata": {
    "deletable": false,
    "editable": false,
    "nbgrader": {
     "cell_type": "code",
     "checksum": "2b8cdb2d64d0b8bc862f5d1a978d5a4c",
     "grade": false,
     "grade_id": "cell-7d9f3270c59caca4",
     "locked": true,
     "schema_version": 3,
     "solution": false,
     "task": false
    }
   },
   "outputs": [],
   "source": [
    "### CODE HIDDEN ###"
   ]
  },
  {
   "cell_type": "markdown",
   "metadata": {
    "deletable": false,
    "editable": false,
    "nbgrader": {
     "cell_type": "markdown",
     "checksum": "dbb06ce796df75a4b1f095cfaf5edd24",
     "grade": false,
     "grade_id": "cell-4f318e920d827dde",
     "locked": true,
     "schema_version": 3,
     "solution": false,
     "task": false
    }
   },
   "source": [
    "This completes the MTH786 coding project requirements. Please do not forget to write a detailed report on your findings (at most 8 pages) with $\\LaTeX$ and your favourite editor. If no editor is at hand, please feel free to use online editors such as [Overleaf](https://www.overleaf.com)."
   ]
  }
 ],
 "metadata": {
  "kernelspec": {
   "display_name": "Python 3",
   "language": "python",
   "name": "python3"
  },
  "language_info": {
   "codemirror_mode": {
    "name": "ipython",
    "version": 3
   },
   "file_extension": ".py",
   "mimetype": "text/x-python",
   "name": "python",
   "nbconvert_exporter": "python",
   "pygments_lexer": "ipython3",
   "version": "3.8.5"
  }
 },
 "nbformat": 4,
 "nbformat_minor": 2
}
